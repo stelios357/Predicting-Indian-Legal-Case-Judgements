{
 "cells": [
  {
   "cell_type": "markdown",
   "id": "fwojLHeUGpS3",
   "metadata": {
    "id": "fwojLHeUGpS3"
   },
   "source": [
    "# Code"
   ]
  },
  {
   "cell_type": "code",
   "execution_count": 1,
   "id": "da85070b",
   "metadata": {
    "ExecuteTime": {
     "end_time": "2021-12-03T19:48:49.374640Z",
     "start_time": "2021-12-03T19:48:45.785160Z"
    },
    "id": "da85070b"
   },
   "outputs": [],
   "source": [
    "import pandas as pd\n",
    "import numpy as np\n",
    "from tensorflow import keras\n",
    "from keras import layers\n",
    "from sklearn.model_selection import train_test_split\n",
    "from keras.callbacks import EarlyStopping\n",
    "from keras.callbacks import ModelCheckpoint\n",
    "from matplotlib import pyplot\n",
    "from keras.models import load_model\n",
    "from keras.models import Sequential\n",
    "from keras.layers import Dense\n",
    "from keras.layers import Dropout\n",
    "from keras.layers import LSTM\n",
    "from keras.utils import np_utils\n",
    "import numpy as np\n",
    "from keras.preprocessing import sequence\n",
    "from keras.models import Sequential\n",
    "from keras.layers import Dense, Dropout, Embedding, LSTM, Bidirectional\n",
    "from keras.datasets import imdb "
   ]
  },
  {
   "cell_type": "code",
   "execution_count": 2,
   "id": "72773790",
   "metadata": {
    "id": "72773790"
   },
   "outputs": [],
   "source": [
    "filename = '../Data/BERT2560/Combined/reshape_bb_2560.csv'"
   ]
  },
  {
   "cell_type": "code",
   "execution_count": 3,
   "id": "a94793ad",
   "metadata": {
    "ExecuteTime": {
     "end_time": "2021-12-03T19:51:23.396609Z",
     "start_time": "2021-12-03T19:51:19.205230Z"
    },
    "id": "a94793ad"
   },
   "outputs": [],
   "source": [
    "data = pd.read_csv(filename)"
   ]
  },
  {
   "cell_type": "code",
   "execution_count": 4,
   "id": "91911a5e",
   "metadata": {
    "id": "91911a5e"
   },
   "outputs": [],
   "source": [
    "filename = filename[:filename.index('.')]"
   ]
  },
  {
   "cell_type": "code",
   "execution_count": 5,
   "id": "fybg0x1waaz8",
   "metadata": {
    "id": "fybg0x1waaz8"
   },
   "outputs": [],
   "source": [
    "# data = data[:2000]\n",
    "label = data['label']\n",
    "features = data.drop(['uid', 'label'], axis=1)"
   ]
  },
  {
   "cell_type": "code",
   "execution_count": 6,
   "id": "57c1b664",
   "metadata": {},
   "outputs": [],
   "source": [
    "del data"
   ]
  },
  {
   "cell_type": "code",
   "execution_count": 7,
   "id": "62e91c71",
   "metadata": {},
   "outputs": [],
   "source": [
    "features = features.to_numpy()\n",
    "features = features.reshape(39259, 5, 768)"
   ]
  },
  {
   "cell_type": "code",
   "execution_count": 8,
   "id": "2a6b8577",
   "metadata": {
    "colab": {
     "base_uri": "https://localhost:8080/"
    },
    "id": "2a6b8577",
    "outputId": "37eaa80f-6f1c-44e8-f753-c30b1e0fc6a3"
   },
   "outputs": [
    {
     "name": "stdout",
     "output_type": "stream",
     "text": [
      "(27481, 5, 768) (27481,) (11778, 5, 768) (11778,)\n",
      "(7066, 5, 768) (4712, 5, 768) (7066,) (4712,)\n"
     ]
    }
   ],
   "source": [
    "X, a, y, b = train_test_split(features, label, random_state=42, stratify=label, test_size=0.3)\n",
    "print(X.shape, y.shape, a.shape, b.shape)\n",
    "\n",
    "Xv, Xt, yv, yt = train_test_split(a, b, random_state=42, stratify=b, test_size=0.4)\n",
    "print(Xv.shape, Xt.shape, yv.shape, yt.shape)\n",
    "\n",
    "# Xv = X[-6000:]\n",
    "# X = X[:-6000]"
   ]
  },
  {
   "cell_type": "code",
   "execution_count": 9,
   "id": "20e46ce2",
   "metadata": {},
   "outputs": [],
   "source": [
    "# defining the LSTM model\n",
    "model = Sequential()\n",
    "model.add(Bidirectional(LSTM(100, input_shape=(features.shape[1], features.shape[2]), return_sequences=True, activation='relu'))) #bidirectional lstm\n",
    "model.add(Dropout(0.25)) #do for both bid and normal lstm \n",
    "model.add(Bidirectional(LSTM(50, return_sequences=True)))\n",
    "model.add(Dropout(0.2))\n",
    "model.add(Bidirectional(LSTM(20)))\n",
    "model.add(Dropout(0.1))\n",
    "model.add(Dense(1, activation='sigmoid'))"
   ]
  },
  {
   "cell_type": "code",
   "execution_count": 10,
   "id": "a0c6d7cf",
   "metadata": {
    "id": "a0c6d7cf"
   },
   "outputs": [],
   "source": [
    "model.compile(optimizer='adam', loss=keras.losses.BinaryCrossentropy(), metrics=['accuracy'])"
   ]
  },
  {
   "cell_type": "code",
   "execution_count": 11,
   "id": "04c62895",
   "metadata": {
    "id": "04c62895"
   },
   "outputs": [],
   "source": [
    "es = EarlyStopping(monitor='val_loss', mode='min', verbose=1, patience=20)\n",
    "mc = ModelCheckpoint('best_model_bilstm_bb' + filename + '_.h5', monitor='val_accuracy', mode='max', verbose=1, save_best_only=True)"
   ]
  },
  {
   "cell_type": "code",
   "execution_count": 12,
   "id": "c3ceab43",
   "metadata": {
    "colab": {
     "base_uri": "https://localhost:8080/"
    },
    "id": "c3ceab43",
    "outputId": "c6dcd598-3c37-4245-e7cc-eb9bdcb00c6b"
   },
   "outputs": [
    {
     "name": "stdout",
     "output_type": "stream",
     "text": [
      "Epoch 1/1000\n",
      "1718/1718 [==============================] - ETA: 0s - loss: 0.6834 - accuracy: 0.5635\n",
      "Epoch 1: val_accuracy improved from -inf to 0.56878, saving model to best_model_bilstm_bb_.h5\n",
      "1718/1718 [==============================] - 62s 26ms/step - loss: 0.6834 - accuracy: 0.5635 - val_loss: 0.6824 - val_accuracy: 0.5688\n",
      "Epoch 2/1000\n",
      "1716/1718 [============================>.] - ETA: 0s - loss: 0.6741 - accuracy: 0.5732\n",
      "Epoch 2: val_accuracy improved from 0.56878 to 0.57826, saving model to best_model_bilstm_bb_.h5\n",
      "1718/1718 [==============================] - 43s 25ms/step - loss: 0.6740 - accuracy: 0.5732 - val_loss: 0.6673 - val_accuracy: 0.5783\n",
      "Epoch 3/1000\n",
      "1717/1718 [============================>.] - ETA: 0s - loss: 0.6660 - accuracy: 0.5854\n",
      "Epoch 3: val_accuracy improved from 0.57826 to 0.59963, saving model to best_model_bilstm_bb_.h5\n",
      "1718/1718 [==============================] - 45s 26ms/step - loss: 0.6660 - accuracy: 0.5853 - val_loss: 0.6585 - val_accuracy: 0.5996\n",
      "Epoch 4/1000\n",
      "1717/1718 [============================>.] - ETA: 0s - loss: 0.6609 - accuracy: 0.5954\n",
      "Epoch 4: val_accuracy improved from 0.59963 to 0.60260, saving model to best_model_bilstm_bb_.h5\n",
      "1718/1718 [==============================] - 46s 27ms/step - loss: 0.6609 - accuracy: 0.5953 - val_loss: 0.6566 - val_accuracy: 0.6026\n",
      "Epoch 5/1000\n",
      "1717/1718 [============================>.] - ETA: 0s - loss: 0.6557 - accuracy: 0.6008\n",
      "Epoch 5: val_accuracy did not improve from 0.60260\n",
      "1718/1718 [==============================] - 44s 26ms/step - loss: 0.6557 - accuracy: 0.6008 - val_loss: 0.6569 - val_accuracy: 0.5958\n",
      "Epoch 6/1000\n",
      "1717/1718 [============================>.] - ETA: 0s - loss: 0.6508 - accuracy: 0.6127\n",
      "Epoch 6: val_accuracy improved from 0.60260 to 0.61124, saving model to best_model_bilstm_bb_.h5\n",
      "1718/1718 [==============================] - 45s 26ms/step - loss: 0.6509 - accuracy: 0.6126 - val_loss: 0.6498 - val_accuracy: 0.6112\n",
      "Epoch 7/1000\n",
      "1716/1718 [============================>.] - ETA: 0s - loss: 0.6461 - accuracy: 0.6183\n",
      "Epoch 7: val_accuracy did not improve from 0.61124\n",
      "1718/1718 [==============================] - 43s 25ms/step - loss: 0.6461 - accuracy: 0.6183 - val_loss: 0.6487 - val_accuracy: 0.6080\n",
      "Epoch 8/1000\n",
      "1716/1718 [============================>.] - ETA: 0s - loss: 0.6436 - accuracy: 0.6239\n",
      "Epoch 8: val_accuracy improved from 0.61124 to 0.61831, saving model to best_model_bilstm_bb_.h5\n",
      "1718/1718 [==============================] - 42s 24ms/step - loss: 0.6436 - accuracy: 0.6239 - val_loss: 0.6502 - val_accuracy: 0.6183\n",
      "Epoch 9/1000\n",
      "1716/1718 [============================>.] - ETA: 0s - loss: 0.6362 - accuracy: 0.6308\n",
      "Epoch 9: val_accuracy improved from 0.61831 to 0.62836, saving model to best_model_bilstm_bb_.h5\n",
      "1718/1718 [==============================] - 36s 21ms/step - loss: 0.6362 - accuracy: 0.6308 - val_loss: 0.6414 - val_accuracy: 0.6284\n",
      "Epoch 10/1000\n",
      "1716/1718 [============================>.] - ETA: 0s - loss: 0.6303 - accuracy: 0.6396\n",
      "Epoch 10: val_accuracy did not improve from 0.62836\n",
      "1718/1718 [==============================] - 32s 19ms/step - loss: 0.6302 - accuracy: 0.6395 - val_loss: 0.6425 - val_accuracy: 0.6227\n",
      "Epoch 11/1000\n",
      "1718/1718 [==============================] - ETA: 0s - loss: 0.6220 - accuracy: 0.6427\n",
      "Epoch 11: val_accuracy improved from 0.62836 to 0.63473, saving model to best_model_bilstm_bb_.h5\n",
      "1718/1718 [==============================] - 30s 17ms/step - loss: 0.6220 - accuracy: 0.6427 - val_loss: 0.6352 - val_accuracy: 0.6347\n",
      "Epoch 12/1000\n",
      "1718/1718 [==============================] - ETA: 0s - loss: 0.6165 - accuracy: 0.6507\n",
      "Epoch 12: val_accuracy improved from 0.63473 to 0.63841, saving model to best_model_bilstm_bb_.h5\n",
      "1718/1718 [==============================] - 30s 17ms/step - loss: 0.6165 - accuracy: 0.6507 - val_loss: 0.6376 - val_accuracy: 0.6384\n",
      "Epoch 13/1000\n",
      "1716/1718 [============================>.] - ETA: 0s - loss: 0.6103 - accuracy: 0.6580\n",
      "Epoch 13: val_accuracy did not improve from 0.63841\n",
      "1718/1718 [==============================] - 29s 17ms/step - loss: 0.6103 - accuracy: 0.6580 - val_loss: 0.6411 - val_accuracy: 0.6299\n",
      "Epoch 14/1000\n",
      "1718/1718 [==============================] - ETA: 0s - loss: 0.6027 - accuracy: 0.6633\n",
      "Epoch 14: val_accuracy did not improve from 0.63841\n",
      "1718/1718 [==============================] - 33s 19ms/step - loss: 0.6027 - accuracy: 0.6633 - val_loss: 0.6344 - val_accuracy: 0.6337\n",
      "Epoch 15/1000\n",
      "1717/1718 [============================>.] - ETA: 0s - loss: 0.5946 - accuracy: 0.6729\n",
      "Epoch 15: val_accuracy did not improve from 0.63841\n",
      "1718/1718 [==============================] - 33s 19ms/step - loss: 0.5947 - accuracy: 0.6729 - val_loss: 0.6375 - val_accuracy: 0.6346\n",
      "Epoch 16/1000\n",
      "1715/1718 [============================>.] - ETA: 0s - loss: 0.5869 - accuracy: 0.6813\n",
      "Epoch 16: val_accuracy improved from 0.63841 to 0.64365, saving model to best_model_bilstm_bb_.h5\n",
      "1718/1718 [==============================] - 30s 18ms/step - loss: 0.5871 - accuracy: 0.6811 - val_loss: 0.6419 - val_accuracy: 0.6436\n",
      "Epoch 17/1000\n",
      "1717/1718 [============================>.] - ETA: 0s - loss: 0.5763 - accuracy: 0.6890\n",
      "Epoch 17: val_accuracy did not improve from 0.64365\n",
      "1718/1718 [==============================] - 33s 19ms/step - loss: 0.5763 - accuracy: 0.6889 - val_loss: 0.6349 - val_accuracy: 0.6408\n",
      "Epoch 18/1000\n",
      "1716/1718 [============================>.] - ETA: 0s - loss: 0.5687 - accuracy: 0.6921\n",
      "Epoch 18: val_accuracy did not improve from 0.64365\n",
      "1718/1718 [==============================] - 41s 24ms/step - loss: 0.5688 - accuracy: 0.6920 - val_loss: 0.6552 - val_accuracy: 0.6291\n",
      "Epoch 19/1000\n",
      "1715/1718 [============================>.] - ETA: 0s - loss: 0.5618 - accuracy: 0.6975\n",
      "Epoch 19: val_accuracy did not improve from 0.64365\n",
      "1718/1718 [==============================] - 29s 17ms/step - loss: 0.5618 - accuracy: 0.6975 - val_loss: 0.6532 - val_accuracy: 0.6319\n",
      "Epoch 20/1000\n",
      "1716/1718 [============================>.] - ETA: 0s - loss: 0.5544 - accuracy: 0.7064\n",
      "Epoch 20: val_accuracy improved from 0.64365 to 0.64605, saving model to best_model_bilstm_bb_.h5\n",
      "1718/1718 [==============================] - 31s 18ms/step - loss: 0.5544 - accuracy: 0.7064 - val_loss: 0.6793 - val_accuracy: 0.6461\n",
      "Epoch 21/1000\n",
      "1717/1718 [============================>.] - ETA: 0s - loss: 0.5452 - accuracy: 0.7125\n",
      "Epoch 21: val_accuracy improved from 0.64605 to 0.65058, saving model to best_model_bilstm_bb_.h5\n",
      "1718/1718 [==============================] - 30s 17ms/step - loss: 0.5452 - accuracy: 0.7125 - val_loss: 0.6473 - val_accuracy: 0.6506\n",
      "Epoch 22/1000\n",
      "1715/1718 [============================>.] - ETA: 0s - loss: 0.5358 - accuracy: 0.7174\n",
      "Epoch 22: val_accuracy did not improve from 0.65058\n",
      "1718/1718 [==============================] - 30s 18ms/step - loss: 0.5356 - accuracy: 0.7176 - val_loss: 0.6694 - val_accuracy: 0.6370\n",
      "Epoch 23/1000\n",
      "1716/1718 [============================>.] - ETA: 0s - loss: 0.5290 - accuracy: 0.7239\n",
      "Epoch 23: val_accuracy did not improve from 0.65058\n",
      "1718/1718 [==============================] - 29s 17ms/step - loss: 0.5290 - accuracy: 0.7239 - val_loss: 0.6783 - val_accuracy: 0.6169\n",
      "Epoch 24/1000\n",
      "1717/1718 [============================>.] - ETA: 0s - loss: 0.5195 - accuracy: 0.7335\n",
      "Epoch 24: val_accuracy did not improve from 0.65058\n",
      "1718/1718 [==============================] - 31s 18ms/step - loss: 0.5195 - accuracy: 0.7335 - val_loss: 0.6867 - val_accuracy: 0.6254\n",
      "Epoch 25/1000\n",
      "1718/1718 [==============================] - ETA: 0s - loss: 0.5122 - accuracy: 0.7390\n",
      "Epoch 25: val_accuracy improved from 0.65058 to 0.65100, saving model to best_model_bilstm_bb_.h5\n",
      "1718/1718 [==============================] - 30s 17ms/step - loss: 0.5122 - accuracy: 0.7390 - val_loss: 0.6605 - val_accuracy: 0.6510\n",
      "Epoch 26/1000\n",
      "1717/1718 [============================>.] - ETA: 0s - loss: 0.5013 - accuracy: 0.7418\n",
      "Epoch 26: val_accuracy improved from 0.65100 to 0.65539, saving model to best_model_bilstm_bb_.h5\n",
      "1718/1718 [==============================] - 29s 17ms/step - loss: 0.5014 - accuracy: 0.7418 - val_loss: 0.6733 - val_accuracy: 0.6554\n",
      "Epoch 27/1000\n"
     ]
    },
    {
     "name": "stdout",
     "output_type": "stream",
     "text": [
      "1718/1718 [==============================] - ETA: 0s - loss: 0.4934 - accuracy: 0.7511\n",
      "Epoch 27: val_accuracy did not improve from 0.65539\n",
      "1718/1718 [==============================] - 29s 17ms/step - loss: 0.4934 - accuracy: 0.7511 - val_loss: 0.6741 - val_accuracy: 0.6387\n",
      "Epoch 28/1000\n",
      "1717/1718 [============================>.] - ETA: 0s - loss: 0.4865 - accuracy: 0.7512\n",
      "Epoch 28: val_accuracy improved from 0.65539 to 0.65624, saving model to best_model_bilstm_bb_.h5\n",
      "1718/1718 [==============================] - 30s 18ms/step - loss: 0.4865 - accuracy: 0.7512 - val_loss: 0.6724 - val_accuracy: 0.6562\n",
      "Epoch 29/1000\n",
      "1718/1718 [==============================] - ETA: 0s - loss: 0.4752 - accuracy: 0.7618\n",
      "Epoch 29: val_accuracy improved from 0.65624 to 0.66077, saving model to best_model_bilstm_bb_.h5\n",
      "1718/1718 [==============================] - 30s 17ms/step - loss: 0.4752 - accuracy: 0.7618 - val_loss: 0.6731 - val_accuracy: 0.6608\n",
      "Epoch 30/1000\n",
      "1717/1718 [============================>.] - ETA: 0s - loss: 0.4671 - accuracy: 0.7658\n",
      "Epoch 30: val_accuracy did not improve from 0.66077\n",
      "1718/1718 [==============================] - 30s 17ms/step - loss: 0.4670 - accuracy: 0.7659 - val_loss: 0.6919 - val_accuracy: 0.6564\n",
      "Epoch 31/1000\n",
      "1718/1718 [==============================] - ETA: 0s - loss: 0.4609 - accuracy: 0.7718\n",
      "Epoch 31: val_accuracy did not improve from 0.66077\n",
      "1718/1718 [==============================] - 31s 18ms/step - loss: 0.4609 - accuracy: 0.7718 - val_loss: 0.7008 - val_accuracy: 0.6605\n",
      "Epoch 32/1000\n",
      "1717/1718 [============================>.] - ETA: 0s - loss: 0.4525 - accuracy: 0.7762\n",
      "Epoch 32: val_accuracy improved from 0.66077 to 0.66318, saving model to best_model_bilstm_bb_.h5\n",
      "1718/1718 [==============================] - 32s 18ms/step - loss: 0.4525 - accuracy: 0.7761 - val_loss: 0.6898 - val_accuracy: 0.6632\n",
      "Epoch 33/1000\n",
      "1717/1718 [============================>.] - ETA: 0s - loss: 0.4412 - accuracy: 0.7834\n",
      "Epoch 33: val_accuracy did not improve from 0.66318\n",
      "1718/1718 [==============================] - 30s 18ms/step - loss: 0.4412 - accuracy: 0.7834 - val_loss: 0.7725 - val_accuracy: 0.6461\n",
      "Epoch 34/1000\n",
      "1717/1718 [============================>.] - ETA: 0s - loss: 0.4320 - accuracy: 0.7883\n",
      "Epoch 34: val_accuracy did not improve from 0.66318\n",
      "1718/1718 [==============================] - 29s 17ms/step - loss: 0.4320 - accuracy: 0.7883 - val_loss: 0.7191 - val_accuracy: 0.6560\n",
      "Epoch 34: early stopping\n"
     ]
    }
   ],
   "source": [
    "history = model.fit(X, y, validation_data=(Xv, yv), epochs=1000, batch_size=16, callbacks=[es, mc])"
   ]
  },
  {
   "cell_type": "code",
   "execution_count": 13,
   "id": "47422035",
   "metadata": {
    "id": "47422035"
   },
   "outputs": [
    {
     "name": "stdout",
     "output_type": "stream",
     "text": [
      "dict_keys(['loss', 'accuracy', 'val_loss', 'val_accuracy'])\n"
     ]
    }
   ],
   "source": [
    "history_dict = history.history\n",
    "print(history_dict.keys())"
   ]
  },
  {
   "cell_type": "code",
   "execution_count": 14,
   "id": "bea375f7",
   "metadata": {
    "id": "bea375f7"
   },
   "outputs": [
    {
     "name": "stdout",
     "output_type": "stream",
     "text": [
      "Train: 0.814, Test: 0.661\n"
     ]
    }
   ],
   "source": [
    "saved_model = load_model('best_model_bilstm_bb' + filename + '_.h5')\n",
    "# evaluate the model\n",
    "_, train_acc = saved_model.evaluate(X, y, verbose=0)\n",
    "_, test_acc = saved_model.evaluate(Xt, yt, verbose=0)\n",
    "\n",
    "print('Train: %.3f, Test: %.3f' % (train_acc, test_acc))"
   ]
  },
  {
   "cell_type": "code",
   "execution_count": 15,
   "id": "9891db7e",
   "metadata": {
    "id": "9891db7e"
   },
   "outputs": [],
   "source": [
    "lst = [train_acc, test_acc]\n",
    "df = pd.DataFrame(lst, index =['train_acc', 'test_acc'])\n",
    "df.to_csv(filename +'bb_bilstm_results.csv')"
   ]
  },
  {
   "cell_type": "code",
   "execution_count": 16,
   "id": "5fd23f7b",
   "metadata": {
    "id": "5fd23f7b"
   },
   "outputs": [
    {
     "data": {
      "image/png": "[encoded data removed]",
      "text/plain": [
       "<Figure size 432x288 with 1 Axes>"
      ]
     },
     "metadata": {
      "needs_background": "light"
     },
     "output_type": "display_data"
    }
   ],
   "source": [
    "# plot history\n",
    "pyplot.plot(history.history['accuracy'], label='train')\n",
    "pyplot.plot(history.history['val_accuracy'], label='test')\n",
    "pyplot.legend()\n",
    "pyplot.savefig(filename + 'bb_bilstm_acc.png', bbox_inches='tight')\n",
    "pyplot.show()\n"
   ]
  },
  {
   "cell_type": "code",
   "execution_count": 17,
   "id": "c7643df0",
   "metadata": {},
   "outputs": [],
   "source": [
    "from matplotlib import pyplot as plt"
   ]
  },
  {
   "cell_type": "code",
   "execution_count": 18,
   "id": "830c0ff8",
   "metadata": {},
   "outputs": [
    {
     "data": {
      "image/png": "[encoded data removed]",
      "text/plain": [
       "<Figure size 432x288 with 1 Axes>"
      ]
     },
     "metadata": {
      "needs_background": "light"
     },
     "output_type": "display_data"
    }
   ],
   "source": [
    "plt.title('Loss')\n",
    "plt.plot(history.history['loss'], label='train')\n",
    "plt.plot(history.history['val_loss'], label='test')\n",
    "pyplot.savefig(filename + 'bb_bilstm_loss.png', bbox_inches='tight')\n",
    "plt.legend()\n",
    "plt.show();"
   ]
  },
  {
   "cell_type": "code",
   "execution_count": 21,
   "id": "71fff602",
   "metadata": {},
   "outputs": [
    {
     "name": "stdout",
     "output_type": "stream",
     "text": [
      "Test Accuracy Score: 0.814\n",
      "Test Recall Score: 0.807\n",
      "Test Precision Score: 0.772\n",
      "Test F1 Score: 0.789\n",
      "Test Accuracy Score: 0.661\n",
      "Test Recall Score: 0.620\n",
      "Test Precision Score: 0.604\n",
      "Test F1 Score: 0.612\n"
     ]
    }
   ],
   "source": [
    "from sklearn.metrics import confusion_matrix\n",
    "saved_model = load_model('best_model_bilstm_bb' +'_.h5')\n",
    "yp = (saved_model.predict(X) > 0.5).astype('int32') \n",
    "matrix = confusion_matrix(y,yp, labels=[1,0])\n",
    "cm = pd.DataFrame(matrix, index=['1','0'],columns=['1','0'])\n",
    "from sklearn.metrics import accuracy_score\n",
    "print(\"Test Accuracy Score: %.3f\" %(accuracy_score(y,yp)))\n",
    "\n",
    "from sklearn.metrics import recall_score\n",
    "print(\"Test Recall Score: %.3f\" %(recall_score(y,yp)))\n",
    "\n",
    "from sklearn.metrics import precision_score\n",
    "print(\"Test Precision Score: %.3f\" %(precision_score(y,yp)))\n",
    "\n",
    "from sklearn.metrics import f1_score\n",
    "print(\"Test F1 Score: %.3f\" %(f1_score(y,yp)))\n",
    "yp = (saved_model.predict(Xt) > 0.5).astype('int32') \n",
    "matrix = confusion_matrix(yt,yp, labels=[1,0])\n",
    "cm = pd.DataFrame(matrix, index=['1','0'],columns=['1','0'])\n",
    "\n",
    "print(\"Test Accuracy Score: %.3f\" %(accuracy_score(yt,yp)))\n",
    "\n",
    "\n",
    "print(\"Test Recall Score: %.3f\" %(recall_score(yt,yp)))\n",
    "\n",
    "\n",
    "print(\"Test Precision Score: %.3f\" %(precision_score(yt,yp)))\n",
    "\n",
    "\n",
    "print(\"Test F1 Score: %.3f\" %(f1_score(yt,yp)))"
   ]
  },
  {
   "cell_type": "code",
   "execution_count": null,
   "id": "a049e260",
   "metadata": {},
   "outputs": [],
   "source": []
  }
 ],
 "metadata": {
  "accelerator": "GPU",
  "colab": {
   "collapsed_sections": [],
   "name": "LSTM_NN 786.ipynb",
   "provenance": []
  },
  "kernelspec": {
   "display_name": "Python 3 (ipykernel)",
   "language": "python",
   "name": "python3"
  },
  "language_info": {
   "codemirror_mode": {
    "name": "ipython",
    "version": 3
   },
   "file_extension": ".py",
   "mimetype": "text/x-python",
   "name": "python",
   "nbconvert_exporter": "python",
   "pygments_lexer": "ipython3",
   "version": "3.7.9"
  }
 },
 "nbformat": 4,
 "nbformat_minor": 5
}
