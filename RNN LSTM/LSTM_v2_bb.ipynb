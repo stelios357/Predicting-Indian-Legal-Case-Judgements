{
 "cells": [
  {
   "cell_type": "markdown",
   "id": "fwojLHeUGpS3",
   "metadata": {
    "id": "fwojLHeUGpS3"
   },
   "source": [
    "# Code"
   ]
  },
  {
   "cell_type": "code",
   "execution_count": 1,
   "id": "da85070b",
   "metadata": {
    "ExecuteTime": {
     "end_time": "2021-12-03T19:48:49.374640Z",
     "start_time": "2021-12-03T19:48:45.785160Z"
    },
    "id": "da85070b"
   },
   "outputs": [],
   "source": [
    "import pandas as pd\n",
    "import numpy as np\n",
    "from tensorflow import keras\n",
    "from keras import layers\n",
    "from sklearn.model_selection import train_test_split\n",
    "from keras.callbacks import EarlyStopping\n",
    "from keras.callbacks import ModelCheckpoint\n",
    "from matplotlib import pyplot\n",
    "from keras.models import load_model\n",
    "from keras.models import Sequential\n",
    "from keras.layers import Dense\n",
    "from keras.layers import Dropout\n",
    "from keras.layers import LSTM\n",
    "from keras.utils import np_utils"
   ]
  },
  {
   "cell_type": "code",
   "execution_count": 2,
   "id": "72773790",
   "metadata": {
    "id": "72773790"
   },
   "outputs": [],
   "source": [
    "filename = '../Data/BERT2560/Combined/reshape_bb_2560.csv'"
   ]
  },
  {
   "cell_type": "code",
   "execution_count": 3,
   "id": "a94793ad",
   "metadata": {
    "ExecuteTime": {
     "end_time": "2021-12-03T19:51:23.396609Z",
     "start_time": "2021-12-03T19:51:19.205230Z"
    },
    "id": "a94793ad"
   },
   "outputs": [],
   "source": [
    "data = pd.read_csv(filename)"
   ]
  },
  {
   "cell_type": "code",
   "execution_count": 4,
   "id": "91911a5e",
   "metadata": {
    "id": "91911a5e"
   },
   "outputs": [],
   "source": [
    "filename = filename[:filename.index('.')]"
   ]
  },
  {
   "cell_type": "code",
   "execution_count": 5,
   "id": "fybg0x1waaz8",
   "metadata": {
    "id": "fybg0x1waaz8"
   },
   "outputs": [],
   "source": [
    "# data = data[:2000]\n",
    "label = data['label']\n",
    "features = data.drop(['uid', 'label'], axis=1)"
   ]
  },
  {
   "cell_type": "code",
   "execution_count": 6,
   "id": "16dc4b0c",
   "metadata": {},
   "outputs": [],
   "source": [
    "del data"
   ]
  },
  {
   "cell_type": "code",
   "execution_count": 8,
   "id": "50b91ba2",
   "metadata": {},
   "outputs": [],
   "source": [
    "#features = features.to_numpy()\n",
    "features = features.reshape(39259, 5, 768)"
   ]
  },
  {
   "cell_type": "code",
   "execution_count": 9,
   "id": "2a6b8577",
   "metadata": {
    "colab": {
     "base_uri": "https://localhost:8080/"
    },
    "id": "2a6b8577",
    "outputId": "37eaa80f-6f1c-44e8-f753-c30b1e0fc6a3"
   },
   "outputs": [
    {
     "name": "stdout",
     "output_type": "stream",
     "text": [
      "(27481, 5, 768) (27481,) (11778, 5, 768) (11778,)\n",
      "(7066, 5, 768) (4712, 5, 768) (7066,) (4712,)\n"
     ]
    }
   ],
   "source": [
    "X, a, y, b = train_test_split(features, label, random_state=42, stratify=label, test_size=0.3)\n",
    "print(X.shape, y.shape, a.shape, b.shape)\n",
    "\n",
    "Xv, Xt, yv, yt = train_test_split(a, b, random_state=42, stratify=b, test_size=0.4)\n",
    "print(Xv.shape, Xt.shape, yv.shape, yt.shape)\n",
    "\n",
    "# Xv = X[-6000:]\n",
    "# X = X[:-6000]"
   ]
  },
  {
   "cell_type": "code",
   "execution_count": 10,
   "id": "20e46ce2",
   "metadata": {},
   "outputs": [],
   "source": [
    "# defining the LSTM model\n",
    "model = Sequential()\n",
    "model.add(LSTM(100, input_shape=(features.shape[1], features.shape[2]), return_sequences=True, activation='relu')) #bidirectional lstm\n",
    "model.add(Dropout(0.25)) #do for both bid and normal lstm \n",
    "model.add(LSTM(50,return_sequences=True))\n",
    "model.add(Dropout(0.2))\n",
    "model.add(LSTM(20))\n",
    "model.add(Dropout(0.1))\n",
    "model.add(Dense(1, activation='sigmoid'))"
   ]
  },
  {
   "cell_type": "code",
   "execution_count": 11,
   "id": "a0c6d7cf",
   "metadata": {
    "id": "a0c6d7cf"
   },
   "outputs": [],
   "source": [
    "model.compile(optimizer='adam', loss=keras.losses.BinaryCrossentropy(), metrics=['accuracy'])"
   ]
  },
  {
   "cell_type": "code",
   "execution_count": 12,
   "id": "04c62895",
   "metadata": {
    "id": "04c62895"
   },
   "outputs": [],
   "source": [
    "es = EarlyStopping(monitor='val_loss', mode='min', verbose=1, patience=20)\n",
    "mc = ModelCheckpoint('best_model_lstm_bb' + filename + '_.h5', monitor='val_accuracy', mode='max', verbose=1, save_best_only=True)"
   ]
  },
  {
   "cell_type": "code",
   "execution_count": 14,
   "id": "c3ceab43",
   "metadata": {
    "colab": {
     "base_uri": "https://localhost:8080/"
    },
    "id": "c3ceab43",
    "outputId": "c6dcd598-3c37-4245-e7cc-eb9bdcb00c6b"
   },
   "outputs": [
    {
     "name": "stdout",
     "output_type": "stream",
     "text": [
      "Epoch 1/1000\n",
      "1718/1718 [==============================] - ETA: 0s - loss: 0.6836 - accuracy: 0.5634\n",
      "Epoch 1: val_accuracy improved from -inf to 0.57147, saving model to best_model_lstm_bb_.h5\n",
      "1718/1718 [==============================] - 32s 18ms/step - loss: 0.6836 - accuracy: 0.5634 - val_loss: 0.6870 - val_accuracy: 0.5715\n",
      "Epoch 2/1000\n",
      "1716/1718 [============================>.] - ETA: 0s - loss: 0.6724 - accuracy: 0.5787\n",
      "Epoch 2: val_accuracy did not improve from 0.57147\n",
      "1718/1718 [==============================] - 27s 16ms/step - loss: 0.6724 - accuracy: 0.5788 - val_loss: 0.6752 - val_accuracy: 0.5654\n",
      "Epoch 3/1000\n",
      "1718/1718 [==============================] - ETA: 0s - loss: 0.6655 - accuracy: 0.5906\n",
      "Epoch 3: val_accuracy improved from 0.57147 to 0.59595, saving model to best_model_lstm_bb_.h5\n",
      "1718/1718 [==============================] - 28s 16ms/step - loss: 0.6655 - accuracy: 0.5906 - val_loss: 0.6584 - val_accuracy: 0.5960\n",
      "Epoch 4/1000\n",
      "1716/1718 [============================>.] - ETA: 0s - loss: 0.6551 - accuracy: 0.6121\n",
      "Epoch 4: val_accuracy improved from 0.59595 to 0.61336, saving model to best_model_lstm_bb_.h5\n",
      "1718/1718 [==============================] - 26s 15ms/step - loss: 0.6552 - accuracy: 0.6119 - val_loss: 0.6512 - val_accuracy: 0.6134\n",
      "Epoch 5/1000\n",
      "1716/1718 [============================>.] - ETA: 0s - loss: 0.6489 - accuracy: 0.6192\n",
      "Epoch 5: val_accuracy improved from 0.61336 to 0.61916, saving model to best_model_lstm_bb_.h5\n",
      "1718/1718 [==============================] - 25s 15ms/step - loss: 0.6489 - accuracy: 0.6192 - val_loss: 0.6461 - val_accuracy: 0.6192\n",
      "Epoch 6/1000\n",
      "1717/1718 [============================>.] - ETA: 0s - loss: 0.6424 - accuracy: 0.6275\n",
      "Epoch 6: val_accuracy improved from 0.61916 to 0.62765, saving model to best_model_lstm_bb_.h5\n",
      "1718/1718 [==============================] - 26s 15ms/step - loss: 0.6425 - accuracy: 0.6276 - val_loss: 0.6413 - val_accuracy: 0.6277\n",
      "Epoch 7/1000\n",
      "1718/1718 [==============================] - ETA: 0s - loss: 0.6360 - accuracy: 0.6368\n",
      "Epoch 7: val_accuracy did not improve from 0.62765\n",
      "1718/1718 [==============================] - 28s 17ms/step - loss: 0.6360 - accuracy: 0.6368 - val_loss: 0.6408 - val_accuracy: 0.6255\n",
      "Epoch 8/1000\n",
      "1718/1718 [==============================] - ETA: 0s - loss: 0.6314 - accuracy: 0.6416\n",
      "Epoch 8: val_accuracy improved from 0.62765 to 0.62907, saving model to best_model_lstm_bb_.h5\n",
      "1718/1718 [==============================] - 26s 15ms/step - loss: 0.6314 - accuracy: 0.6416 - val_loss: 0.6348 - val_accuracy: 0.6291\n",
      "Epoch 9/1000\n",
      "1716/1718 [============================>.] - ETA: 0s - loss: 0.6234 - accuracy: 0.6515\n",
      "Epoch 9: val_accuracy improved from 0.62907 to 0.63756, saving model to best_model_lstm_bb_.h5\n",
      "1718/1718 [==============================] - 22s 13ms/step - loss: 0.6235 - accuracy: 0.6514 - val_loss: 0.6306 - val_accuracy: 0.6376\n",
      "Epoch 10/1000\n",
      "1716/1718 [============================>.] - ETA: 0s - loss: 0.6196 - accuracy: 0.6529\n",
      "Epoch 10: val_accuracy did not improve from 0.63756\n",
      "1718/1718 [==============================] - 23s 13ms/step - loss: 0.6195 - accuracy: 0.6531 - val_loss: 0.6353 - val_accuracy: 0.6309\n",
      "Epoch 11/1000\n",
      "1718/1718 [==============================] - ETA: 0s - loss: 0.6120 - accuracy: 0.6644\n",
      "Epoch 11: val_accuracy improved from 0.63756 to 0.64251, saving model to best_model_lstm_bb_.h5\n",
      "1718/1718 [==============================] - 21s 12ms/step - loss: 0.6120 - accuracy: 0.6644 - val_loss: 0.6282 - val_accuracy: 0.6425\n",
      "Epoch 12/1000\n",
      "1716/1718 [============================>.] - ETA: 0s - loss: 0.6073 - accuracy: 0.6684\n",
      "Epoch 12: val_accuracy improved from 0.64251 to 0.65270, saving model to best_model_lstm_bb_.h5\n",
      "1718/1718 [==============================] - 22s 13ms/step - loss: 0.6072 - accuracy: 0.6685 - val_loss: 0.6259 - val_accuracy: 0.6527\n",
      "Epoch 13/1000\n",
      "1716/1718 [============================>.] - ETA: 0s - loss: 0.6014 - accuracy: 0.6722\n",
      "Epoch 13: val_accuracy did not improve from 0.65270\n",
      "1718/1718 [==============================] - 19s 11ms/step - loss: 0.6015 - accuracy: 0.6721 - val_loss: 0.6235 - val_accuracy: 0.6483\n",
      "Epoch 14/1000\n",
      "1716/1718 [============================>.] - ETA: 0s - loss: 0.5973 - accuracy: 0.6764\n",
      "Epoch 14: val_accuracy did not improve from 0.65270\n",
      "1718/1718 [==============================] - 23s 13ms/step - loss: 0.5973 - accuracy: 0.6764 - val_loss: 0.6472 - val_accuracy: 0.6298\n",
      "Epoch 15/1000\n",
      "1717/1718 [============================>.] - ETA: 0s - loss: 0.5903 - accuracy: 0.6823\n",
      "Epoch 15: val_accuracy improved from 0.65270 to 0.65341, saving model to best_model_lstm_bb_.h5\n",
      "1718/1718 [==============================] - 19s 11ms/step - loss: 0.5903 - accuracy: 0.6823 - val_loss: 0.6252 - val_accuracy: 0.6534\n",
      "Epoch 16/1000\n",
      "1715/1718 [============================>.] - ETA: 0s - loss: 0.5864 - accuracy: 0.6860\n",
      "Epoch 16: val_accuracy did not improve from 0.65341\n",
      "1718/1718 [==============================] - 19s 11ms/step - loss: 0.5863 - accuracy: 0.6860 - val_loss: 0.6259 - val_accuracy: 0.6502\n",
      "Epoch 17/1000\n",
      "1717/1718 [============================>.] - ETA: 0s - loss: 0.5777 - accuracy: 0.6910\n",
      "Epoch 17: val_accuracy did not improve from 0.65341\n",
      "1718/1718 [==============================] - 21s 12ms/step - loss: 0.5777 - accuracy: 0.6910 - val_loss: 0.6331 - val_accuracy: 0.6489\n",
      "Epoch 18/1000\n",
      "1718/1718 [==============================] - ETA: 0s - loss: 0.5717 - accuracy: 0.6959\n",
      "Epoch 18: val_accuracy did not improve from 0.65341\n",
      "1718/1718 [==============================] - 19s 11ms/step - loss: 0.5717 - accuracy: 0.6959 - val_loss: 0.6318 - val_accuracy: 0.6520\n",
      "Epoch 19/1000\n",
      "1713/1718 [============================>.] - ETA: 0s - loss: 0.5658 - accuracy: 0.7040\n",
      "Epoch 19: val_accuracy did not improve from 0.65341\n",
      "1718/1718 [==============================] - 19s 11ms/step - loss: 0.5659 - accuracy: 0.7040 - val_loss: 0.6349 - val_accuracy: 0.6475\n",
      "Epoch 20/1000\n",
      "1716/1718 [============================>.] - ETA: 0s - loss: 0.5558 - accuracy: 0.7122\n",
      "Epoch 20: val_accuracy did not improve from 0.65341\n",
      "1718/1718 [==============================] - 20s 12ms/step - loss: 0.5558 - accuracy: 0.7122 - val_loss: 0.6411 - val_accuracy: 0.6517\n",
      "Epoch 21/1000\n",
      "1716/1718 [============================>.] - ETA: 0s - loss: 0.5496 - accuracy: 0.7131\n",
      "Epoch 21: val_accuracy did not improve from 0.65341\n",
      "1718/1718 [==============================] - 20s 12ms/step - loss: 0.5497 - accuracy: 0.7130 - val_loss: 0.6538 - val_accuracy: 0.6526\n",
      "Epoch 22/1000\n",
      "1714/1718 [============================>.] - ETA: 0s - loss: 0.5427 - accuracy: 0.7222\n",
      "Epoch 22: val_accuracy did not improve from 0.65341\n",
      "1718/1718 [==============================] - 20s 12ms/step - loss: 0.5425 - accuracy: 0.7222 - val_loss: 0.6555 - val_accuracy: 0.6476\n",
      "Epoch 23/1000\n",
      "1716/1718 [============================>.] - ETA: 0s - loss: 0.5369 - accuracy: 0.7240\n",
      "Epoch 23: val_accuracy did not improve from 0.65341\n",
      "1718/1718 [==============================] - 21s 12ms/step - loss: 0.5368 - accuracy: 0.7241 - val_loss: 0.6580 - val_accuracy: 0.6339\n",
      "Epoch 24/1000\n",
      "1716/1718 [============================>.] - ETA: 0s - loss: 0.5292 - accuracy: 0.7310\n",
      "Epoch 24: val_accuracy did not improve from 0.65341\n",
      "1718/1718 [==============================] - 29s 17ms/step - loss: 0.5293 - accuracy: 0.7309 - val_loss: 0.6502 - val_accuracy: 0.6497\n",
      "Epoch 25/1000\n",
      "1716/1718 [============================>.] - ETA: 0s - loss: 0.5240 - accuracy: 0.7360\n",
      "Epoch 25: val_accuracy did not improve from 0.65341\n",
      "1718/1718 [==============================] - 32s 18ms/step - loss: 0.5240 - accuracy: 0.7360 - val_loss: 0.6706 - val_accuracy: 0.6453\n",
      "Epoch 26/1000\n",
      "1718/1718 [==============================] - ETA: 0s - loss: 0.5159 - accuracy: 0.7408\n",
      "Epoch 26: val_accuracy did not improve from 0.65341\n",
      "1718/1718 [==============================] - 36s 21ms/step - loss: 0.5159 - accuracy: 0.7408 - val_loss: 0.6561 - val_accuracy: 0.6410\n",
      "Epoch 27/1000\n",
      "1718/1718 [==============================] - ETA: 0s - loss: 0.5073 - accuracy: 0.7461\n",
      "Epoch 27: val_accuracy did not improve from 0.65341\n",
      "1718/1718 [==============================] - 36s 21ms/step - loss: 0.5073 - accuracy: 0.7461 - val_loss: 0.6784 - val_accuracy: 0.6332\n"
     ]
    },
    {
     "name": "stdout",
     "output_type": "stream",
     "text": [
      "Epoch 28/1000\n",
      "1718/1718 [==============================] - ETA: 0s - loss: 0.5017 - accuracy: 0.7475\n",
      "Epoch 28: val_accuracy improved from 0.65341 to 0.65780, saving model to best_model_lstm_bb_.h5\n",
      "1718/1718 [==============================] - 39s 23ms/step - loss: 0.5017 - accuracy: 0.7475 - val_loss: 0.6597 - val_accuracy: 0.6578\n",
      "Epoch 29/1000\n",
      "1718/1718 [==============================] - ETA: 0s - loss: 0.4971 - accuracy: 0.7528\n",
      "Epoch 29: val_accuracy did not improve from 0.65780\n",
      "1718/1718 [==============================] - 37s 21ms/step - loss: 0.4971 - accuracy: 0.7528 - val_loss: 0.6721 - val_accuracy: 0.6560\n",
      "Epoch 30/1000\n",
      "1718/1718 [==============================] - ETA: 0s - loss: 0.4906 - accuracy: 0.7576\n",
      "Epoch 30: val_accuracy did not improve from 0.65780\n",
      "1718/1718 [==============================] - 36s 21ms/step - loss: 0.4906 - accuracy: 0.7576 - val_loss: 0.6893 - val_accuracy: 0.6551\n",
      "Epoch 31/1000\n",
      "1717/1718 [============================>.] - ETA: 0s - loss: 0.4820 - accuracy: 0.7619\n",
      "Epoch 31: val_accuracy did not improve from 0.65780\n",
      "1718/1718 [==============================] - 38s 22ms/step - loss: 0.4820 - accuracy: 0.7618 - val_loss: 0.6693 - val_accuracy: 0.6547\n",
      "Epoch 32/1000\n",
      "1718/1718 [==============================] - ETA: 0s - loss: 0.4781 - accuracy: 0.7682\n",
      "Epoch 32: val_accuracy did not improve from 0.65780\n",
      "1718/1718 [==============================] - 36s 21ms/step - loss: 0.4781 - accuracy: 0.7682 - val_loss: 0.6846 - val_accuracy: 0.6565\n",
      "Epoch 33/1000\n",
      "1717/1718 [============================>.] - ETA: 0s - loss: 0.4703 - accuracy: 0.7683\n",
      "Epoch 33: val_accuracy did not improve from 0.65780\n",
      "1718/1718 [==============================] - 36s 21ms/step - loss: 0.4702 - accuracy: 0.7683 - val_loss: 0.7188 - val_accuracy: 0.6545\n",
      "Epoch 33: early stopping\n"
     ]
    }
   ],
   "source": [
    "history = model.fit(X, y, validation_data=(Xv, yv), epochs=1000, batch_size=16, callbacks=[es, mc])"
   ]
  },
  {
   "cell_type": "code",
   "execution_count": 15,
   "id": "47422035",
   "metadata": {
    "id": "47422035"
   },
   "outputs": [
    {
     "name": "stdout",
     "output_type": "stream",
     "text": [
      "dict_keys(['loss', 'accuracy', 'val_loss', 'val_accuracy'])\n"
     ]
    }
   ],
   "source": [
    "history_dict = history.history\n",
    "print(history_dict.keys())"
   ]
  },
  {
   "cell_type": "code",
   "execution_count": 16,
   "id": "bea375f7",
   "metadata": {
    "id": "bea375f7"
   },
   "outputs": [
    {
     "name": "stdout",
     "output_type": "stream",
     "text": [
      "Train: 0.769, Test: 0.657\n"
     ]
    }
   ],
   "source": [
    "saved_model = load_model('best_model_lstm_bb' + filename + '_.h5')\n",
    "# evaluate the model\n",
    "_, train_acc = saved_model.evaluate(X, y, verbose=0)\n",
    "_, test_acc = saved_model.evaluate(Xt, yt, verbose=0)\n",
    "\n",
    "print('Train: %.3f, Test: %.3f' % (train_acc, test_acc))"
   ]
  },
  {
   "cell_type": "code",
   "execution_count": 17,
   "id": "9891db7e",
   "metadata": {
    "id": "9891db7e"
   },
   "outputs": [],
   "source": [
    "lst = [train_acc, test_acc]\n",
    "df = pd.DataFrame(lst, index =['train_acc', 'test_acc'])\n",
    "df.to_csv(filename +'bb_lstm_results.csv')"
   ]
  },
  {
   "cell_type": "code",
   "execution_count": 18,
   "id": "5fd23f7b",
   "metadata": {
    "id": "5fd23f7b"
   },
   "outputs": [
    {
     "data": {
      "image/png": "[encoded data removed]",
      "text/plain": [
       "<Figure size 432x288 with 1 Axes>"
      ]
     },
     "metadata": {
      "needs_background": "light"
     },
     "output_type": "display_data"
    }
   ],
   "source": [
    "# plot history\n",
    "pyplot.plot(history.history['accuracy'], label='train')\n",
    "pyplot.plot(history.history['val_accuracy'], label='test')\n",
    "pyplot.legend()\n",
    "pyplot.savefig(filename + 'bb_lstm_acc.png', bbox_inches='tight')\n",
    "pyplot.show()\n"
   ]
  },
  {
   "cell_type": "code",
   "execution_count": 19,
   "id": "c838366c",
   "metadata": {},
   "outputs": [],
   "source": [
    "from matplotlib import pyplot as plt"
   ]
  },
  {
   "cell_type": "code",
   "execution_count": 20,
   "id": "b854e3fc",
   "metadata": {},
   "outputs": [
    {
     "data": {
      "image/png": "[encoded data removed]",
      "text/plain": [
       "<Figure size 432x288 with 1 Axes>"
      ]
     },
     "metadata": {
      "needs_background": "light"
     },
     "output_type": "display_data"
    }
   ],
   "source": [
    "plt.title('Loss')\n",
    "plt.plot(history.history['loss'], label='train')\n",
    "plt.plot(history.history['val_loss'], label='test')\n",
    "plt.legend()\n",
    "pyplot.savefig(filename + 'bb_lstm_loss.png', bbox_inches='tight')\n",
    "plt.show();"
   ]
  },
  {
   "cell_type": "code",
   "execution_count": 22,
   "id": "c05e8f4a",
   "metadata": {},
   "outputs": [
    {
     "name": "stdout",
     "output_type": "stream",
     "text": [
      "Test Accuracy Score: 0.769\n",
      "Test Recall Score: 0.638\n",
      "Test Precision Score: 0.787\n",
      "Test F1 Score: 0.705\n",
      "Test Accuracy Score: 0.657\n",
      "Test Recall Score: 0.479\n",
      "Test Precision Score: 0.636\n",
      "Test F1 Score: 0.546\n"
     ]
    }
   ],
   "source": [
    "from sklearn.metrics import confusion_matrix\n",
    "saved_model = load_model('best_model_lstm_bb_' +'.h5')\n",
    "yp = (saved_model.predict(X) > 0.5).astype('int32') \n",
    "matrix = confusion_matrix(y,yp, labels=[1,0])\n",
    "cm = pd.DataFrame(matrix, index=['1','0'],columns=['1','0'])\n",
    "from sklearn.metrics import accuracy_score\n",
    "print(\"Test Accuracy Score: %.3f\" %(accuracy_score(y,yp)))\n",
    "\n",
    "from sklearn.metrics import recall_score\n",
    "print(\"Test Recall Score: %.3f\" %(recall_score(y,yp)))\n",
    "\n",
    "from sklearn.metrics import precision_score\n",
    "print(\"Test Precision Score: %.3f\" %(precision_score(y,yp)))\n",
    "\n",
    "from sklearn.metrics import f1_score\n",
    "print(\"Test F1 Score: %.3f\" %(f1_score(y,yp)))\n",
    "yp = (saved_model.predict(Xt) > 0.5).astype('int32') \n",
    "matrix = confusion_matrix(yt,yp, labels=[1,0])\n",
    "cm = pd.DataFrame(matrix, index=['1','0'],columns=['1','0'])\n",
    "\n",
    "print(\"Test Accuracy Score: %.3f\" %(accuracy_score(yt,yp)))\n",
    "\n",
    "\n",
    "print(\"Test Recall Score: %.3f\" %(recall_score(yt,yp)))\n",
    "\n",
    "\n",
    "print(\"Test Precision Score: %.3f\" %(precision_score(yt,yp)))\n",
    "\n",
    "\n",
    "print(\"Test F1 Score: %.3f\" %(f1_score(yt,yp)))"
   ]
  },
  {
   "cell_type": "code",
   "execution_count": null,
   "id": "3cdf776c",
   "metadata": {},
   "outputs": [],
   "source": []
  }
 ],
 "metadata": {
  "accelerator": "GPU",
  "colab": {
   "collapsed_sections": [],
   "name": "LSTM_NN 786.ipynb",
   "provenance": []
  },
  "kernelspec": {
   "display_name": "Python 3 (ipykernel)",
   "language": "python",
   "name": "python3"
  },
  "language_info": {
   "codemirror_mode": {
    "name": "ipython",
    "version": 3
   },
   "file_extension": ".py",
   "mimetype": "text/x-python",
   "name": "python",
   "nbconvert_exporter": "python",
   "pygments_lexer": "ipython3",
   "version": "3.7.9"
  }
 },
 "nbformat": 4,
 "nbformat_minor": 5
}
