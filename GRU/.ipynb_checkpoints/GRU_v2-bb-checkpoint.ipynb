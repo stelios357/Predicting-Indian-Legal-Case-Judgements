{
 "cells": [
  {
   "cell_type": "markdown",
   "id": "fwojLHeUGpS3",
   "metadata": {
    "id": "fwojLHeUGpS3"
   },
   "source": [
    "# Code"
   ]
  },
  {
   "cell_type": "code",
   "execution_count": 1,
   "id": "da85070b",
   "metadata": {
    "ExecuteTime": {
     "end_time": "2021-12-03T19:48:49.374640Z",
     "start_time": "2021-12-03T19:48:45.785160Z"
    },
    "id": "da85070b"
   },
   "outputs": [],
   "source": [
    "import pandas as pd\n",
    "import numpy as np\n",
    "from tensorflow import keras\n",
    "from keras import layers\n",
    "from sklearn.model_selection import train_test_split\n",
    "from keras.callbacks import EarlyStopping\n",
    "from keras.callbacks import ModelCheckpoint\n",
    "from matplotlib import pyplot\n",
    "from keras.models import load_model\n",
    "from keras.models import Sequential\n",
    "from keras.layers import Dense\n",
    "from keras.layers import Dropout\n",
    "from keras.layers import LSTM\n",
    "from keras.utils import np_utils\n",
    "from keras.layers import GRU"
   ]
  },
  {
   "cell_type": "code",
   "execution_count": 2,
   "id": "72773790",
   "metadata": {
    "id": "72773790"
   },
   "outputs": [],
   "source": [
    "filename = '../Data/BERT2560/Combined/reshape_legalbert_2560.csv'"
   ]
  },
  {
   "cell_type": "code",
   "execution_count": 3,
   "id": "a94793ad",
   "metadata": {
    "ExecuteTime": {
     "end_time": "2021-12-03T19:51:23.396609Z",
     "start_time": "2021-12-03T19:51:19.205230Z"
    },
    "id": "a94793ad"
   },
   "outputs": [],
   "source": [
    "data = pd.read_csv(filename)"
   ]
  },
  {
   "cell_type": "code",
   "execution_count": 4,
   "id": "91911a5e",
   "metadata": {
    "id": "91911a5e"
   },
   "outputs": [],
   "source": [
    "filename = filename[:filename.index('.')]"
   ]
  },
  {
   "cell_type": "code",
   "execution_count": 5,
   "id": "fybg0x1waaz8",
   "metadata": {
    "id": "fybg0x1waaz8"
   },
   "outputs": [],
   "source": [
    "# data = data[:2000]\n",
    "label = data['label']\n",
    "features = data.drop(['uid', 'label'], axis=1)"
   ]
  },
  {
   "cell_type": "code",
   "execution_count": 6,
   "id": "16dc4b0c",
   "metadata": {},
   "outputs": [],
   "source": [
    "del data"
   ]
  },
  {
   "cell_type": "code",
   "execution_count": 9,
   "id": "50b91ba2",
   "metadata": {},
   "outputs": [],
   "source": [
    "features = features.to_numpy()\n",
    "features = features.reshape(39256, 5, 768)"
   ]
  },
  {
   "cell_type": "code",
   "execution_count": 10,
   "id": "2a6b8577",
   "metadata": {
    "colab": {
     "base_uri": "https://localhost:8080/"
    },
    "id": "2a6b8577",
    "outputId": "37eaa80f-6f1c-44e8-f753-c30b1e0fc6a3"
   },
   "outputs": [
    {
     "name": "stdout",
     "output_type": "stream",
     "text": [
      "(27479, 5, 768) (27479,) (11777, 5, 768) (11777,)\n",
      "(7066, 5, 768) (4711, 5, 768) (7066,) (4711,)\n"
     ]
    }
   ],
   "source": [
    "X, a, y, b = train_test_split(features, label, random_state=42, stratify=label, test_size=0.3)\n",
    "print(X.shape, y.shape, a.shape, b.shape)\n",
    "\n",
    "Xv, Xt, yv, yt = train_test_split(a, b, random_state=42, stratify=b, test_size=0.4)\n",
    "print(Xv.shape, Xt.shape, yv.shape, yt.shape)\n",
    "\n",
    "# Xv = X[-6000:]\n",
    "# X = X[:-6000]"
   ]
  },
  {
   "cell_type": "code",
   "execution_count": 34,
   "id": "20e46ce2",
   "metadata": {},
   "outputs": [],
   "source": [
    "# defining the LSTM model\n",
    "model = Sequential()\n",
    "model.add(GRU(100, input_shape=(features.shape[1], features.shape[2]), return_sequences=True, activation='relu')) #bidirectional lstm\n",
    "model.add(Dropout(0.25)) #do for both bid and normal lstm \n",
    "model.add(GRU(50,return_sequences=True))\n",
    "model.add(Dropout(0.2))\n",
    "model.add(GRU(20))\n",
    "model.add(Dropout(0.1))\n",
    "model.add(Dense(1, activation='sigmoid'))"
   ]
  },
  {
   "cell_type": "code",
   "execution_count": 35,
   "id": "a0c6d7cf",
   "metadata": {
    "id": "a0c6d7cf"
   },
   "outputs": [],
   "source": [
    "model.compile(optimizer='adam', loss=keras.losses.BinaryCrossentropy(), metrics=['accuracy'])"
   ]
  },
  {
   "cell_type": "code",
   "execution_count": 36,
   "id": "04c62895",
   "metadata": {
    "id": "04c62895"
   },
   "outputs": [],
   "source": [
    "es = EarlyStopping(monitor='val_loss', mode='min', verbose=1, patience=50)\n",
    "mc = ModelCheckpoint('best_model_gru_legal_8' + filename + '_.h5', monitor='val_accuracy', mode='max', verbose=1, save_best_only=True)"
   ]
  },
  {
   "cell_type": "code",
   "execution_count": 37,
   "id": "c3ceab43",
   "metadata": {
    "colab": {
     "base_uri": "https://localhost:8080/"
    },
    "id": "c3ceab43",
    "outputId": "c6dcd598-3c37-4245-e7cc-eb9bdcb00c6b"
   },
   "outputs": [
    {
     "name": "stdout",
     "output_type": "stream",
     "text": [
      "Epoch 1/1000\n",
      "3435/3435 [==============================] - ETA: 0s - loss: 0.6521 - accuracy: 0.6123\n",
      "Epoch 1: val_accuracy improved from -inf to 0.66671, saving model to best_model_gru_legal_8_.h5\n",
      "3435/3435 [==============================] - 50s 12ms/step - loss: 0.6521 - accuracy: 0.6123 - val_loss: 0.6038 - val_accuracy: 0.6667\n",
      "Epoch 2/1000\n",
      "3434/3435 [============================>.] - ETA: 0s - loss: 0.5991 - accuracy: 0.6680\n",
      "Epoch 2: val_accuracy improved from 0.66671 to 0.66983, saving model to best_model_gru_legal_8_.h5\n",
      "3435/3435 [==============================] - 41s 12ms/step - loss: 0.5992 - accuracy: 0.6680 - val_loss: 0.5998 - val_accuracy: 0.6698\n",
      "Epoch 3/1000\n",
      "3432/3435 [============================>.] - ETA: 0s - loss: 0.5774 - accuracy: 0.6868\n",
      "Epoch 3: val_accuracy improved from 0.66983 to 0.68214, saving model to best_model_gru_legal_8_.h5\n",
      "3435/3435 [==============================] - 39s 11ms/step - loss: 0.5774 - accuracy: 0.6868 - val_loss: 0.5780 - val_accuracy: 0.6821\n",
      "Epoch 4/1000\n",
      "3435/3435 [==============================] - ETA: 0s - loss: 0.5629 - accuracy: 0.6982\n",
      "Epoch 4: val_accuracy improved from 0.68214 to 0.69290, saving model to best_model_gru_legal_8_.h5\n",
      "3435/3435 [==============================] - 38s 11ms/step - loss: 0.5629 - accuracy: 0.6982 - val_loss: 0.5719 - val_accuracy: 0.6929\n",
      "Epoch 5/1000\n",
      "3433/3435 [============================>.] - ETA: 0s - loss: 0.5471 - accuracy: 0.7112\n",
      "Epoch 5: val_accuracy did not improve from 0.69290\n",
      "3435/3435 [==============================] - 38s 11ms/step - loss: 0.5471 - accuracy: 0.7112 - val_loss: 0.5723 - val_accuracy: 0.6841\n",
      "Epoch 6/1000\n",
      "3435/3435 [==============================] - ETA: 0s - loss: 0.5352 - accuracy: 0.7198\n",
      "Epoch 6: val_accuracy improved from 0.69290 to 0.70224, saving model to best_model_gru_legal_8_.h5\n",
      "3435/3435 [==============================] - 38s 11ms/step - loss: 0.5352 - accuracy: 0.7198 - val_loss: 0.5607 - val_accuracy: 0.7022\n",
      "Epoch 7/1000\n",
      "3431/3435 [============================>.] - ETA: 0s - loss: 0.5253 - accuracy: 0.7268\n",
      "Epoch 7: val_accuracy did not improve from 0.70224\n",
      "3435/3435 [==============================] - 37s 11ms/step - loss: 0.5253 - accuracy: 0.7268 - val_loss: 0.5707 - val_accuracy: 0.7014\n",
      "Epoch 8/1000\n",
      "3433/3435 [============================>.] - ETA: 0s - loss: 0.5158 - accuracy: 0.7361\n",
      "Epoch 8: val_accuracy improved from 0.70224 to 0.70266, saving model to best_model_gru_legal_8_.h5\n",
      "3435/3435 [==============================] - 45s 13ms/step - loss: 0.5158 - accuracy: 0.7362 - val_loss: 0.5699 - val_accuracy: 0.7027\n",
      "Epoch 9/1000\n",
      "3434/3435 [============================>.] - ETA: 0s - loss: 0.5039 - accuracy: 0.7436\n",
      "Epoch 9: val_accuracy did not improve from 0.70266\n",
      "3435/3435 [==============================] - 52s 15ms/step - loss: 0.5040 - accuracy: 0.7435 - val_loss: 0.5715 - val_accuracy: 0.6923\n",
      "Epoch 10/1000\n",
      "3432/3435 [============================>.] - ETA: 0s - loss: 0.4957 - accuracy: 0.7540\n",
      "Epoch 10: val_accuracy improved from 0.70266 to 0.71158, saving model to best_model_gru_legal_8_.h5\n",
      "3435/3435 [==============================] - 47s 14ms/step - loss: 0.4956 - accuracy: 0.7540 - val_loss: 0.5657 - val_accuracy: 0.7116\n",
      "Epoch 11/1000\n",
      "3435/3435 [==============================] - ETA: 0s - loss: 0.4838 - accuracy: 0.7583\n",
      "Epoch 11: val_accuracy did not improve from 0.71158\n",
      "3435/3435 [==============================] - 43s 12ms/step - loss: 0.4838 - accuracy: 0.7583 - val_loss: 0.5718 - val_accuracy: 0.7079\n",
      "Epoch 12/1000\n",
      "3434/3435 [============================>.] - ETA: 0s - loss: 0.4718 - accuracy: 0.7648\n",
      "Epoch 12: val_accuracy did not improve from 0.71158\n",
      "3435/3435 [==============================] - 44s 13ms/step - loss: 0.4718 - accuracy: 0.7648 - val_loss: 0.5632 - val_accuracy: 0.7046\n",
      "Epoch 13/1000\n",
      "3432/3435 [============================>.] - ETA: 0s - loss: 0.4615 - accuracy: 0.7709\n",
      "Epoch 13: val_accuracy did not improve from 0.71158\n",
      "3435/3435 [==============================] - 43s 13ms/step - loss: 0.4615 - accuracy: 0.7709 - val_loss: 0.5846 - val_accuracy: 0.7106\n",
      "Epoch 14/1000\n",
      "3430/3435 [============================>.] - ETA: 0s - loss: 0.4511 - accuracy: 0.7796\n",
      "Epoch 14: val_accuracy did not improve from 0.71158\n",
      "3435/3435 [==============================] - 35s 10ms/step - loss: 0.4511 - accuracy: 0.7794 - val_loss: 0.5877 - val_accuracy: 0.6986\n",
      "Epoch 15/1000\n",
      "3431/3435 [============================>.] - ETA: 0s - loss: 0.4418 - accuracy: 0.7881\n",
      "Epoch 15: val_accuracy did not improve from 0.71158\n",
      "3435/3435 [==============================] - 33s 10ms/step - loss: 0.4418 - accuracy: 0.7881 - val_loss: 0.5782 - val_accuracy: 0.6976\n",
      "Epoch 16/1000\n",
      "3433/3435 [============================>.] - ETA: 0s - loss: 0.4338 - accuracy: 0.7923\n",
      "Epoch 16: val_accuracy improved from 0.71158 to 0.71568, saving model to best_model_gru_legal_8_.h5\n",
      "3435/3435 [==============================] - 37s 11ms/step - loss: 0.4339 - accuracy: 0.7922 - val_loss: 0.5686 - val_accuracy: 0.7157\n",
      "Epoch 17/1000\n",
      "3432/3435 [============================>.] - ETA: 0s - loss: 0.4234 - accuracy: 0.7967\n",
      "Epoch 17: val_accuracy did not improve from 0.71568\n",
      "3435/3435 [==============================] - 40s 12ms/step - loss: 0.4236 - accuracy: 0.7967 - val_loss: 0.6644 - val_accuracy: 0.6993\n",
      "Epoch 18/1000\n",
      "3434/3435 [============================>.] - ETA: 0s - loss: 0.4109 - accuracy: 0.8050\n",
      "Epoch 18: val_accuracy did not improve from 0.71568\n",
      "3435/3435 [==============================] - 48s 14ms/step - loss: 0.4109 - accuracy: 0.8050 - val_loss: 0.5877 - val_accuracy: 0.7133\n",
      "Epoch 19/1000\n",
      "3433/3435 [============================>.] - ETA: 0s - loss: 0.4033 - accuracy: 0.8101\n",
      "Epoch 19: val_accuracy did not improve from 0.71568\n",
      "3435/3435 [==============================] - 61s 18ms/step - loss: 0.4033 - accuracy: 0.8101 - val_loss: 0.6217 - val_accuracy: 0.7020\n",
      "Epoch 20/1000\n",
      "3433/3435 [============================>.] - ETA: 0s - loss: 0.3979 - accuracy: 0.8151\n",
      "Epoch 20: val_accuracy did not improve from 0.71568\n",
      "3435/3435 [==============================] - 53s 16ms/step - loss: 0.3978 - accuracy: 0.8151 - val_loss: 0.6099 - val_accuracy: 0.7087\n",
      "Epoch 21/1000\n",
      "3434/3435 [============================>.] - ETA: 0s - loss: 0.3841 - accuracy: 0.8194\n",
      "Epoch 21: val_accuracy did not improve from 0.71568\n",
      "3435/3435 [==============================] - 57s 17ms/step - loss: 0.3842 - accuracy: 0.8193 - val_loss: 0.6202 - val_accuracy: 0.7085\n",
      "Epoch 22/1000\n",
      "3435/3435 [==============================] - ETA: 0s - loss: 0.3761 - accuracy: 0.8243\n",
      "Epoch 22: val_accuracy did not improve from 0.71568\n",
      "3435/3435 [==============================] - 45s 13ms/step - loss: 0.3761 - accuracy: 0.8243 - val_loss: 0.6481 - val_accuracy: 0.7021\n",
      "Epoch 23/1000\n",
      "3435/3435 [==============================] - ETA: 0s - loss: 0.3731 - accuracy: 0.8286\n",
      "Epoch 23: val_accuracy did not improve from 0.71568\n",
      "3435/3435 [==============================] - 48s 14ms/step - loss: 0.3731 - accuracy: 0.8286 - val_loss: 0.6089 - val_accuracy: 0.7086\n",
      "Epoch 24/1000\n",
      "3431/3435 [============================>.] - ETA: 0s - loss: 0.3665 - accuracy: 0.8325\n",
      "Epoch 24: val_accuracy did not improve from 0.71568\n",
      "3435/3435 [==============================] - 42s 12ms/step - loss: 0.3665 - accuracy: 0.8325 - val_loss: 0.6275 - val_accuracy: 0.7037\n",
      "Epoch 25/1000\n",
      "3435/3435 [==============================] - ETA: 0s - loss: 0.3565 - accuracy: 0.8362\n",
      "Epoch 25: val_accuracy did not improve from 0.71568\n",
      "3435/3435 [==============================] - 45s 13ms/step - loss: 0.3565 - accuracy: 0.8362 - val_loss: 0.7223 - val_accuracy: 0.6993\n",
      "Epoch 26/1000\n",
      "3434/3435 [============================>.] - ETA: 0s - loss: 0.3479 - accuracy: 0.8443\n",
      "Epoch 26: val_accuracy did not improve from 0.71568\n",
      "3435/3435 [==============================] - 43s 13ms/step - loss: 0.3479 - accuracy: 0.8443 - val_loss: 0.6182 - val_accuracy: 0.7097\n",
      "Epoch 27/1000\n",
      "3433/3435 [============================>.] - ETA: 0s - loss: 0.3394 - accuracy: 0.8482\n",
      "Epoch 27: val_accuracy did not improve from 0.71568\n",
      "3435/3435 [==============================] - 50s 15ms/step - loss: 0.3394 - accuracy: 0.8482 - val_loss: 0.6695 - val_accuracy: 0.7113\n",
      "Epoch 28/1000\n",
      "3434/3435 [============================>.] - ETA: 0s - loss: 0.3363 - accuracy: 0.8481\n",
      "Epoch 28: val_accuracy did not improve from 0.71568\n",
      "3435/3435 [==============================] - 45s 13ms/step - loss: 0.3363 - accuracy: 0.8481 - val_loss: 0.6593 - val_accuracy: 0.7130\n",
      "Epoch 29/1000\n",
      "3434/3435 [============================>.] - ETA: 0s - loss: 0.3269 - accuracy: 0.8513\n",
      "Epoch 29: val_accuracy improved from 0.71568 to 0.71752, saving model to best_model_gru_legal_8_.h5\n",
      "3435/3435 [==============================] - 44s 13ms/step - loss: 0.3269 - accuracy: 0.8513 - val_loss: 0.6883 - val_accuracy: 0.7175\n",
      "Epoch 30/1000\n",
      "3435/3435 [==============================] - ETA: 0s - loss: 0.3256 - accuracy: 0.8561\n",
      "Epoch 30: val_accuracy did not improve from 0.71752\n",
      "3435/3435 [==============================] - 45s 13ms/step - loss: 0.3256 - accuracy: 0.8561 - val_loss: 0.6683 - val_accuracy: 0.7157\n",
      "Epoch 31/1000\n",
      "3431/3435 [============================>.] - ETA: 0s - loss: 0.3127 - accuracy: 0.8649\n",
      "Epoch 31: val_accuracy did not improve from 0.71752\n",
      "3435/3435 [==============================] - 45s 13ms/step - loss: 0.3127 - accuracy: 0.8649 - val_loss: 0.7153 - val_accuracy: 0.6964\n",
      "Epoch 32/1000\n",
      "3434/3435 [============================>.] - ETA: 0s - loss: 0.3106 - accuracy: 0.8642\n",
      "Epoch 32: val_accuracy did not improve from 0.71752\n",
      "3435/3435 [==============================] - 44s 13ms/step - loss: 0.3107 - accuracy: 0.8642 - val_loss: 0.6632 - val_accuracy: 0.7153\n",
      "Epoch 33/1000\n",
      "3434/3435 [============================>.] - ETA: 0s - loss: 0.3029 - accuracy: 0.8687\n",
      "Epoch 33: val_accuracy did not improve from 0.71752\n",
      "3435/3435 [==============================] - 45s 13ms/step - loss: 0.3029 - accuracy: 0.8688 - val_loss: 0.6849 - val_accuracy: 0.7070\n",
      "Epoch 34/1000\n",
      "3433/3435 [============================>.] - ETA: 0s - loss: 0.3012 - accuracy: 0.8698\n",
      "Epoch 34: val_accuracy did not improve from 0.71752\n",
      "3435/3435 [==============================] - 45s 13ms/step - loss: 0.3013 - accuracy: 0.8698 - val_loss: 0.6880 - val_accuracy: 0.7170\n",
      "Epoch 35/1000\n",
      "3431/3435 [============================>.] - ETA: 0s - loss: 0.2943 - accuracy: 0.8726\n",
      "Epoch 35: val_accuracy did not improve from 0.71752\n",
      "3435/3435 [==============================] - 43s 13ms/step - loss: 0.2942 - accuracy: 0.8726 - val_loss: 0.7238 - val_accuracy: 0.7130\n",
      "Epoch 36/1000\n",
      "3429/3435 [============================>.] - ETA: 0s - loss: 0.2853 - accuracy: 0.8772\n",
      "Epoch 36: val_accuracy did not improve from 0.71752\n",
      "3435/3435 [==============================] - 30s 9ms/step - loss: 0.2853 - accuracy: 0.8771 - val_loss: 0.7389 - val_accuracy: 0.7082\n",
      "Epoch 37/1000\n",
      "3434/3435 [============================>.] - ETA: 0s - loss: 0.2830 - accuracy: 0.8793\n",
      "Epoch 37: val_accuracy did not improve from 0.71752\n",
      "3435/3435 [==============================] - 32s 9ms/step - loss: 0.2830 - accuracy: 0.8794 - val_loss: 0.8081 - val_accuracy: 0.7085\n",
      "Epoch 38/1000\n",
      "3430/3435 [============================>.] - ETA: 0s - loss: 0.2834 - accuracy: 0.8797\n",
      "Epoch 38: val_accuracy improved from 0.71752 to 0.72078, saving model to best_model_gru_legal_8_.h5\n",
      "3435/3435 [==============================] - 35s 10ms/step - loss: 0.2838 - accuracy: 0.8796 - val_loss: 0.7097 - val_accuracy: 0.7208\n",
      "Epoch 39/1000\n",
      "3435/3435 [==============================] - ETA: 0s - loss: 0.2720 - accuracy: 0.8881\n",
      "Epoch 39: val_accuracy did not improve from 0.72078\n",
      "3435/3435 [==============================] - 40s 12ms/step - loss: 0.2720 - accuracy: 0.8881 - val_loss: 0.7182 - val_accuracy: 0.7184\n",
      "Epoch 40/1000\n",
      "3435/3435 [==============================] - ETA: 0s - loss: 0.2733 - accuracy: 0.8840\n",
      "Epoch 40: val_accuracy did not improve from 0.72078\n",
      "3435/3435 [==============================] - 65s 19ms/step - loss: 0.2733 - accuracy: 0.8840 - val_loss: 0.7489 - val_accuracy: 0.7134\n",
      "Epoch 41/1000\n",
      "3433/3435 [============================>.] - ETA: 2s - loss: 0.2685 - accuracy: 0.8868\n",
      "Epoch 41: val_accuracy improved from 0.72078 to 0.72290, saving model to best_model_gru_legal_8_.h5\n",
      "3435/3435 [==============================] - 4234s 1s/step - loss: 0.2684 - accuracy: 0.8869 - val_loss: 0.7396 - val_accuracy: 0.7229\n",
      "Epoch 42/1000\n",
      "3434/3435 [============================>.] - ETA: 0s - loss: 0.2683 - accuracy: 0.8880\n",
      "Epoch 42: val_accuracy did not improve from 0.72290\n",
      "3435/3435 [==============================] - 98s 28ms/step - loss: 0.2683 - accuracy: 0.8880 - val_loss: 0.7563 - val_accuracy: 0.7202\n",
      "Epoch 43/1000\n",
      "3435/3435 [==============================] - ETA: 0s - loss: 0.2565 - accuracy: 0.8943\n",
      "Epoch 43: val_accuracy did not improve from 0.72290\n",
      "3435/3435 [==============================] - 59s 17ms/step - loss: 0.2565 - accuracy: 0.8943 - val_loss: 0.8163 - val_accuracy: 0.7106\n",
      "Epoch 44/1000\n",
      "3433/3435 [============================>.] - ETA: 0s - loss: 0.2583 - accuracy: 0.8939\n",
      "Epoch 44: val_accuracy did not improve from 0.72290\n",
      "3435/3435 [==============================] - 64s 19ms/step - loss: 0.2583 - accuracy: 0.8940 - val_loss: 0.7462 - val_accuracy: 0.7120\n",
      "Epoch 45/1000\n",
      "3434/3435 [============================>.] - ETA: 0s - loss: 0.2573 - accuracy: 0.8939\n",
      "Epoch 45: val_accuracy did not improve from 0.72290\n",
      "3435/3435 [==============================] - 48s 14ms/step - loss: 0.2573 - accuracy: 0.8939 - val_loss: 0.7695 - val_accuracy: 0.7172\n",
      "Epoch 46/1000\n",
      "3431/3435 [============================>.] - ETA: 0s - loss: 0.2467 - accuracy: 0.8989\n",
      "Epoch 46: val_accuracy did not improve from 0.72290\n",
      "3435/3435 [==============================] - 46s 13ms/step - loss: 0.2466 - accuracy: 0.8990 - val_loss: 0.7751 - val_accuracy: 0.7147\n",
      "Epoch 47/1000\n",
      "3435/3435 [==============================] - ETA: 0s - loss: 0.2524 - accuracy: 0.8965\n",
      "Epoch 47: val_accuracy did not improve from 0.72290\n",
      "3435/3435 [==============================] - 55s 16ms/step - loss: 0.2524 - accuracy: 0.8965 - val_loss: 0.8180 - val_accuracy: 0.7106\n",
      "Epoch 48/1000\n",
      "3430/3435 [============================>.] - ETA: 0s - loss: 0.2419 - accuracy: 0.9034\n",
      "Epoch 48: val_accuracy did not improve from 0.72290\n",
      "3435/3435 [==============================] - 59s 17ms/step - loss: 0.2419 - accuracy: 0.9034 - val_loss: 0.7896 - val_accuracy: 0.7181\n",
      "Epoch 49/1000\n",
      "3433/3435 [============================>.] - ETA: 0s - loss: 0.2390 - accuracy: 0.9036\n",
      "Epoch 49: val_accuracy did not improve from 0.72290\n",
      "3435/3435 [==============================] - 57s 17ms/step - loss: 0.2389 - accuracy: 0.9036 - val_loss: 0.7755 - val_accuracy: 0.7021\n",
      "Epoch 50/1000\n",
      "3435/3435 [==============================] - ETA: 0s - loss: 0.2347 - accuracy: 0.9061\n",
      "Epoch 50: val_accuracy did not improve from 0.72290\n",
      "3435/3435 [==============================] - 55s 16ms/step - loss: 0.2347 - accuracy: 0.9061 - val_loss: 0.8103 - val_accuracy: 0.7082\n",
      "Epoch 51/1000\n",
      "3434/3435 [============================>.] - ETA: 0s - loss: 0.2327 - accuracy: 0.9047\n",
      "Epoch 51: val_accuracy did not improve from 0.72290\n",
      "3435/3435 [==============================] - 50s 14ms/step - loss: 0.2327 - accuracy: 0.9047 - val_loss: 0.7872 - val_accuracy: 0.7153\n",
      "Epoch 52/1000\n",
      "3433/3435 [============================>.] - ETA: 0s - loss: 0.2351 - accuracy: 0.9066\n",
      "Epoch 52: val_accuracy did not improve from 0.72290\n",
      "3435/3435 [==============================] - 73s 21ms/step - loss: 0.2352 - accuracy: 0.9066 - val_loss: 0.8620 - val_accuracy: 0.7051\n",
      "Epoch 53/1000\n",
      "3435/3435 [==============================] - ETA: 0s - loss: 0.2314 - accuracy: 0.9072\n",
      "Epoch 53: val_accuracy improved from 0.72290 to 0.72332, saving model to best_model_gru_legal_8_.h5\n",
      "3435/3435 [==============================] - 64s 19ms/step - loss: 0.2314 - accuracy: 0.9072 - val_loss: 0.8165 - val_accuracy: 0.7233\n",
      "Epoch 54/1000\n",
      "3435/3435 [==============================] - ETA: 0s - loss: 0.2255 - accuracy: 0.9106\n",
      "Epoch 54: val_accuracy did not improve from 0.72332\n",
      "3435/3435 [==============================] - 59s 17ms/step - loss: 0.2255 - accuracy: 0.9106 - val_loss: 0.7788 - val_accuracy: 0.7168\n",
      "Epoch 55/1000\n",
      "3433/3435 [============================>.] - ETA: 0s - loss: 0.2133 - accuracy: 0.9151\n",
      "Epoch 55: val_accuracy did not improve from 0.72332\n",
      "3435/3435 [==============================] - 57s 16ms/step - loss: 0.2133 - accuracy: 0.9150 - val_loss: 0.8233 - val_accuracy: 0.7172\n"
     ]
    },
    {
     "name": "stdout",
     "output_type": "stream",
     "text": [
      "Epoch 56/1000\n",
      "3433/3435 [============================>.] - ETA: 0s - loss: 0.2208 - accuracy: 0.9137\n",
      "Epoch 56: val_accuracy did not improve from 0.72332\n",
      "3435/3435 [==============================] - 59s 17ms/step - loss: 0.2208 - accuracy: 0.9138 - val_loss: 0.7741 - val_accuracy: 0.7205\n",
      "Epoch 56: early stopping\n"
     ]
    }
   ],
   "source": [
    "history = model.fit(X, y, validation_data=(Xv, yv), epochs=1000, batch_size=8, callbacks=[es, mc])"
   ]
  },
  {
   "cell_type": "code",
   "execution_count": 38,
   "id": "47422035",
   "metadata": {
    "id": "47422035"
   },
   "outputs": [
    {
     "name": "stdout",
     "output_type": "stream",
     "text": [
      "dict_keys(['loss', 'accuracy', 'val_loss', 'val_accuracy'])\n"
     ]
    }
   ],
   "source": [
    "history_dict = history.history\n",
    "print(history_dict.keys())"
   ]
  },
  {
   "cell_type": "code",
   "execution_count": 11,
   "id": "bea375f7",
   "metadata": {
    "id": "bea375f7"
   },
   "outputs": [
    {
     "name": "stdout",
     "output_type": "stream",
     "text": [
      "Train: 0.939, Test: 0.724\n"
     ]
    }
   ],
   "source": [
    "saved_model = load_model('best_model_gru_legal_8' + filename + '_.h5')\n",
    "# evaluate the model\n",
    "_, train_acc = saved_model.evaluate(X, y, verbose=0)\n",
    "_, test_acc = saved_model.evaluate(Xt, yt, verbose=0)\n",
    "\n",
    "print('Train: %.3f, Test: %.3f' % (train_acc, test_acc))"
   ]
  },
  {
   "cell_type": "code",
   "execution_count": 40,
   "id": "9891db7e",
   "metadata": {
    "id": "9891db7e"
   },
   "outputs": [],
   "source": [
    "lst = [train_acc, test_acc]\n",
    "df = pd.DataFrame(lst, index =['train_acc', 'test_acc'])\n",
    "df.to_csv(filename +'best_model_gru_legal_8.csv')"
   ]
  },
  {
   "cell_type": "code",
   "execution_count": 41,
   "id": "5fd23f7b",
   "metadata": {
    "id": "5fd23f7b"
   },
   "outputs": [
    {
     "data": {
      "image/png": "[encoded data removed]",
      "text/plain": [
       "<Figure size 432x288 with 1 Axes>"
      ]
     },
     "metadata": {
      "needs_background": "light"
     },
     "output_type": "display_data"
    }
   ],
   "source": [
    "# plot history\n",
    "pyplot.plot(history.history['accuracy'], label='train')\n",
    "pyplot.plot(history.history['val_accuracy'], label='test')\n",
    "pyplot.legend()\n",
    "pyplot.savefig(filename + 'best_model_gru_legal_8.png', bbox_inches='tight')\n",
    "pyplot.show()\n"
   ]
  },
  {
   "cell_type": "code",
   "execution_count": 42,
   "id": "c838366c",
   "metadata": {},
   "outputs": [],
   "source": [
    "from matplotlib import pyplot as plt"
   ]
  },
  {
   "cell_type": "code",
   "execution_count": 43,
   "id": "b854e3fc",
   "metadata": {},
   "outputs": [
    {
     "data": {
      "image/png": "[encoded data removed]",
      "text/plain": [
       "<Figure size 432x288 with 1 Axes>"
      ]
     },
     "metadata": {
      "needs_background": "light"
     },
     "output_type": "display_data"
    }
   ],
   "source": [
    "plt.title('Loss')\n",
    "plt.plot(history.history['loss'], label='train')\n",
    "plt.plot(history.history['val_loss'], label='test')\n",
    "plt.legend()\n",
    "pyplot.savefig(filename + 'best_model_gru_legal_8.png', bbox_inches='tight')\n",
    "plt.show();"
   ]
  },
  {
   "cell_type": "code",
   "execution_count": 13,
   "id": "2da3ea71",
   "metadata": {},
   "outputs": [
    {
     "name": "stdout",
     "output_type": "stream",
     "text": [
      "Test Accuracy Score: 0.939\n",
      "Test Recall Score: 0.933\n",
      "Test Precision Score: 0.926\n",
      "Test F1 Score: 0.929\n"
     ]
    }
   ],
   "source": [
    "from sklearn.metrics import confusion_matrix\n",
    "yp = (saved_model.predict(X) > 0.5).astype('int32') \n",
    "matrix = confusion_matrix(y,yp, labels=[1,0])\n",
    "cm = pd.DataFrame(matrix, index=['1','0'],columns=['1','0'])\n",
    "from sklearn.metrics import accuracy_score\n",
    "print(\"Test Accuracy Score: %.3f\" %(accuracy_score(y,yp)))\n",
    "\n",
    "from sklearn.metrics import recall_score\n",
    "print(\"Test Recall Score: %.3f\" %(recall_score(y,yp)))\n",
    "\n",
    "from sklearn.metrics import precision_score\n",
    "print(\"Test Precision Score: %.3f\" %(precision_score(y,yp)))\n",
    "\n",
    "from sklearn.metrics import f1_score\n",
    "print(\"Test F1 Score: %.3f\" %(f1_score(y,yp)))"
   ]
  },
  {
   "cell_type": "code",
   "execution_count": 14,
   "id": "423e459b",
   "metadata": {},
   "outputs": [
    {
     "name": "stdout",
     "output_type": "stream",
     "text": [
      "Test Accuracy Score: 0.724\n",
      "Test Recall Score: 0.679\n",
      "Test Precision Score: 0.680\n",
      "Test F1 Score: 0.680\n"
     ]
    }
   ],
   "source": [
    "yp = (saved_model.predict(Xt) > 0.5).astype('int32') \n",
    "matrix = confusion_matrix(yt,yp, labels=[1,0])\n",
    "cm = pd.DataFrame(matrix, index=['1','0'],columns=['1','0'])\n",
    "from sklearn.metrics import accuracy_score\n",
    "print(\"Test Accuracy Score: %.3f\" %(accuracy_score(yt,yp)))\n",
    "\n",
    "from sklearn.metrics import recall_score\n",
    "print(\"Test Recall Score: %.3f\" %(recall_score(yt,yp)))\n",
    "\n",
    "from sklearn.metrics import precision_score\n",
    "print(\"Test Precision Score: %.3f\" %(precision_score(yt,yp)))\n",
    "\n",
    "from sklearn.metrics import f1_score\n",
    "print(\"Test F1 Score: %.3f\" %(f1_score(yt,yp)))"
   ]
  },
  {
   "cell_type": "code",
   "execution_count": null,
   "id": "b28f793a",
   "metadata": {},
   "outputs": [],
   "source": []
  }
 ],
 "metadata": {
  "accelerator": "GPU",
  "colab": {
   "collapsed_sections": [],
   "name": "LSTM_NN 786.ipynb",
   "provenance": []
  },
  "kernelspec": {
   "display_name": "Python 3 (ipykernel)",
   "language": "python",
   "name": "python3"
  },
  "language_info": {
   "codemirror_mode": {
    "name": "ipython",
    "version": 3
   },
   "file_extension": ".py",
   "mimetype": "text/x-python",
   "name": "python",
   "nbconvert_exporter": "python",
   "pygments_lexer": "ipython3",
   "version": "3.7.9"
  }
 },
 "nbformat": 4,
 "nbformat_minor": 5
}
