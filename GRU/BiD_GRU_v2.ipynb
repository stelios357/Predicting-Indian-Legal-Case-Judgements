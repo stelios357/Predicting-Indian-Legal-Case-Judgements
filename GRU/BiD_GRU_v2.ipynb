{
 "cells": [
  {
   "cell_type": "markdown",
   "id": "fwojLHeUGpS3",
   "metadata": {
    "id": "fwojLHeUGpS3"
   },
   "source": [
    "# Code"
   ]
  },
  {
   "cell_type": "code",
   "execution_count": 1,
   "id": "da85070b",
   "metadata": {
    "ExecuteTime": {
     "end_time": "2021-12-03T19:48:49.374640Z",
     "start_time": "2021-12-03T19:48:45.785160Z"
    },
    "id": "da85070b"
   },
   "outputs": [],
   "source": [
    "import pandas as pd\n",
    "import numpy as np\n",
    "from tensorflow import keras\n",
    "from keras import layers\n",
    "from sklearn.model_selection import train_test_split\n",
    "from keras.callbacks import EarlyStopping\n",
    "from keras.callbacks import ModelCheckpoint\n",
    "from matplotlib import pyplot\n",
    "from keras.models import load_model\n",
    "from keras.models import Sequential\n",
    "from keras.layers import Dense\n",
    "from keras.layers import Dropout\n",
    "from keras.layers import LSTM\n",
    "from keras.layers import GRU\n",
    "from keras.utils import np_utils\n",
    "import numpy as np\n",
    "from keras.preprocessing import sequence\n",
    "from keras.models import Sequential\n",
    "from keras.layers import Dense, Dropout, Embedding, LSTM, Bidirectional\n",
    "from keras.datasets import imdb "
   ]
  },
  {
   "cell_type": "code",
   "execution_count": 2,
   "id": "72773790",
   "metadata": {
    "id": "72773790"
   },
   "outputs": [],
   "source": [
    "filename = '../Data/BERT2560/Combined/reshape_legalbert_2560.csv'"
   ]
  },
  {
   "cell_type": "code",
   "execution_count": 3,
   "id": "a94793ad",
   "metadata": {
    "ExecuteTime": {
     "end_time": "2021-12-03T19:51:23.396609Z",
     "start_time": "2021-12-03T19:51:19.205230Z"
    },
    "id": "a94793ad"
   },
   "outputs": [],
   "source": [
    "data = pd.read_csv(filename)"
   ]
  },
  {
   "cell_type": "code",
   "execution_count": 4,
   "id": "91911a5e",
   "metadata": {
    "id": "91911a5e"
   },
   "outputs": [],
   "source": [
    "filename = filename[:filename.index('.')]"
   ]
  },
  {
   "cell_type": "code",
   "execution_count": 5,
   "id": "fybg0x1waaz8",
   "metadata": {
    "id": "fybg0x1waaz8"
   },
   "outputs": [],
   "source": [
    "# data = data[:2000]\n",
    "label = data['label']\n",
    "features = data.drop(['uid', 'label'], axis=1)"
   ]
  },
  {
   "cell_type": "code",
   "execution_count": 6,
   "id": "57c1b664",
   "metadata": {},
   "outputs": [],
   "source": [
    "del data"
   ]
  },
  {
   "cell_type": "code",
   "execution_count": 7,
   "id": "dad9d271",
   "metadata": {},
   "outputs": [
    {
     "data": {
      "text/plain": [
       "39256"
      ]
     },
     "execution_count": 7,
     "metadata": {},
     "output_type": "execute_result"
    }
   ],
   "source": [
    "len(features)"
   ]
  },
  {
   "cell_type": "code",
   "execution_count": 10,
   "id": "62e91c71",
   "metadata": {},
   "outputs": [],
   "source": [
    "features = features.to_numpy()\n",
    "features = features.reshape(39256, 5, 768)"
   ]
  },
  {
   "cell_type": "code",
   "execution_count": 11,
   "id": "2a6b8577",
   "metadata": {
    "colab": {
     "base_uri": "https://localhost:8080/"
    },
    "id": "2a6b8577",
    "outputId": "37eaa80f-6f1c-44e8-f753-c30b1e0fc6a3"
   },
   "outputs": [
    {
     "name": "stdout",
     "output_type": "stream",
     "text": [
      "(27479, 5, 768) (27479,) (11777, 5, 768) (11777,)\n",
      "(7066, 5, 768) (4711, 5, 768) (7066,) (4711,)\n"
     ]
    }
   ],
   "source": [
    "X, a, y, b = train_test_split(features, label, random_state=42, stratify=label, test_size=0.3)\n",
    "print(X.shape, y.shape, a.shape, b.shape)\n",
    "\n",
    "Xv, Xt, yv, yt = train_test_split(a, b, random_state=42, stratify=b, test_size=0.4)\n",
    "print(Xv.shape, Xt.shape, yv.shape, yt.shape)\n",
    "\n",
    "# Xv = X[-6000:]\n",
    "# X = X[:-6000]"
   ]
  },
  {
   "cell_type": "code",
   "execution_count": 35,
   "id": "20e46ce2",
   "metadata": {},
   "outputs": [],
   "source": [
    "# defining the LSTM model\n",
    "model = Sequential()\n",
    "model.add(Bidirectional(GRU(100, input_shape=(features.shape[1], features.shape[2]), return_sequences=True, activation='relu'))) #bidirectional lstm\n",
    "model.add(Dropout(0.25)) #do for both bid and normal lstm \n",
    "model.add(Bidirectional(GRU(50, return_sequences=True)))\n",
    "model.add(Dropout(0.2))\n",
    "model.add(Bidirectional(GRU(20)))\n",
    "model.add(Dropout(0.1))\n",
    "model.add(Dense(1, activation='sigmoid'))"
   ]
  },
  {
   "cell_type": "code",
   "execution_count": 36,
   "id": "a0c6d7cf",
   "metadata": {
    "id": "a0c6d7cf"
   },
   "outputs": [],
   "source": [
    "model.compile(optimizer='adam', loss=keras.losses.BinaryCrossentropy(), metrics=['accuracy'])"
   ]
  },
  {
   "cell_type": "code",
   "execution_count": 37,
   "id": "04c62895",
   "metadata": {
    "id": "04c62895"
   },
   "outputs": [],
   "source": [
    "es = EarlyStopping(monitor='val_loss', mode='min', verbose=1, patience=50)\n",
    "mc = ModelCheckpoint('best_model_bigru_legalbert_8' + filename + '_.h5', monitor='val_accuracy', mode='max', verbose=1, save_best_only=True)"
   ]
  },
  {
   "cell_type": "code",
   "execution_count": 38,
   "id": "c3ceab43",
   "metadata": {
    "colab": {
     "base_uri": "https://localhost:8080/"
    },
    "id": "c3ceab43",
    "outputId": "c6dcd598-3c37-4245-e7cc-eb9bdcb00c6b"
   },
   "outputs": [
    {
     "name": "stdout",
     "output_type": "stream",
     "text": [
      "Epoch 1/1000\n",
      "3435/3435 [==============================] - ETA: 0s - loss: 0.6534 - accuracy: 0.6086\n",
      "Epoch 1: val_accuracy improved from -inf to 0.65242, saving model to best_model_bigru_legalbert_8_.h5\n",
      "3435/3435 [==============================] - 36s 9ms/step - loss: 0.6534 - accuracy: 0.6086 - val_loss: 0.6092 - val_accuracy: 0.6524\n",
      "Epoch 2/1000\n",
      "3432/3435 [============================>.] - ETA: 0s - loss: 0.6049 - accuracy: 0.6665\n",
      "Epoch 2: val_accuracy improved from 0.65242 to 0.67832, saving model to best_model_bigru_legalbert_8_.h5\n",
      "3435/3435 [==============================] - 37s 11ms/step - loss: 0.6048 - accuracy: 0.6665 - val_loss: 0.5877 - val_accuracy: 0.6783\n",
      "Epoch 3/1000\n",
      "3435/3435 [==============================] - ETA: 0s - loss: 0.5779 - accuracy: 0.6861\n",
      "Epoch 3: val_accuracy did not improve from 0.67832\n",
      "3435/3435 [==============================] - 41s 12ms/step - loss: 0.5779 - accuracy: 0.6861 - val_loss: 0.5880 - val_accuracy: 0.6748\n",
      "Epoch 4/1000\n",
      "3433/3435 [============================>.] - ETA: 0s - loss: 0.5596 - accuracy: 0.7028\n",
      "Epoch 4: val_accuracy improved from 0.67832 to 0.69247, saving model to best_model_bigru_legalbert_8_.h5\n",
      "3435/3435 [==============================] - 40s 12ms/step - loss: 0.5595 - accuracy: 0.7029 - val_loss: 0.5655 - val_accuracy: 0.6925\n",
      "Epoch 5/1000\n",
      "3435/3435 [==============================] - ETA: 0s - loss: 0.5443 - accuracy: 0.7137\n",
      "Epoch 5: val_accuracy improved from 0.69247 to 0.70125, saving model to best_model_bigru_legalbert_8_.h5\n",
      "3435/3435 [==============================] - 51s 15ms/step - loss: 0.5443 - accuracy: 0.7137 - val_loss: 0.5802 - val_accuracy: 0.7012\n",
      "Epoch 6/1000\n",
      "3432/3435 [============================>.] - ETA: 0s - loss: 0.5293 - accuracy: 0.7244\n",
      "Epoch 6: val_accuracy did not improve from 0.70125\n",
      "3435/3435 [==============================] - 53s 15ms/step - loss: 0.5293 - accuracy: 0.7243 - val_loss: 0.5757 - val_accuracy: 0.6949\n",
      "Epoch 7/1000\n",
      "3433/3435 [============================>.] - ETA: 0s - loss: 0.5117 - accuracy: 0.7396\n",
      "Epoch 7: val_accuracy did not improve from 0.70125\n",
      "3435/3435 [==============================] - 53s 15ms/step - loss: 0.5119 - accuracy: 0.7395 - val_loss: 0.5740 - val_accuracy: 0.7007\n",
      "Epoch 8/1000\n",
      "3434/3435 [============================>.] - ETA: 0s - loss: 0.4967 - accuracy: 0.7488\n",
      "Epoch 8: val_accuracy did not improve from 0.70125\n",
      "3435/3435 [==============================] - 45s 13ms/step - loss: 0.4967 - accuracy: 0.7488 - val_loss: 0.5861 - val_accuracy: 0.6935\n",
      "Epoch 9/1000\n",
      "3434/3435 [============================>.] - ETA: 0s - loss: 0.4816 - accuracy: 0.7564\n",
      "Epoch 9: val_accuracy improved from 0.70125 to 0.70450, saving model to best_model_bigru_legalbert_8_.h5\n",
      "3435/3435 [==============================] - 44s 13ms/step - loss: 0.4816 - accuracy: 0.7564 - val_loss: 0.5627 - val_accuracy: 0.7045\n",
      "Epoch 10/1000\n",
      "3434/3435 [============================>.] - ETA: 0s - loss: 0.4648 - accuracy: 0.7707\n",
      "Epoch 10: val_accuracy did not improve from 0.70450\n",
      "3435/3435 [==============================] - 41s 12ms/step - loss: 0.4647 - accuracy: 0.7707 - val_loss: 0.5850 - val_accuracy: 0.6970\n",
      "Epoch 11/1000\n",
      "3434/3435 [============================>.] - ETA: 0s - loss: 0.4496 - accuracy: 0.7794\n",
      "Epoch 11: val_accuracy improved from 0.70450 to 0.70464, saving model to best_model_bigru_legalbert_8_.h5\n",
      "3435/3435 [==============================] - 33s 10ms/step - loss: 0.4495 - accuracy: 0.7795 - val_loss: 0.6016 - val_accuracy: 0.7046\n",
      "Epoch 12/1000\n",
      "3435/3435 [==============================] - ETA: 0s - loss: 0.4351 - accuracy: 0.7897\n",
      "Epoch 12: val_accuracy improved from 0.70464 to 0.70832, saving model to best_model_bigru_legalbert_8_.h5\n",
      "3435/3435 [==============================] - 35s 10ms/step - loss: 0.4351 - accuracy: 0.7897 - val_loss: 0.5739 - val_accuracy: 0.7083\n",
      "Epoch 13/1000\n",
      "3435/3435 [==============================] - ETA: 0s - loss: 0.4209 - accuracy: 0.7992\n",
      "Epoch 13: val_accuracy did not improve from 0.70832\n",
      "3435/3435 [==============================] - 41s 12ms/step - loss: 0.4209 - accuracy: 0.7992 - val_loss: 0.6043 - val_accuracy: 0.6939\n",
      "Epoch 14/1000\n",
      "3434/3435 [============================>.] - ETA: 0s - loss: 0.4052 - accuracy: 0.8102\n",
      "Epoch 14: val_accuracy did not improve from 0.70832\n",
      "3435/3435 [==============================] - 43s 13ms/step - loss: 0.4051 - accuracy: 0.8102 - val_loss: 0.5954 - val_accuracy: 0.7032\n",
      "Epoch 15/1000\n",
      "3435/3435 [==============================] - ETA: 0s - loss: 0.3923 - accuracy: 0.8158\n",
      "Epoch 15: val_accuracy improved from 0.70832 to 0.71228, saving model to best_model_bigru_legalbert_8_.h5\n",
      "3435/3435 [==============================] - 46s 13ms/step - loss: 0.3923 - accuracy: 0.8158 - val_loss: 0.5892 - val_accuracy: 0.7123\n",
      "Epoch 16/1000\n",
      "3434/3435 [============================>.] - ETA: 0s - loss: 0.3770 - accuracy: 0.8264\n",
      "Epoch 16: val_accuracy did not improve from 0.71228\n",
      "3435/3435 [==============================] - 37s 11ms/step - loss: 0.3770 - accuracy: 0.8264 - val_loss: 0.6266 - val_accuracy: 0.7087\n",
      "Epoch 17/1000\n",
      "3431/3435 [============================>.] - ETA: 0s - loss: 0.3640 - accuracy: 0.8343\n",
      "Epoch 17: val_accuracy improved from 0.71228 to 0.71879, saving model to best_model_bigru_legalbert_8_.h5\n",
      "3435/3435 [==============================] - 37s 11ms/step - loss: 0.3640 - accuracy: 0.8343 - val_loss: 0.6495 - val_accuracy: 0.7188\n",
      "Epoch 18/1000\n",
      "3433/3435 [============================>.] - ETA: 0s - loss: 0.3477 - accuracy: 0.8420\n",
      "Epoch 18: val_accuracy improved from 0.71879 to 0.72318, saving model to best_model_bigru_legalbert_8_.h5\n",
      "3435/3435 [==============================] - 35s 10ms/step - loss: 0.3476 - accuracy: 0.8421 - val_loss: 0.6025 - val_accuracy: 0.7232\n",
      "Epoch 19/1000\n",
      "3432/3435 [============================>.] - ETA: 0s - loss: 0.3334 - accuracy: 0.8490\n",
      "Epoch 19: val_accuracy did not improve from 0.72318\n",
      "3435/3435 [==============================] - 35s 10ms/step - loss: 0.3332 - accuracy: 0.8490 - val_loss: 0.6639 - val_accuracy: 0.7204\n",
      "Epoch 20/1000\n",
      "3432/3435 [============================>.] - ETA: 0s - loss: 0.3203 - accuracy: 0.8564\n",
      "Epoch 20: val_accuracy did not improve from 0.72318\n",
      "3435/3435 [==============================] - 43s 12ms/step - loss: 0.3203 - accuracy: 0.8564 - val_loss: 0.6785 - val_accuracy: 0.7106\n",
      "Epoch 21/1000\n",
      "3434/3435 [============================>.] - ETA: 0s - loss: 0.3073 - accuracy: 0.8628\n",
      "Epoch 21: val_accuracy did not improve from 0.72318\n",
      "3435/3435 [==============================] - 48s 14ms/step - loss: 0.3073 - accuracy: 0.8628 - val_loss: 0.6915 - val_accuracy: 0.7187\n",
      "Epoch 22/1000\n",
      "3431/3435 [============================>.] - ETA: 0s - loss: 0.2981 - accuracy: 0.8684\n",
      "Epoch 22: val_accuracy did not improve from 0.72318\n",
      "3435/3435 [==============================] - 41s 12ms/step - loss: 0.2983 - accuracy: 0.8683 - val_loss: 0.6721 - val_accuracy: 0.7182\n",
      "Epoch 23/1000\n",
      "3434/3435 [============================>.] - ETA: 0s - loss: 0.2839 - accuracy: 0.8759\n",
      "Epoch 23: val_accuracy did not improve from 0.72318\n",
      "3435/3435 [==============================] - 39s 11ms/step - loss: 0.2841 - accuracy: 0.8759 - val_loss: 0.7546 - val_accuracy: 0.7127\n",
      "Epoch 24/1000\n",
      "3433/3435 [============================>.] - ETA: 0s - loss: 0.2732 - accuracy: 0.8809\n",
      "Epoch 24: val_accuracy did not improve from 0.72318\n",
      "3435/3435 [==============================] - 39s 11ms/step - loss: 0.2733 - accuracy: 0.8808 - val_loss: 0.7498 - val_accuracy: 0.7191\n",
      "Epoch 25/1000\n",
      "3430/3435 [============================>.] - ETA: 0s - loss: 0.2622 - accuracy: 0.8866\n",
      "Epoch 25: val_accuracy did not improve from 0.72318\n",
      "3435/3435 [==============================] - 34s 10ms/step - loss: 0.2621 - accuracy: 0.8867 - val_loss: 0.7011 - val_accuracy: 0.7147\n",
      "Epoch 26/1000\n",
      "3435/3435 [==============================] - ETA: 0s - loss: 0.2585 - accuracy: 0.8898\n",
      "Epoch 26: val_accuracy did not improve from 0.72318\n",
      "3435/3435 [==============================] - 34s 10ms/step - loss: 0.2585 - accuracy: 0.8898 - val_loss: 0.7017 - val_accuracy: 0.7219\n",
      "Epoch 27/1000\n",
      "3434/3435 [============================>.] - ETA: 0s - loss: 0.2481 - accuracy: 0.8951\n",
      "Epoch 27: val_accuracy did not improve from 0.72318\n",
      "3435/3435 [==============================] - 35s 10ms/step - loss: 0.2481 - accuracy: 0.8951 - val_loss: 0.7658 - val_accuracy: 0.7147\n"
     ]
    },
    {
     "name": "stdout",
     "output_type": "stream",
     "text": [
      "Epoch 28/1000\n",
      "3432/3435 [============================>.] - ETA: 0s - loss: 0.2409 - accuracy: 0.8997\n",
      "Epoch 28: val_accuracy did not improve from 0.72318\n",
      "3435/3435 [==============================] - 39s 11ms/step - loss: 0.2409 - accuracy: 0.8996 - val_loss: 0.7296 - val_accuracy: 0.7127\n",
      "Epoch 29/1000\n",
      "3435/3435 [==============================] - ETA: 0s - loss: 0.2287 - accuracy: 0.9051\n",
      "Epoch 29: val_accuracy did not improve from 0.72318\n",
      "3435/3435 [==============================] - 50s 15ms/step - loss: 0.2287 - accuracy: 0.9051 - val_loss: 0.7780 - val_accuracy: 0.7102\n",
      "Epoch 30/1000\n",
      "3435/3435 [==============================] - ETA: 0s - loss: 0.2228 - accuracy: 0.9082\n",
      "Epoch 30: val_accuracy did not improve from 0.72318\n",
      "3435/3435 [==============================] - 53s 16ms/step - loss: 0.2228 - accuracy: 0.9082 - val_loss: 0.7749 - val_accuracy: 0.7208\n",
      "Epoch 31/1000\n",
      "3432/3435 [============================>.] - ETA: 0s - loss: 0.2146 - accuracy: 0.9112\n",
      "Epoch 31: val_accuracy did not improve from 0.72318\n",
      "3435/3435 [==============================] - 51s 15ms/step - loss: 0.2146 - accuracy: 0.9112 - val_loss: 0.7725 - val_accuracy: 0.7206\n",
      "Epoch 32/1000\n",
      "3433/3435 [============================>.] - ETA: 0s - loss: 0.2088 - accuracy: 0.9133\n",
      "Epoch 32: val_accuracy did not improve from 0.72318\n",
      "3435/3435 [==============================] - 50s 15ms/step - loss: 0.2090 - accuracy: 0.9132 - val_loss: 0.8454 - val_accuracy: 0.7154\n",
      "Epoch 33/1000\n",
      "3435/3435 [==============================] - ETA: 0s - loss: 0.2017 - accuracy: 0.9161\n",
      "Epoch 33: val_accuracy improved from 0.72318 to 0.72332, saving model to best_model_bigru_legalbert_8_.h5\n",
      "3435/3435 [==============================] - 51s 15ms/step - loss: 0.2017 - accuracy: 0.9161 - val_loss: 0.8290 - val_accuracy: 0.7233\n",
      "Epoch 34/1000\n",
      "3435/3435 [==============================] - ETA: 0s - loss: 0.1922 - accuracy: 0.9224\n",
      "Epoch 34: val_accuracy did not improve from 0.72332\n",
      "3435/3435 [==============================] - 54s 16ms/step - loss: 0.1922 - accuracy: 0.9224 - val_loss: 0.7728 - val_accuracy: 0.7155\n",
      "Epoch 35/1000\n",
      "3433/3435 [============================>.] - ETA: 0s - loss: 0.1872 - accuracy: 0.9238\n",
      "Epoch 35: val_accuracy improved from 0.72332 to 0.72530, saving model to best_model_bigru_legalbert_8_.h5\n",
      "3435/3435 [==============================] - 68s 20ms/step - loss: 0.1872 - accuracy: 0.9238 - val_loss: 0.8539 - val_accuracy: 0.7253\n",
      "Epoch 36/1000\n",
      "3433/3435 [============================>.] - ETA: 0s - loss: 0.1847 - accuracy: 0.9251\n",
      "Epoch 36: val_accuracy did not improve from 0.72530\n",
      "3435/3435 [==============================] - 60s 17ms/step - loss: 0.1847 - accuracy: 0.9251 - val_loss: 0.8398 - val_accuracy: 0.7252\n",
      "Epoch 37/1000\n",
      "3435/3435 [==============================] - ETA: 0s - loss: 0.1745 - accuracy: 0.9296\n",
      "Epoch 37: val_accuracy did not improve from 0.72530\n",
      "3435/3435 [==============================] - 58s 17ms/step - loss: 0.1745 - accuracy: 0.9296 - val_loss: 0.9295 - val_accuracy: 0.7162\n",
      "Epoch 38/1000\n",
      "3432/3435 [============================>.] - ETA: 0s - loss: 0.1721 - accuracy: 0.9309\n",
      "Epoch 38: val_accuracy did not improve from 0.72530\n",
      "3435/3435 [==============================] - 59s 17ms/step - loss: 0.1721 - accuracy: 0.9309 - val_loss: 0.8466 - val_accuracy: 0.7222\n",
      "Epoch 39/1000\n",
      "3435/3435 [==============================] - ETA: 0s - loss: 0.1728 - accuracy: 0.9310\n",
      "Epoch 39: val_accuracy improved from 0.72530 to 0.72771, saving model to best_model_bigru_legalbert_8_.h5\n",
      "3435/3435 [==============================] - 45s 13ms/step - loss: 0.1728 - accuracy: 0.9310 - val_loss: 0.8602 - val_accuracy: 0.7277\n",
      "Epoch 40/1000\n",
      "3434/3435 [============================>.] - ETA: 0s - loss: 0.1628 - accuracy: 0.9357\n",
      "Epoch 40: val_accuracy did not improve from 0.72771\n",
      "3435/3435 [==============================] - 47s 14ms/step - loss: 0.1628 - accuracy: 0.9357 - val_loss: 0.8901 - val_accuracy: 0.7211\n",
      "Epoch 41/1000\n",
      "3435/3435 [==============================] - ETA: 0s - loss: 0.1602 - accuracy: 0.9359\n",
      "Epoch 41: val_accuracy did not improve from 0.72771\n",
      "3435/3435 [==============================] - 54s 16ms/step - loss: 0.1602 - accuracy: 0.9359 - val_loss: 0.9296 - val_accuracy: 0.7113\n",
      "Epoch 42/1000\n",
      "3433/3435 [============================>.] - ETA: 0s - loss: 0.1538 - accuracy: 0.9402\n",
      "Epoch 42: val_accuracy did not improve from 0.72771\n",
      "3435/3435 [==============================] - 72s 21ms/step - loss: 0.1539 - accuracy: 0.9402 - val_loss: 0.8527 - val_accuracy: 0.7150\n",
      "Epoch 43/1000\n",
      "3435/3435 [==============================] - ETA: 0s - loss: 0.1565 - accuracy: 0.9372\n",
      "Epoch 43: val_accuracy did not improve from 0.72771\n",
      "3435/3435 [==============================] - 74s 22ms/step - loss: 0.1565 - accuracy: 0.9372 - val_loss: 1.0219 - val_accuracy: 0.7155\n",
      "Epoch 44/1000\n",
      "3433/3435 [============================>.] - ETA: 0s - loss: 0.1436 - accuracy: 0.9448\n",
      "Epoch 44: val_accuracy did not improve from 0.72771\n",
      "3435/3435 [==============================] - 74s 22ms/step - loss: 0.1435 - accuracy: 0.9449 - val_loss: 0.9513 - val_accuracy: 0.7216\n",
      "Epoch 45/1000\n",
      "3435/3435 [==============================] - ETA: 0s - loss: 0.1454 - accuracy: 0.9441\n",
      "Epoch 45: val_accuracy did not improve from 0.72771\n",
      "3435/3435 [==============================] - 62s 18ms/step - loss: 0.1454 - accuracy: 0.9441 - val_loss: 0.9209 - val_accuracy: 0.7097\n",
      "Epoch 46/1000\n",
      "3435/3435 [==============================] - ETA: 0s - loss: 0.1409 - accuracy: 0.9451\n",
      "Epoch 46: val_accuracy did not improve from 0.72771\n",
      "3435/3435 [==============================] - 59s 17ms/step - loss: 0.1409 - accuracy: 0.9451 - val_loss: 0.9844 - val_accuracy: 0.7271\n",
      "Epoch 47/1000\n",
      "3435/3435 [==============================] - ETA: 0s - loss: 0.1384 - accuracy: 0.9464\n",
      "Epoch 47: val_accuracy did not improve from 0.72771\n",
      "3435/3435 [==============================] - 60s 17ms/step - loss: 0.1384 - accuracy: 0.9464 - val_loss: 1.0239 - val_accuracy: 0.7201\n",
      "Epoch 48/1000\n",
      "3434/3435 [============================>.] - ETA: 0s - loss: 0.1333 - accuracy: 0.9474\n",
      "Epoch 48: val_accuracy did not improve from 0.72771\n",
      "3435/3435 [==============================] - 60s 17ms/step - loss: 0.1333 - accuracy: 0.9474 - val_loss: 1.0269 - val_accuracy: 0.7249\n",
      "Epoch 49/1000\n",
      "3433/3435 [============================>.] - ETA: 0s - loss: 0.1309 - accuracy: 0.9488\n",
      "Epoch 49: val_accuracy improved from 0.72771 to 0.73153, saving model to best_model_bigru_legalbert_8_.h5\n",
      "3435/3435 [==============================] - 65s 19ms/step - loss: 0.1311 - accuracy: 0.9488 - val_loss: 0.9874 - val_accuracy: 0.7315\n",
      "Epoch 50/1000\n",
      "3432/3435 [============================>.] - ETA: 0s - loss: 0.1231 - accuracy: 0.9532\n",
      "Epoch 50: val_accuracy did not improve from 0.73153\n",
      "3435/3435 [==============================] - 60s 17ms/step - loss: 0.1232 - accuracy: 0.9532 - val_loss: 1.0169 - val_accuracy: 0.7281\n",
      "Epoch 51/1000\n",
      "3435/3435 [==============================] - ETA: 0s - loss: 0.1290 - accuracy: 0.9521\n",
      "Epoch 51: val_accuracy did not improve from 0.73153\n",
      "3435/3435 [==============================] - 61s 18ms/step - loss: 0.1290 - accuracy: 0.9521 - val_loss: 1.0129 - val_accuracy: 0.7270\n",
      "Epoch 52/1000\n",
      "3434/3435 [============================>.] - ETA: 0s - loss: 0.1265 - accuracy: 0.9507\n",
      "Epoch 52: val_accuracy did not improve from 0.73153\n",
      "3435/3435 [==============================] - 61s 18ms/step - loss: 0.1265 - accuracy: 0.9507 - val_loss: 0.9962 - val_accuracy: 0.7281\n",
      "Epoch 53/1000\n",
      "3435/3435 [==============================] - ETA: 0s - loss: 0.1320 - accuracy: 0.9507\n",
      "Epoch 53: val_accuracy did not improve from 0.73153\n",
      "3435/3435 [==============================] - 60s 18ms/step - loss: 0.1320 - accuracy: 0.9507 - val_loss: 0.8935 - val_accuracy: 0.7252\n",
      "Epoch 54/1000\n",
      "3432/3435 [============================>.] - ETA: 0s - loss: 0.1156 - accuracy: 0.9569\n",
      "Epoch 54: val_accuracy did not improve from 0.73153\n",
      "3435/3435 [==============================] - 59s 17ms/step - loss: 0.1158 - accuracy: 0.9569 - val_loss: 0.9889 - val_accuracy: 0.7225\n",
      "Epoch 55/1000\n",
      "3435/3435 [==============================] - ETA: 0s - loss: 0.1186 - accuracy: 0.9555\n",
      "Epoch 55: val_accuracy did not improve from 0.73153\n",
      "3435/3435 [==============================] - 45s 13ms/step - loss: 0.1186 - accuracy: 0.9555 - val_loss: 1.0417 - val_accuracy: 0.7181\n"
     ]
    },
    {
     "name": "stdout",
     "output_type": "stream",
     "text": [
      "Epoch 56/1000\n",
      "3431/3435 [============================>.] - ETA: 0s - loss: 0.1138 - accuracy: 0.9579\n",
      "Epoch 56: val_accuracy did not improve from 0.73153\n",
      "3435/3435 [==============================] - 43s 12ms/step - loss: 0.1139 - accuracy: 0.9579 - val_loss: 1.1151 - val_accuracy: 0.7202\n",
      "Epoch 57/1000\n",
      "3435/3435 [==============================] - ETA: 0s - loss: 0.1156 - accuracy: 0.9568\n",
      "Epoch 57: val_accuracy did not improve from 0.73153\n",
      "3435/3435 [==============================] - 50s 15ms/step - loss: 0.1156 - accuracy: 0.9568 - val_loss: 1.0002 - val_accuracy: 0.7212\n",
      "Epoch 58/1000\n",
      "3434/3435 [============================>.] - ETA: 0s - loss: 0.1106 - accuracy: 0.9570\n",
      "Epoch 58: val_accuracy did not improve from 0.73153\n",
      "3435/3435 [==============================] - 80s 23ms/step - loss: 0.1106 - accuracy: 0.9571 - val_loss: 0.9548 - val_accuracy: 0.7257\n",
      "Epoch 59/1000\n",
      "3435/3435 [==============================] - ETA: 0s - loss: 0.1125 - accuracy: 0.9578\n",
      "Epoch 59: val_accuracy did not improve from 0.73153\n",
      "3435/3435 [==============================] - 4268s 1s/step - loss: 0.1125 - accuracy: 0.9578 - val_loss: 1.0719 - val_accuracy: 0.7276\n",
      "Epoch 59: early stopping\n"
     ]
    }
   ],
   "source": [
    "history = model.fit(X, y, validation_data=(Xv, yv), epochs=1000, batch_size=8, callbacks=[es, mc])"
   ]
  },
  {
   "cell_type": "code",
   "execution_count": 39,
   "id": "47422035",
   "metadata": {
    "id": "47422035"
   },
   "outputs": [
    {
     "name": "stdout",
     "output_type": "stream",
     "text": [
      "dict_keys(['loss', 'accuracy', 'val_loss', 'val_accuracy'])\n"
     ]
    }
   ],
   "source": [
    "history_dict = history.history\n",
    "print(history_dict.keys())"
   ]
  },
  {
   "cell_type": "code",
   "execution_count": 18,
   "id": "bea375f7",
   "metadata": {
    "id": "bea375f7"
   },
   "outputs": [
    {
     "name": "stdout",
     "output_type": "stream",
     "text": [
      "Train: 0.959, Test: 0.728\n"
     ]
    }
   ],
   "source": [
    "saved_model = load_model('best_model_bigru_legalbert_8' + filename + '_.h5')\n",
    "# evaluate the model\n",
    "_, train_acc = saved_model.evaluate(X, y, verbose=0)\n",
    "_, test_acc = saved_model.evaluate(Xt, yt, verbose=0)\n",
    "\n",
    "print('Train: %.3f, Test: %.3f' % (train_acc, test_acc))"
   ]
  },
  {
   "cell_type": "code",
   "execution_count": 22,
   "id": "9891db7e",
   "metadata": {
    "id": "9891db7e"
   },
   "outputs": [],
   "source": [
    "lst = [train_acc, test_acc]\n",
    "df = pd.DataFrame(lst, index =['train_acc', 'test_acc'])\n",
    "df.to_csv(filename +'best_model_bigru_legalbert_8.csv')"
   ]
  },
  {
   "cell_type": "code",
   "execution_count": 42,
   "id": "5fd23f7b",
   "metadata": {
    "id": "5fd23f7b"
   },
   "outputs": [
    {
     "data": {
      "image/png": "[encoded data removed]",
      "text/plain": [
       "<Figure size 432x288 with 1 Axes>"
      ]
     },
     "metadata": {
      "needs_background": "light"
     },
     "output_type": "display_data"
    }
   ],
   "source": [
    "# plot history\n",
    "pyplot.plot(history.history['accuracy'], label='train')\n",
    "pyplot.plot(history.history['val_accuracy'], label='test')\n",
    "pyplot.legend()\n",
    "pyplot.savefig(filename + 'best_model_bigru_legalbert_8.png', bbox_inches='tight')\n",
    "pyplot.show()\n"
   ]
  },
  {
   "cell_type": "code",
   "execution_count": 43,
   "id": "c7643df0",
   "metadata": {},
   "outputs": [],
   "source": [
    "from matplotlib import pyplot as plt"
   ]
  },
  {
   "cell_type": "code",
   "execution_count": 44,
   "id": "830c0ff8",
   "metadata": {},
   "outputs": [
    {
     "data": {
      "image/png": "[encoded data removed]",
      "text/plain": [
       "<Figure size 432x288 with 1 Axes>"
      ]
     },
     "metadata": {
      "needs_background": "light"
     },
     "output_type": "display_data"
    }
   ],
   "source": [
    "plt.title('Loss')\n",
    "plt.plot(history.history['loss'], label='train')\n",
    "plt.plot(history.history['val_loss'], label='test')\n",
    "pyplot.savefig(filename + 'best_model_bigru_legalbert_8.png', bbox_inches='tight')\n",
    "plt.legend()\n",
    "plt.show();"
   ]
  },
  {
   "cell_type": "code",
   "execution_count": 16,
   "id": "71fff602",
   "metadata": {},
   "outputs": [
    {
     "data": {
      "text/plain": [
       "2031.0"
      ]
     },
     "execution_count": 16,
     "metadata": {},
     "output_type": "execute_result"
    }
   ],
   "source": [
    "sum(list(yt))"
   ]
  },
  {
   "cell_type": "code",
   "execution_count": 17,
   "id": "ae615dd2",
   "metadata": {},
   "outputs": [
    {
     "data": {
      "text/plain": [
       "4711"
      ]
     },
     "execution_count": 17,
     "metadata": {},
     "output_type": "execute_result"
    }
   ],
   "source": [
    "len(yt)"
   ]
  },
  {
   "cell_type": "code",
   "execution_count": 19,
   "id": "f8f7c33f",
   "metadata": {},
   "outputs": [
    {
     "name": "stdout",
     "output_type": "stream",
     "text": [
      "['0.28', '0.50', '0.36']\n"
     ]
    },
    {
     "name": "stderr",
     "output_type": "stream",
     "text": [
      "c:\\users\\amanj\\appdata\\local\\programs\\python\\python37\\lib\\site-packages\\sklearn\\metrics\\_classification.py:1318: UndefinedMetricWarning: Precision and F-score are ill-defined and being set to 0.0 in labels with no predicted samples. Use `zero_division` parameter to control this behavior.\n",
      "  _warn_prf(average, modifier, msg_start, len(result))\n",
      "c:\\users\\amanj\\appdata\\local\\programs\\python\\python37\\lib\\site-packages\\sklearn\\metrics\\_classification.py:1318: UndefinedMetricWarning: Precision and F-score are ill-defined and being set to 0.0 in labels with no predicted samples. Use `zero_division` parameter to control this behavior.\n",
      "  _warn_prf(average, modifier, msg_start, len(result))\n",
      "c:\\users\\amanj\\appdata\\local\\programs\\python\\python37\\lib\\site-packages\\sklearn\\metrics\\_classification.py:1318: UndefinedMetricWarning: Precision and F-score are ill-defined and being set to 0.0 in labels with no predicted samples. Use `zero_division` parameter to control this behavior.\n",
      "  _warn_prf(average, modifier, msg_start, len(result))\n"
     ]
    }
   ],
   "source": [
    "from sklearn.metrics import classification_report\n",
    "predictions = saved_model.predict(Xt)\n",
    "y_pred = np.argmax(predictions,axis=1)\n",
    "trainReport = classification_report(yt, y_pred, output_dict=True)\n",
    "\n",
    "lst = [format(trainReport['macro avg']['precision'], '.2f'), format(trainReport['macro avg']['recall'], '.2f'), format(trainReport['macro avg']['f1-score'], '.2f')]\n",
    "df = pd.DataFrame(lst, index =['precision', 'recall', 'f1Score'])\n",
    "df.to_csv(filename +'_bid_gru_legal_prec_recal_flsc_results.csv')\n",
    "print(lst)"
   ]
  },
  {
   "cell_type": "code",
   "execution_count": 21,
   "id": "6e4929ed",
   "metadata": {},
   "outputs": [
    {
     "ename": "AttributeError",
     "evalue": "'numpy.ndarray' object has no attribute 'head'",
     "output_type": "error",
     "traceback": [
      "\u001b[1;31m---------------------------------------------------------------------------\u001b[0m",
      "\u001b[1;31mAttributeError\u001b[0m                            Traceback (most recent call last)",
      "\u001b[1;32m~\\AppData\\Local\\Temp\\ipykernel_8220\\3203202248.py\u001b[0m in \u001b[0;36m<module>\u001b[1;34m\u001b[0m\n\u001b[1;32m----> 1\u001b[1;33m \u001b[0mXt\u001b[0m\u001b[1;33m.\u001b[0m\u001b[0mhead\u001b[0m\u001b[1;33m(\u001b[0m\u001b[1;33m)\u001b[0m\u001b[1;33m\u001b[0m\u001b[1;33m\u001b[0m\u001b[0m\n\u001b[0m",
      "\u001b[1;31mAttributeError\u001b[0m: 'numpy.ndarray' object has no attribute 'head'"
     ]
    }
   ],
   "source": [
    "Xt.head()"
   ]
  },
  {
   "cell_type": "code",
   "execution_count": 23,
   "id": "2eb3fdef",
   "metadata": {},
   "outputs": [
    {
     "name": "stdout",
     "output_type": "stream",
     "text": [
      "['0.28', '0.50', '0.36']\n"
     ]
    },
    {
     "name": "stderr",
     "output_type": "stream",
     "text": [
      "c:\\users\\amanj\\appdata\\local\\programs\\python\\python37\\lib\\site-packages\\sklearn\\metrics\\_classification.py:1318: UndefinedMetricWarning: Precision and F-score are ill-defined and being set to 0.0 in labels with no predicted samples. Use `zero_division` parameter to control this behavior.\n",
      "  _warn_prf(average, modifier, msg_start, len(result))\n",
      "c:\\users\\amanj\\appdata\\local\\programs\\python\\python37\\lib\\site-packages\\sklearn\\metrics\\_classification.py:1318: UndefinedMetricWarning: Precision and F-score are ill-defined and being set to 0.0 in labels with no predicted samples. Use `zero_division` parameter to control this behavior.\n",
      "  _warn_prf(average, modifier, msg_start, len(result))\n",
      "c:\\users\\amanj\\appdata\\local\\programs\\python\\python37\\lib\\site-packages\\sklearn\\metrics\\_classification.py:1318: UndefinedMetricWarning: Precision and F-score are ill-defined and being set to 0.0 in labels with no predicted samples. Use `zero_division` parameter to control this behavior.\n",
      "  _warn_prf(average, modifier, msg_start, len(result))\n"
     ]
    }
   ],
   "source": [
    "from sklearn.metrics import classification_report\n",
    "predictions = saved_model.predict(X)\n",
    "y_pred = np.argmax(predictions,axis=1)\n",
    "trainReport = classification_report(y, y_pred, output_dict=True)\n",
    "\n",
    "lst = [format(trainReport['macro avg']['precision'], '.2f'), format(trainReport['macro avg']['recall'], '.2f'), format(trainReport['macro avg']['f1-score'], '.2f')]\n",
    "df = pd.DataFrame(lst, index =['precision', 'recall', 'f1Score'])\n",
    "df.to_csv(filename +'_bid_gru_legal_prec_recal_flsc_results_train.csv')\n",
    "print(lst)"
   ]
  },
  {
   "cell_type": "code",
   "execution_count": 24,
   "id": "4ec74984",
   "metadata": {},
   "outputs": [
    {
     "name": "stdout",
     "output_type": "stream",
     "text": [
      "[[1]\n",
      " [0]\n",
      " [1]\n",
      " ...\n",
      " [1]\n",
      " [0]\n",
      " [0]]\n"
     ]
    }
   ],
   "source": [
    "yp = (saved_model.predict(Xt) > 0.5).astype('int32') \n",
    "\n",
    "print(yp)"
   ]
  },
  {
   "cell_type": "code",
   "execution_count": 28,
   "id": "190ddf72",
   "metadata": {},
   "outputs": [],
   "source": [
    "from sklearn.metrics import confusion_matrix"
   ]
  },
  {
   "cell_type": "code",
   "execution_count": 29,
   "id": "8b29dedd",
   "metadata": {},
   "outputs": [
    {
     "name": "stdout",
     "output_type": "stream",
     "text": [
      "      1     0\n",
      "1  1269   762\n",
      "0   519  2161\n"
     ]
    }
   ],
   "source": []
  },
  {
   "cell_type": "code",
   "execution_count": 32,
   "id": "27b485a8",
   "metadata": {},
   "outputs": [
    {
     "name": "stdout",
     "output_type": "stream",
     "text": [
      "Test Accuracy Score: 0.959\n",
      "Test Recall Score: 0.925\n",
      "Test Precision Score: 0.980\n",
      "Test F1 Score: 0.951\n"
     ]
    }
   ],
   "source": [
    "yp = (saved_model.predict(X) > 0.5).astype('int32') \n",
    "matrix = confusion_matrix(y,yp, labels=[1,0])\n",
    "cm = pd.DataFrame(matrix, index=['1','0'],columns=['1','0'])\n",
    "from sklearn.metrics import accuracy_score\n",
    "print(\"Test Accuracy Score: %.3f\" %(accuracy_score(y,yp)))\n",
    "\n",
    "from sklearn.metrics import recall_score\n",
    "print(\"Test Recall Score: %.3f\" %(recall_score(y,yp)))\n",
    "\n",
    "from sklearn.metrics import precision_score\n",
    "print(\"Test Precision Score: %.3f\" %(precision_score(y,yp)))\n",
    "\n",
    "from sklearn.metrics import f1_score\n",
    "print(\"Test F1 Score: %.3f\" %(f1_score(y,yp)))"
   ]
  },
  {
   "cell_type": "code",
   "execution_count": 30,
   "id": "583a0089",
   "metadata": {},
   "outputs": [
    {
     "name": "stdout",
     "output_type": "stream",
     "text": [
      "Test Accuracy Score: 0.728\n",
      "Test Recall Score: 0.625\n",
      "Test Precision Score: 0.710\n",
      "Test F1 Score: 0.665\n"
     ]
    },
    {
     "ename": "NameError",
     "evalue": "name 'valid_acc' is not defined",
     "output_type": "error",
     "traceback": [
      "\u001b[1;31m---------------------------------------------------------------------------\u001b[0m",
      "\u001b[1;31mNameError\u001b[0m                                 Traceback (most recent call last)",
      "\u001b[1;32m~\\AppData\\Local\\Temp\\ipykernel_8220\\3618630611.py\u001b[0m in \u001b[0;36m<module>\u001b[1;34m\u001b[0m\n\u001b[0;32m     15\u001b[0m \u001b[1;33m\u001b[0m\u001b[0m\n\u001b[0;32m     16\u001b[0m \u001b[1;33m\u001b[0m\u001b[0m\n\u001b[1;32m---> 17\u001b[1;33m \u001b[0mlst\u001b[0m \u001b[1;33m=\u001b[0m \u001b[1;33m[\u001b[0m\u001b[0mtrain_acc\u001b[0m\u001b[1;33m,\u001b[0m \u001b[0mvalid_acc\u001b[0m\u001b[1;33m]\u001b[0m\u001b[1;33m\u001b[0m\u001b[1;33m\u001b[0m\u001b[0m\n\u001b[0m\u001b[0;32m     18\u001b[0m \u001b[1;31m#df = pd.DataFrame(lst, index =['train_acc', 'valid_acc'])\u001b[0m\u001b[1;33m\u001b[0m\u001b[1;33m\u001b[0m\u001b[1;33m\u001b[0m\u001b[0m\n\u001b[0;32m     19\u001b[0m \u001b[1;31m#df.to_csv(filename +'_results.csv')\u001b[0m\u001b[1;33m\u001b[0m\u001b[1;33m\u001b[0m\u001b[1;33m\u001b[0m\u001b[0m\n",
      "\u001b[1;31mNameError\u001b[0m: name 'valid_acc' is not defined"
     ]
    }
   ],
   "source": [
    "yp = (saved_model.predict(Xt) > 0.5).astype('int32') \n",
    "matrix = confusion_matrix(yt,yp, labels=[1,0])\n",
    "cm = pd.DataFrame(matrix, index=['1','0'],columns=['1','0'])\n",
    "from sklearn.metrics import accuracy_score\n",
    "print(\"Test Accuracy Score: %.3f\" %(accuracy_score(yt,yp)))\n",
    "\n",
    "from sklearn.metrics import recall_score\n",
    "print(\"Test Recall Score: %.3f\" %(recall_score(yt,yp)))\n",
    "\n",
    "from sklearn.metrics import precision_score\n",
    "print(\"Test Precision Score: %.3f\" %(precision_score(yt,yp)))\n",
    "\n",
    "from sklearn.metrics import f1_score\n",
    "print(\"Test F1 Score: %.3f\" %(f1_score(yt,yp)))"
   ]
  },
  {
   "cell_type": "code",
   "execution_count": null,
   "id": "8469877b",
   "metadata": {},
   "outputs": [],
   "source": []
  }
 ],
 "metadata": {
  "accelerator": "GPU",
  "colab": {
   "collapsed_sections": [],
   "name": "LSTM_NN 786.ipynb",
   "provenance": []
  },
  "kernelspec": {
   "display_name": "Python 3 (ipykernel)",
   "language": "python",
   "name": "python3"
  },
  "language_info": {
   "codemirror_mode": {
    "name": "ipython",
    "version": 3
   },
   "file_extension": ".py",
   "mimetype": "text/x-python",
   "name": "python",
   "nbconvert_exporter": "python",
   "pygments_lexer": "ipython3",
   "version": "3.7.9"
  }
 },
 "nbformat": 4,
 "nbformat_minor": 5
}
