{
 "cells": [
  {
   "cell_type": "markdown",
   "id": "fwojLHeUGpS3",
   "metadata": {
    "id": "fwojLHeUGpS3"
   },
   "source": [
    "# Code"
   ]
  },
  {
   "cell_type": "code",
   "execution_count": 1,
   "id": "da85070b",
   "metadata": {
    "ExecuteTime": {
     "end_time": "2021-12-03T19:48:49.374640Z",
     "start_time": "2021-12-03T19:48:45.785160Z"
    },
    "id": "da85070b"
   },
   "outputs": [],
   "source": [
    "import pandas as pd\n",
    "import numpy as np\n",
    "from tensorflow import keras\n",
    "from keras import layers\n",
    "from sklearn.model_selection import train_test_split\n",
    "from keras.callbacks import EarlyStopping\n",
    "from keras.callbacks import ModelCheckpoint\n",
    "from matplotlib import pyplot\n",
    "from keras.models import load_model\n",
    "from keras.models import Sequential\n",
    "from keras.layers import Dense\n",
    "from keras.layers import Dropout\n",
    "from keras.layers import LSTM\n",
    "from keras.utils import np_utils\n",
    "from keras.layers import GRU"
   ]
  },
  {
   "cell_type": "code",
   "execution_count": 2,
   "id": "72773790",
   "metadata": {
    "id": "72773790"
   },
   "outputs": [],
   "source": [
    "filename = '../Data/BERT2560/Combined/reshape_bb_2560.csv'"
   ]
  },
  {
   "cell_type": "code",
   "execution_count": 3,
   "id": "a94793ad",
   "metadata": {
    "ExecuteTime": {
     "end_time": "2021-12-03T19:51:23.396609Z",
     "start_time": "2021-12-03T19:51:19.205230Z"
    },
    "id": "a94793ad"
   },
   "outputs": [],
   "source": [
    "data = pd.read_csv(filename)"
   ]
  },
  {
   "cell_type": "code",
   "execution_count": 4,
   "id": "91911a5e",
   "metadata": {
    "id": "91911a5e"
   },
   "outputs": [],
   "source": [
    "filename = filename[:filename.index('.')]"
   ]
  },
  {
   "cell_type": "code",
   "execution_count": 5,
   "id": "fybg0x1waaz8",
   "metadata": {
    "id": "fybg0x1waaz8"
   },
   "outputs": [],
   "source": [
    "# data = data[:2000]\n",
    "label = data['label']\n",
    "features = data.drop(['uid', 'label'], axis=1)"
   ]
  },
  {
   "cell_type": "code",
   "execution_count": 6,
   "id": "16dc4b0c",
   "metadata": {},
   "outputs": [],
   "source": [
    "del data"
   ]
  },
  {
   "cell_type": "code",
   "execution_count": 8,
   "id": "50b91ba2",
   "metadata": {},
   "outputs": [],
   "source": [
    "#features = features.to_numpy()\n",
    "features = features.reshape(39259, 5, 768)"
   ]
  },
  {
   "cell_type": "code",
   "execution_count": 9,
   "id": "2a6b8577",
   "metadata": {
    "colab": {
     "base_uri": "https://localhost:8080/"
    },
    "id": "2a6b8577",
    "outputId": "37eaa80f-6f1c-44e8-f753-c30b1e0fc6a3"
   },
   "outputs": [
    {
     "name": "stdout",
     "output_type": "stream",
     "text": [
      "(27481, 5, 768) (27481,) (11778, 5, 768) (11778,)\n",
      "(7066, 5, 768) (4712, 5, 768) (7066,) (4712,)\n"
     ]
    }
   ],
   "source": [
    "X, a, y, b = train_test_split(features, label, random_state=42, stratify=label, test_size=0.3)\n",
    "print(X.shape, y.shape, a.shape, b.shape)\n",
    "\n",
    "Xv, Xt, yv, yt = train_test_split(a, b, random_state=42, stratify=b, test_size=0.4)\n",
    "print(Xv.shape, Xt.shape, yv.shape, yt.shape)\n",
    "\n",
    "# Xv = X[-6000:]\n",
    "# X = X[:-6000]"
   ]
  },
  {
   "cell_type": "code",
   "execution_count": 10,
   "id": "20e46ce2",
   "metadata": {},
   "outputs": [],
   "source": [
    "# defining the LSTM model\n",
    "model = Sequential()\n",
    "model.add(GRU(100, input_shape=(features.shape[1], features.shape[2]), return_sequences=True, activation='relu')) #bidirectional lstm\n",
    "model.add(Dropout(0.25)) #do for both bid and normal lstm \n",
    "model.add(GRU(50,return_sequences=True))\n",
    "model.add(Dropout(0.2))\n",
    "model.add(GRU(20))\n",
    "model.add(Dropout(0.1))\n",
    "model.add(Dense(1, activation='sigmoid'))"
   ]
  },
  {
   "cell_type": "code",
   "execution_count": 11,
   "id": "a0c6d7cf",
   "metadata": {
    "id": "a0c6d7cf"
   },
   "outputs": [],
   "source": [
    "model.compile(optimizer='adam', loss=keras.losses.BinaryCrossentropy(), metrics=['accuracy'])"
   ]
  },
  {
   "cell_type": "code",
   "execution_count": 12,
   "id": "04c62895",
   "metadata": {
    "id": "04c62895"
   },
   "outputs": [],
   "source": [
    "es = EarlyStopping(monitor='val_loss', mode='min', verbose=1, patience=50)\n",
    "mc = ModelCheckpoint('best_model_gru_legal_8' + filename + '_.h5', monitor='val_accuracy', mode='max', verbose=1, save_best_only=True)"
   ]
  },
  {
   "cell_type": "code",
   "execution_count": null,
   "id": "c3ceab43",
   "metadata": {
    "colab": {
     "base_uri": "https://localhost:8080/"
    },
    "id": "c3ceab43",
    "outputId": "c6dcd598-3c37-4245-e7cc-eb9bdcb00c6b"
   },
   "outputs": [
    {
     "name": "stdout",
     "output_type": "stream",
     "text": [
      "Epoch 1/1000\n",
      "3432/3436 [============================>.] - ETA: 0s - loss: 0.6820 - accuracy: 0.5586\n",
      "Epoch 1: val_accuracy improved from -inf to 0.56850, saving model to best_model_gru_legal_8_.h5\n",
      "3436/3436 [==============================] - 52s 12ms/step - loss: 0.6820 - accuracy: 0.5586 - val_loss: 0.6737 - val_accuracy: 0.5685\n",
      "Epoch 2/1000\n",
      "3433/3436 [============================>.] - ETA: 0s - loss: 0.6731 - accuracy: 0.5740\n",
      "Epoch 2: val_accuracy improved from 0.56850 to 0.56963, saving model to best_model_gru_legal_8_.h5\n",
      "3436/3436 [==============================] - 39s 11ms/step - loss: 0.6732 - accuracy: 0.5739 - val_loss: 0.6701 - val_accuracy: 0.5696\n",
      "Epoch 3/1000\n",
      "3435/3436 [============================>.] - ETA: 0s - loss: 0.6659 - accuracy: 0.5848\n",
      "Epoch 3: val_accuracy improved from 0.56963 to 0.58336, saving model to best_model_gru_legal_8_.h5\n",
      "3436/3436 [==============================] - 45s 13ms/step - loss: 0.6659 - accuracy: 0.5848 - val_loss: 0.6741 - val_accuracy: 0.5834\n",
      "Epoch 4/1000\n",
      "3433/3436 [============================>.] - ETA: 0s - loss: 0.6598 - accuracy: 0.5974\n",
      "Epoch 4: val_accuracy improved from 0.58336 to 0.60742, saving model to best_model_gru_legal_8_.h5\n",
      "3436/3436 [==============================] - 56s 16ms/step - loss: 0.6599 - accuracy: 0.5974 - val_loss: 0.6521 - val_accuracy: 0.6074\n",
      "Epoch 5/1000\n",
      "3436/3436 [==============================] - ETA: 0s - loss: 0.6551 - accuracy: 0.6117\n",
      "Epoch 5: val_accuracy did not improve from 0.60742\n",
      "3436/3436 [==============================] - 54s 16ms/step - loss: 0.6551 - accuracy: 0.6117 - val_loss: 0.6553 - val_accuracy: 0.6040\n",
      "Epoch 6/1000\n",
      "3435/3436 [============================>.] - ETA: 0s - loss: 0.6519 - accuracy: 0.6102\n",
      "Epoch 6: val_accuracy improved from 0.60742 to 0.60996, saving model to best_model_gru_legal_8_.h5\n",
      "3436/3436 [==============================] - 55s 16ms/step - loss: 0.6519 - accuracy: 0.6102 - val_loss: 0.6471 - val_accuracy: 0.6100\n",
      "Epoch 7/1000\n",
      "3436/3436 [==============================] - ETA: 0s - loss: 0.6456 - accuracy: 0.6202\n",
      "Epoch 7: val_accuracy improved from 0.60996 to 0.62751, saving model to best_model_gru_legal_8_.h5\n",
      "3436/3436 [==============================] - 56s 16ms/step - loss: 0.6456 - accuracy: 0.6202 - val_loss: 0.6433 - val_accuracy: 0.6275\n",
      "Epoch 8/1000\n",
      "3435/3436 [============================>.] - ETA: 0s - loss: 0.6422 - accuracy: 0.6276\n",
      "Epoch 8: val_accuracy improved from 0.62751 to 0.63176, saving model to best_model_gru_legal_8_.h5\n",
      "3436/3436 [==============================] - 54s 16ms/step - loss: 0.6422 - accuracy: 0.6276 - val_loss: 0.6398 - val_accuracy: 0.6318\n",
      "Epoch 9/1000\n",
      "3433/3436 [============================>.] - ETA: 0s - loss: 0.6364 - accuracy: 0.6340\n",
      "Epoch 9: val_accuracy improved from 0.63176 to 0.63586, saving model to best_model_gru_legal_8_.h5\n",
      "3436/3436 [==============================] - 39s 11ms/step - loss: 0.6363 - accuracy: 0.6340 - val_loss: 0.6327 - val_accuracy: 0.6359\n",
      "Epoch 10/1000\n",
      "3434/3436 [============================>.] - ETA: 0s - loss: 0.6318 - accuracy: 0.6407\n",
      "Epoch 10: val_accuracy did not improve from 0.63586\n",
      "3436/3436 [==============================] - 30s 9ms/step - loss: 0.6318 - accuracy: 0.6407 - val_loss: 0.6364 - val_accuracy: 0.6309\n",
      "Epoch 11/1000\n",
      "3432/3436 [============================>.] - ETA: 0s - loss: 0.6284 - accuracy: 0.6443\n",
      "Epoch 11: val_accuracy did not improve from 0.63586\n",
      "3436/3436 [==============================] - 28s 8ms/step - loss: 0.6285 - accuracy: 0.6443 - val_loss: 0.6484 - val_accuracy: 0.6197\n",
      "Epoch 12/1000\n",
      "3433/3436 [============================>.] - ETA: 0s - loss: 0.6226 - accuracy: 0.6499\n",
      "Epoch 12: val_accuracy did not improve from 0.63586\n",
      "3436/3436 [==============================] - 30s 9ms/step - loss: 0.6227 - accuracy: 0.6498 - val_loss: 0.6472 - val_accuracy: 0.6323\n",
      "Epoch 13/1000\n",
      "3436/3436 [==============================] - ETA: 0s - loss: 0.6189 - accuracy: 0.6522\n",
      "Epoch 13: val_accuracy improved from 0.63586 to 0.64435, saving model to best_model_gru_legal_8_.h5\n",
      "3436/3436 [==============================] - 28s 8ms/step - loss: 0.6189 - accuracy: 0.6522 - val_loss: 0.6257 - val_accuracy: 0.6444\n",
      "Epoch 14/1000\n",
      "3435/3436 [============================>.] - ETA: 0s - loss: 0.6144 - accuracy: 0.6596\n",
      "Epoch 14: val_accuracy did not improve from 0.64435\n",
      "3436/3436 [==============================] - 28s 8ms/step - loss: 0.6143 - accuracy: 0.6596 - val_loss: 0.6318 - val_accuracy: 0.6373\n",
      "Epoch 15/1000\n",
      "3431/3436 [============================>.] - ETA: 0s - loss: 0.6077 - accuracy: 0.6665\n",
      "Epoch 15: val_accuracy did not improve from 0.64435\n",
      "3436/3436 [==============================] - 29s 8ms/step - loss: 0.6077 - accuracy: 0.6666 - val_loss: 0.6285 - val_accuracy: 0.6418\n",
      "Epoch 16/1000\n",
      "3434/3436 [============================>.] - ETA: 0s - loss: 0.6051 - accuracy: 0.6669\n",
      "Epoch 16: val_accuracy improved from 0.64435 to 0.64478, saving model to best_model_gru_legal_8_.h5\n",
      "3436/3436 [==============================] - 28s 8ms/step - loss: 0.6052 - accuracy: 0.6668 - val_loss: 0.6301 - val_accuracy: 0.6448\n",
      "Epoch 17/1000\n",
      "3432/3436 [============================>.] - ETA: 0s - loss: 0.6000 - accuracy: 0.6698\n",
      "Epoch 17: val_accuracy did not improve from 0.64478\n",
      "3436/3436 [==============================] - 30s 9ms/step - loss: 0.5999 - accuracy: 0.6699 - val_loss: 0.6326 - val_accuracy: 0.6419\n",
      "Epoch 18/1000\n",
      "3435/3436 [============================>.] - ETA: 0s - loss: 0.5996 - accuracy: 0.6736\n",
      "Epoch 18: val_accuracy did not improve from 0.64478\n",
      "3436/3436 [==============================] - 28s 8ms/step - loss: 0.5997 - accuracy: 0.6736 - val_loss: 0.6307 - val_accuracy: 0.6370\n",
      "Epoch 19/1000\n",
      "3434/3436 [============================>.] - ETA: 0s - loss: 0.5946 - accuracy: 0.6773\n",
      "Epoch 19: val_accuracy did not improve from 0.64478\n",
      "3436/3436 [==============================] - 28s 8ms/step - loss: 0.5946 - accuracy: 0.6773 - val_loss: 0.6280 - val_accuracy: 0.6431\n",
      "Epoch 20/1000\n",
      "3434/3436 [============================>.] - ETA: 0s - loss: 0.5913 - accuracy: 0.6817\n",
      "Epoch 20: val_accuracy did not improve from 0.64478\n",
      "3436/3436 [==============================] - 28s 8ms/step - loss: 0.5914 - accuracy: 0.6816 - val_loss: 0.6308 - val_accuracy: 0.6441\n",
      "Epoch 21/1000\n",
      "3436/3436 [==============================] - ETA: 0s - loss: 0.5870 - accuracy: 0.6865\n",
      "Epoch 21: val_accuracy improved from 0.64478 to 0.64761, saving model to best_model_gru_legal_8_.h5\n",
      "3436/3436 [==============================] - 28s 8ms/step - loss: 0.5870 - accuracy: 0.6865 - val_loss: 0.6202 - val_accuracy: 0.6476\n",
      "Epoch 22/1000\n",
      "3435/3436 [============================>.] - ETA: 0s - loss: 0.5812 - accuracy: 0.6900\n",
      "Epoch 22: val_accuracy improved from 0.64761 to 0.65284, saving model to best_model_gru_legal_8_.h5\n",
      "3436/3436 [==============================] - 29s 8ms/step - loss: 0.5812 - accuracy: 0.6900 - val_loss: 0.6221 - val_accuracy: 0.6528\n",
      "Epoch 23/1000\n",
      "3436/3436 [==============================] - ETA: 0s - loss: 0.5761 - accuracy: 0.6967\n",
      "Epoch 23: val_accuracy did not improve from 0.65284\n",
      "3436/3436 [==============================] - 29s 9ms/step - loss: 0.5761 - accuracy: 0.6967 - val_loss: 0.6293 - val_accuracy: 0.6451\n",
      "Epoch 24/1000\n",
      "3431/3436 [============================>.] - ETA: 0s - loss: 0.5732 - accuracy: 0.6974\n",
      "Epoch 24: val_accuracy did not improve from 0.65284\n",
      "3436/3436 [==============================] - 32s 9ms/step - loss: 0.5731 - accuracy: 0.6975 - val_loss: 0.6288 - val_accuracy: 0.6485\n",
      "Epoch 25/1000\n",
      "3433/3436 [============================>.] - ETA: 0s - loss: 0.5712 - accuracy: 0.6989\n",
      "Epoch 25: val_accuracy did not improve from 0.65284\n",
      "3436/3436 [==============================] - 32s 9ms/step - loss: 0.5712 - accuracy: 0.6989 - val_loss: 0.6304 - val_accuracy: 0.6514\n",
      "Epoch 26/1000\n",
      "3434/3436 [============================>.] - ETA: 0s - loss: 0.5681 - accuracy: 0.7007\n",
      "Epoch 26: val_accuracy did not improve from 0.65284\n",
      "3436/3436 [==============================] - 30s 9ms/step - loss: 0.5680 - accuracy: 0.7008 - val_loss: 0.6348 - val_accuracy: 0.6503\n",
      "Epoch 27/1000\n",
      "3431/3436 [============================>.] - ETA: 0s - loss: 0.5600 - accuracy: 0.7093\n",
      "Epoch 27: val_accuracy did not improve from 0.65284\n",
      "3436/3436 [==============================] - 28s 8ms/step - loss: 0.5601 - accuracy: 0.7093 - val_loss: 0.6363 - val_accuracy: 0.6499\n"
     ]
    },
    {
     "name": "stdout",
     "output_type": "stream",
     "text": [
      "Epoch 28/1000\n",
      "3429/3436 [============================>.] - ETA: 0s - loss: 0.5576 - accuracy: 0.7103\n",
      "Epoch 28: val_accuracy did not improve from 0.65284\n",
      "3436/3436 [==============================] - 28s 8ms/step - loss: 0.5577 - accuracy: 0.7103 - val_loss: 0.6513 - val_accuracy: 0.6339\n",
      "Epoch 29/1000\n",
      "3436/3436 [==============================] - ETA: 0s - loss: 0.5539 - accuracy: 0.7153\n",
      "Epoch 29: val_accuracy did not improve from 0.65284\n",
      "3436/3436 [==============================] - 29s 8ms/step - loss: 0.5539 - accuracy: 0.7153 - val_loss: 0.6368 - val_accuracy: 0.6477\n",
      "Epoch 30/1000\n",
      "3436/3436 [==============================] - ETA: 0s - loss: 0.5486 - accuracy: 0.7153\n",
      "Epoch 30: val_accuracy improved from 0.65284 to 0.65440, saving model to best_model_gru_legal_8_.h5\n",
      "3436/3436 [==============================] - 29s 8ms/step - loss: 0.5486 - accuracy: 0.7153 - val_loss: 0.6424 - val_accuracy: 0.6544\n",
      "Epoch 31/1000\n",
      "3433/3436 [============================>.] - ETA: 0s - loss: 0.5460 - accuracy: 0.7214\n",
      "Epoch 31: val_accuracy did not improve from 0.65440\n",
      "3436/3436 [==============================] - 32s 9ms/step - loss: 0.5460 - accuracy: 0.7213 - val_loss: 0.6277 - val_accuracy: 0.6493\n",
      "Epoch 32/1000\n",
      "3432/3436 [============================>.] - ETA: 0s - loss: 0.5382 - accuracy: 0.7262\n",
      "Epoch 32: val_accuracy did not improve from 0.65440\n",
      "3436/3436 [==============================] - 34s 10ms/step - loss: 0.5383 - accuracy: 0.7262 - val_loss: 0.6423 - val_accuracy: 0.6449\n",
      "Epoch 33/1000\n",
      "3435/3436 [============================>.] - ETA: 0s - loss: 0.5388 - accuracy: 0.7254\n",
      "Epoch 33: val_accuracy improved from 0.65440 to 0.65511, saving model to best_model_gru_legal_8_.h5\n",
      "3436/3436 [==============================] - 35s 10ms/step - loss: 0.5388 - accuracy: 0.7254 - val_loss: 0.6483 - val_accuracy: 0.6551\n",
      "Epoch 34/1000\n",
      "3432/3436 [============================>.] - ETA: 0s - loss: 0.5342 - accuracy: 0.7283\n",
      "Epoch 34: val_accuracy did not improve from 0.65511\n",
      "3436/3436 [==============================] - 41s 12ms/step - loss: 0.5342 - accuracy: 0.7283 - val_loss: 0.6604 - val_accuracy: 0.6510\n",
      "Epoch 35/1000\n",
      "3431/3436 [============================>.] - ETA: 0s - loss: 0.5345 - accuracy: 0.7298\n",
      "Epoch 35: val_accuracy did not improve from 0.65511\n",
      "3436/3436 [==============================] - 37s 11ms/step - loss: 0.5346 - accuracy: 0.7297 - val_loss: 0.6413 - val_accuracy: 0.6434\n",
      "Epoch 36/1000\n",
      "3435/3436 [============================>.] - ETA: 0s - loss: 0.5269 - accuracy: 0.7340\n",
      "Epoch 36: val_accuracy did not improve from 0.65511\n",
      "3436/3436 [==============================] - 38s 11ms/step - loss: 0.5268 - accuracy: 0.7340 - val_loss: 0.6589 - val_accuracy: 0.6511\n",
      "Epoch 37/1000\n",
      "3432/3436 [============================>.] - ETA: 0s - loss: 0.5280 - accuracy: 0.7332\n",
      "Epoch 37: val_accuracy improved from 0.65511 to 0.65667, saving model to best_model_gru_legal_8_.h5\n",
      "3436/3436 [==============================] - 32s 9ms/step - loss: 0.5280 - accuracy: 0.7332 - val_loss: 0.6562 - val_accuracy: 0.6567\n",
      "Epoch 38/1000\n",
      "3435/3436 [============================>.] - ETA: 0s - loss: 0.5201 - accuracy: 0.7410\n",
      "Epoch 38: val_accuracy did not improve from 0.65667\n",
      "3436/3436 [==============================] - 52s 15ms/step - loss: 0.5201 - accuracy: 0.7410 - val_loss: 0.6573 - val_accuracy: 0.6499\n",
      "Epoch 39/1000\n",
      "3432/3436 [============================>.] - ETA: 0s - loss: 0.5180 - accuracy: 0.7416\n",
      "Epoch 39: val_accuracy did not improve from 0.65667\n",
      "3436/3436 [==============================] - 51s 15ms/step - loss: 0.5181 - accuracy: 0.7415 - val_loss: 0.6699 - val_accuracy: 0.6537\n",
      "Epoch 40/1000\n",
      "3436/3436 [==============================] - ETA: 0s - loss: 0.5167 - accuracy: 0.7434\n",
      "Epoch 40: val_accuracy did not improve from 0.65667\n",
      "3436/3436 [==============================] - 48s 14ms/step - loss: 0.5167 - accuracy: 0.7434 - val_loss: 0.6488 - val_accuracy: 0.6517\n",
      "Epoch 41/1000\n",
      "1674/3436 [=============>................] - ETA: 23s - loss: 0.5089 - accuracy: 0.7479"
     ]
    }
   ],
   "source": [
    "history = model.fit(X, y, validation_data=(Xv, yv), epochs=1000, batch_size=8, callbacks=[es, mc])"
   ]
  },
  {
   "cell_type": "code",
   "execution_count": null,
   "id": "47422035",
   "metadata": {
    "id": "47422035"
   },
   "outputs": [],
   "source": [
    "history_dict = history.history\n",
    "print(history_dict.keys())"
   ]
  },
  {
   "cell_type": "code",
   "execution_count": null,
   "id": "bea375f7",
   "metadata": {
    "id": "bea375f7"
   },
   "outputs": [],
   "source": [
    "saved_model = load_model('best_model_gru_legal_8' + filename + '_.h5')\n",
    "# evaluate the model\n",
    "_, train_acc = saved_model.evaluate(X, y, verbose=0)\n",
    "_, test_acc = saved_model.evaluate(Xt, yt, verbose=0)\n",
    "\n",
    "print('Train: %.3f, Test: %.3f' % (train_acc, test_acc))"
   ]
  },
  {
   "cell_type": "code",
   "execution_count": null,
   "id": "9891db7e",
   "metadata": {
    "id": "9891db7e"
   },
   "outputs": [],
   "source": [
    "lst = [train_acc, test_acc]\n",
    "df = pd.DataFrame(lst, index =['train_acc', 'test_acc'])\n",
    "df.to_csv(filename +'best_model_gru_legal_8.csv')"
   ]
  },
  {
   "cell_type": "code",
   "execution_count": null,
   "id": "5fd23f7b",
   "metadata": {
    "id": "5fd23f7b"
   },
   "outputs": [],
   "source": [
    "# plot history\n",
    "pyplot.plot(history.history['accuracy'], label='train')\n",
    "pyplot.plot(history.history['val_accuracy'], label='test')\n",
    "pyplot.legend()\n",
    "pyplot.savefig(filename + 'best_model_gru_legal_8.png', bbox_inches='tight')\n",
    "pyplot.show()\n"
   ]
  },
  {
   "cell_type": "code",
   "execution_count": null,
   "id": "c838366c",
   "metadata": {},
   "outputs": [],
   "source": [
    "from matplotlib import pyplot as plt"
   ]
  },
  {
   "cell_type": "code",
   "execution_count": null,
   "id": "b854e3fc",
   "metadata": {},
   "outputs": [],
   "source": [
    "plt.title('Loss')\n",
    "plt.plot(history.history['loss'], label='train')\n",
    "plt.plot(history.history['val_loss'], label='test')\n",
    "plt.legend()\n",
    "pyplot.savefig(filename + 'best_model_gru_legal_8.png', bbox_inches='tight')\n",
    "plt.show();"
   ]
  },
  {
   "cell_type": "code",
   "execution_count": null,
   "id": "2da3ea71",
   "metadata": {},
   "outputs": [],
   "source": [
    "from sklearn.metrics import confusion_matrix\n",
    "yp = (saved_model.predict(X) > 0.5).astype('int32') \n",
    "matrix = confusion_matrix(y,yp, labels=[1,0])\n",
    "cm = pd.DataFrame(matrix, index=['1','0'],columns=['1','0'])\n",
    "from sklearn.metrics import accuracy_score\n",
    "print(\"Test Accuracy Score: %.3f\" %(accuracy_score(y,yp)))\n",
    "\n",
    "from sklearn.metrics import recall_score\n",
    "print(\"Test Recall Score: %.3f\" %(recall_score(y,yp)))\n",
    "\n",
    "from sklearn.metrics import precision_score\n",
    "print(\"Test Precision Score: %.3f\" %(precision_score(y,yp)))\n",
    "\n",
    "from sklearn.metrics import f1_score\n",
    "print(\"Test F1 Score: %.3f\" %(f1_score(y,yp)))"
   ]
  },
  {
   "cell_type": "code",
   "execution_count": null,
   "id": "423e459b",
   "metadata": {},
   "outputs": [],
   "source": [
    "yp = (saved_model.predict(Xt) > 0.5).astype('int32') \n",
    "matrix = confusion_matrix(yt,yp, labels=[1,0])\n",
    "cm = pd.DataFrame(matrix, index=['1','0'],columns=['1','0'])\n",
    "from sklearn.metrics import accuracy_score\n",
    "print(\"Test Accuracy Score: %.3f\" %(accuracy_score(yt,yp)))\n",
    "\n",
    "from sklearn.metrics import recall_score\n",
    "print(\"Test Recall Score: %.3f\" %(recall_score(yt,yp)))\n",
    "\n",
    "from sklearn.metrics import precision_score\n",
    "print(\"Test Precision Score: %.3f\" %(precision_score(yt,yp)))\n",
    "\n",
    "from sklearn.metrics import f1_score\n",
    "print(\"Test F1 Score: %.3f\" %(f1_score(yt,yp)))"
   ]
  },
  {
   "cell_type": "code",
   "execution_count": null,
   "id": "b28f793a",
   "metadata": {},
   "outputs": [],
   "source": []
  },
  {
   "cell_type": "code",
   "execution_count": null,
   "id": "f5980ea3",
   "metadata": {},
   "outputs": [],
   "source": []
  }
 ],
 "metadata": {
  "accelerator": "GPU",
  "colab": {
   "collapsed_sections": [],
   "name": "LSTM_NN 786.ipynb",
   "provenance": []
  },
  "kernelspec": {
   "display_name": "Python 3 (ipykernel)",
   "language": "python",
   "name": "python3"
  },
  "language_info": {
   "codemirror_mode": {
    "name": "ipython",
    "version": 3
   },
   "file_extension": ".py",
   "mimetype": "text/x-python",
   "name": "python",
   "nbconvert_exporter": "python",
   "pygments_lexer": "ipython3",
   "version": "3.7.9"
  }
 },
 "nbformat": 4,
 "nbformat_minor": 5
}
