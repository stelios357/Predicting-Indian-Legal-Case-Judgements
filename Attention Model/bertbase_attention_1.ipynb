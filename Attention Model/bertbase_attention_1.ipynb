{
 "cells": [
  {
   "cell_type": "code",
   "execution_count": 1,
   "id": "419a6ae7",
   "metadata": {},
   "outputs": [],
   "source": [
    "import numpy as np\n",
    "from keras.preprocessing import sequence\n",
    "from keras.models import Sequential\n",
    "from keras.layers import Dense, Dropout, Embedding, LSTM, Bidirectional\n",
    "import pandas as pd\n",
    "from sklearn.model_selection import train_test_split\n",
    "from keras.layers import *\n",
    "from keras.models import *\n",
    "from keras import backend as K\n",
    "import pandas as pd\n",
    "import numpy as np\n",
    "from tensorflow import keras\n",
    "from keras import layers\n",
    "from sklearn.model_selection import train_test_split\n",
    "from keras.callbacks import EarlyStopping\n",
    "from keras.callbacks import ModelCheckpoint\n",
    "from matplotlib import pyplot\n",
    "from keras.models import load_model\n",
    "from keras.models import Sequential\n",
    "from keras.layers import Dense\n",
    "from keras.layers import Dropout\n",
    "from keras.layers import LSTM\n",
    "from keras.utils import np_utils\n",
    "import numpy as np\n",
    "from keras.preprocessing import sequence\n",
    "from keras.models import Sequential\n",
    "from keras.layers import Dense, Dropout, Embedding, LSTM, Bidirectional\n",
    "from keras.datasets import imdb \n",
    "from matplotlib import pyplot as plt"
   ]
  },
  {
   "cell_type": "code",
   "execution_count": 2,
   "id": "4f4a931d",
   "metadata": {},
   "outputs": [],
   "source": [
    "class attention(Layer):\n",
    "    \n",
    "    def __init__(self, return_sequences=True):\n",
    "        self.return_sequences = return_sequences\n",
    "        super(attention,self).__init__()\n",
    "        \n",
    "    def build(self, input_shape):\n",
    "        \n",
    "        self.W=self.add_weight(name=\"att_weight\", shape=(input_shape[-1],1),\n",
    "                               initializer=\"normal\")\n",
    "        self.b=self.add_weight(name=\"att_bias\", shape=(input_shape[1],1),\n",
    "                               initializer=\"zeros\")\n",
    "        \n",
    "        super(attention,self).build(input_shape)\n",
    "        \n",
    "    def call(self, x):\n",
    "        \n",
    "        e = K.tanh(K.dot(x,self.W)+self.b)\n",
    "        a = K.softmax(e, axis=1)\n",
    "        output = x*a\n",
    "        \n",
    "        if self.return_sequences:\n",
    "            return output\n",
    "        \n",
    "        return K.sum(output, axis=1)"
   ]
  },
  {
   "cell_type": "code",
   "execution_count": 3,
   "id": "19f8e633",
   "metadata": {},
   "outputs": [],
   "source": [
    "fn = 'reshape_bb_2560'"
   ]
  },
  {
   "cell_type": "code",
   "execution_count": 4,
   "id": "18158bf5",
   "metadata": {},
   "outputs": [],
   "source": [
    "df = pd.read_csv(r'../Data/BERT2560/Combined/'+ fn +'.csv')"
   ]
  },
  {
   "cell_type": "code",
   "execution_count": 5,
   "id": "14e417c3",
   "metadata": {},
   "outputs": [
    {
     "data": {
      "text/html": [
       "<div>\n",
       "<style scoped>\n",
       "    .dataframe tbody tr th:only-of-type {\n",
       "        vertical-align: middle;\n",
       "    }\n",
       "\n",
       "    .dataframe tbody tr th {\n",
       "        vertical-align: top;\n",
       "    }\n",
       "\n",
       "    .dataframe thead th {\n",
       "        text-align: right;\n",
       "    }\n",
       "</style>\n",
       "<table border=\"1\" class=\"dataframe\">\n",
       "  <thead>\n",
       "    <tr style=\"text-align: right;\">\n",
       "      <th></th>\n",
       "      <th>0</th>\n",
       "      <th>1</th>\n",
       "      <th>2</th>\n",
       "      <th>3</th>\n",
       "      <th>4</th>\n",
       "      <th>5</th>\n",
       "      <th>6</th>\n",
       "      <th>7</th>\n",
       "      <th>8</th>\n",
       "      <th>9</th>\n",
       "      <th>...</th>\n",
       "      <th>3832</th>\n",
       "      <th>3833</th>\n",
       "      <th>3834</th>\n",
       "      <th>3835</th>\n",
       "      <th>3836</th>\n",
       "      <th>3837</th>\n",
       "      <th>3838</th>\n",
       "      <th>3839</th>\n",
       "      <th>label</th>\n",
       "      <th>uid</th>\n",
       "    </tr>\n",
       "  </thead>\n",
       "  <tbody>\n",
       "    <tr>\n",
       "      <th>0</th>\n",
       "      <td>-0.579738</td>\n",
       "      <td>-0.317176</td>\n",
       "      <td>-0.834299</td>\n",
       "      <td>-0.439397</td>\n",
       "      <td>0.244214</td>\n",
       "      <td>-0.263808</td>\n",
       "      <td>-0.361836</td>\n",
       "      <td>0.331367</td>\n",
       "      <td>0.273019</td>\n",
       "      <td>-0.185394</td>\n",
       "      <td>...</td>\n",
       "      <td>0.295260</td>\n",
       "      <td>-0.032157</td>\n",
       "      <td>-0.182466</td>\n",
       "      <td>-0.200523</td>\n",
       "      <td>-0.383263</td>\n",
       "      <td>0.007856</td>\n",
       "      <td>0.218611</td>\n",
       "      <td>-0.005992</td>\n",
       "      <td>1.0</td>\n",
       "      <td>0</td>\n",
       "    </tr>\n",
       "    <tr>\n",
       "      <th>1</th>\n",
       "      <td>-0.465838</td>\n",
       "      <td>-0.231128</td>\n",
       "      <td>-0.654290</td>\n",
       "      <td>-0.523572</td>\n",
       "      <td>0.217441</td>\n",
       "      <td>-0.179935</td>\n",
       "      <td>-0.231489</td>\n",
       "      <td>0.001492</td>\n",
       "      <td>0.136614</td>\n",
       "      <td>-0.151429</td>\n",
       "      <td>...</td>\n",
       "      <td>0.319487</td>\n",
       "      <td>-0.153099</td>\n",
       "      <td>-0.469364</td>\n",
       "      <td>-0.284382</td>\n",
       "      <td>-0.425689</td>\n",
       "      <td>-0.006037</td>\n",
       "      <td>-0.054319</td>\n",
       "      <td>0.027232</td>\n",
       "      <td>0.0</td>\n",
       "      <td>1</td>\n",
       "    </tr>\n",
       "    <tr>\n",
       "      <th>2</th>\n",
       "      <td>-0.329293</td>\n",
       "      <td>-0.126982</td>\n",
       "      <td>-0.460519</td>\n",
       "      <td>-0.324948</td>\n",
       "      <td>-0.110048</td>\n",
       "      <td>-0.018931</td>\n",
       "      <td>-0.075261</td>\n",
       "      <td>0.287152</td>\n",
       "      <td>-0.023564</td>\n",
       "      <td>-0.082494</td>\n",
       "      <td>...</td>\n",
       "      <td>0.592590</td>\n",
       "      <td>-0.589239</td>\n",
       "      <td>0.061818</td>\n",
       "      <td>0.045413</td>\n",
       "      <td>0.066381</td>\n",
       "      <td>-0.360443</td>\n",
       "      <td>0.040208</td>\n",
       "      <td>0.385550</td>\n",
       "      <td>1.0</td>\n",
       "      <td>2</td>\n",
       "    </tr>\n",
       "    <tr>\n",
       "      <th>3</th>\n",
       "      <td>-0.295422</td>\n",
       "      <td>-0.207005</td>\n",
       "      <td>-0.680425</td>\n",
       "      <td>-0.586651</td>\n",
       "      <td>0.266593</td>\n",
       "      <td>-0.479852</td>\n",
       "      <td>-0.288612</td>\n",
       "      <td>0.314306</td>\n",
       "      <td>0.326187</td>\n",
       "      <td>-0.280874</td>\n",
       "      <td>...</td>\n",
       "      <td>0.420607</td>\n",
       "      <td>-0.455895</td>\n",
       "      <td>-0.294199</td>\n",
       "      <td>-0.327827</td>\n",
       "      <td>-0.255264</td>\n",
       "      <td>-0.034784</td>\n",
       "      <td>0.135940</td>\n",
       "      <td>0.318420</td>\n",
       "      <td>1.0</td>\n",
       "      <td>3</td>\n",
       "    </tr>\n",
       "    <tr>\n",
       "      <th>4</th>\n",
       "      <td>-0.508451</td>\n",
       "      <td>-0.188377</td>\n",
       "      <td>-0.161486</td>\n",
       "      <td>-0.389705</td>\n",
       "      <td>0.191571</td>\n",
       "      <td>-0.280671</td>\n",
       "      <td>-0.185133</td>\n",
       "      <td>0.130874</td>\n",
       "      <td>0.128341</td>\n",
       "      <td>-0.123900</td>\n",
       "      <td>...</td>\n",
       "      <td>0.168294</td>\n",
       "      <td>-0.110942</td>\n",
       "      <td>-0.378322</td>\n",
       "      <td>-0.317669</td>\n",
       "      <td>-0.334212</td>\n",
       "      <td>-0.222841</td>\n",
       "      <td>0.090401</td>\n",
       "      <td>0.175640</td>\n",
       "      <td>1.0</td>\n",
       "      <td>4</td>\n",
       "    </tr>\n",
       "  </tbody>\n",
       "</table>\n",
       "<p>5 rows × 3842 columns</p>\n",
       "</div>"
      ],
      "text/plain": [
       "          0         1         2         3         4         5         6  \\\n",
       "0 -0.579738 -0.317176 -0.834299 -0.439397  0.244214 -0.263808 -0.361836   \n",
       "1 -0.465838 -0.231128 -0.654290 -0.523572  0.217441 -0.179935 -0.231489   \n",
       "2 -0.329293 -0.126982 -0.460519 -0.324948 -0.110048 -0.018931 -0.075261   \n",
       "3 -0.295422 -0.207005 -0.680425 -0.586651  0.266593 -0.479852 -0.288612   \n",
       "4 -0.508451 -0.188377 -0.161486 -0.389705  0.191571 -0.280671 -0.185133   \n",
       "\n",
       "          7         8         9  ...      3832      3833      3834      3835  \\\n",
       "0  0.331367  0.273019 -0.185394  ...  0.295260 -0.032157 -0.182466 -0.200523   \n",
       "1  0.001492  0.136614 -0.151429  ...  0.319487 -0.153099 -0.469364 -0.284382   \n",
       "2  0.287152 -0.023564 -0.082494  ...  0.592590 -0.589239  0.061818  0.045413   \n",
       "3  0.314306  0.326187 -0.280874  ...  0.420607 -0.455895 -0.294199 -0.327827   \n",
       "4  0.130874  0.128341 -0.123900  ...  0.168294 -0.110942 -0.378322 -0.317669   \n",
       "\n",
       "       3836      3837      3838      3839  label  uid  \n",
       "0 -0.383263  0.007856  0.218611 -0.005992    1.0    0  \n",
       "1 -0.425689 -0.006037 -0.054319  0.027232    0.0    1  \n",
       "2  0.066381 -0.360443  0.040208  0.385550    1.0    2  \n",
       "3 -0.255264 -0.034784  0.135940  0.318420    1.0    3  \n",
       "4 -0.334212 -0.222841  0.090401  0.175640    1.0    4  \n",
       "\n",
       "[5 rows x 3842 columns]"
      ]
     },
     "execution_count": 5,
     "metadata": {},
     "output_type": "execute_result"
    }
   ],
   "source": [
    "df.head()"
   ]
  },
  {
   "cell_type": "code",
   "execution_count": 6,
   "id": "df969bba",
   "metadata": {},
   "outputs": [],
   "source": [
    "label = df['label']\n",
    "df = df.drop(['uid', 'label'], axis = 1)"
   ]
  },
  {
   "cell_type": "code",
   "execution_count": 7,
   "id": "264c4c9d",
   "metadata": {},
   "outputs": [],
   "source": [
    "features = df"
   ]
  },
  {
   "cell_type": "code",
   "execution_count": 8,
   "id": "7620e7e9",
   "metadata": {},
   "outputs": [],
   "source": [
    "del df"
   ]
  },
  {
   "cell_type": "code",
   "execution_count": 9,
   "id": "fe16663c",
   "metadata": {},
   "outputs": [
    {
     "data": {
      "text/plain": [
       "(39259, 3840)"
      ]
     },
     "execution_count": 9,
     "metadata": {},
     "output_type": "execute_result"
    }
   ],
   "source": [
    "features.shape"
   ]
  },
  {
   "cell_type": "code",
   "execution_count": 11,
   "id": "3bd71271",
   "metadata": {},
   "outputs": [],
   "source": [
    "features = features.to_numpy()\n",
    "features = features.reshape(39259, 5, 768)"
   ]
  },
  {
   "cell_type": "code",
   "execution_count": 12,
   "id": "b35a8487",
   "metadata": {},
   "outputs": [
    {
     "name": "stdout",
     "output_type": "stream",
     "text": [
      "(27481, 5, 768) (27481,) (11778, 5, 768) (11778,)\n",
      "(7066, 5, 768) (4712, 5, 768) (7066,) (4712,)\n"
     ]
    }
   ],
   "source": [
    "X, a, y, b = train_test_split(features, label, random_state=42, stratify=label, test_size=0.3)\n",
    "print(X.shape, y.shape, a.shape, b.shape)\n",
    "\n",
    "Xv, Xt, yv, yt = train_test_split(a, b, random_state=42, stratify=b, test_size=0.4)\n",
    "print(Xv.shape, Xt.shape, yv.shape, yt.shape)"
   ]
  },
  {
   "cell_type": "code",
   "execution_count": 13,
   "id": "10729588",
   "metadata": {},
   "outputs": [],
   "source": [
    "model = Sequential()\n",
    "model.add(Bidirectional(LSTM(100, input_shape=(features.shape[1], features.shape[2]), return_sequences=True))) #bidirectional lstm\n",
    "model.add(attention(return_sequences=True)) # receive 3D and output 2D\n",
    "model.add(Dropout(0.25))\n",
    "model.add(Bidirectional(LSTM(50, return_sequences=True)))\n",
    "model.add(Dropout(0.2))\n",
    "model.add(Bidirectional(LSTM(20)))\n",
    "model.add(Dropout(0.1))\n",
    "model.add(Dense(1, activation='sigmoid'))"
   ]
  },
  {
   "cell_type": "code",
   "execution_count": 14,
   "id": "3269d0af",
   "metadata": {},
   "outputs": [],
   "source": [
    "model.compile(optimizer='adam', loss=keras.losses.BinaryCrossentropy(), metrics=['accuracy'])"
   ]
  },
  {
   "cell_type": "code",
   "execution_count": 15,
   "id": "c3857862",
   "metadata": {},
   "outputs": [],
   "source": [
    "es = EarlyStopping(monitor='val_loss', mode='min', verbose=1000, patience=50)\n",
    "#mc = ModelCheckpoint('best_model_legal_att' + fn + '_.h5', monitor='val_accuracy', mode='max', verbose=1, save_best_only=True)"
   ]
  },
  {
   "cell_type": "code",
   "execution_count": null,
   "id": "8ae6003c",
   "metadata": {},
   "outputs": [
    {
     "name": "stdout",
     "output_type": "stream",
     "text": [
      "Epoch 1/1000\n",
      "1718/1718 [==============================] - 33s 16ms/step - loss: 0.6760 - accuracy: 0.5700 - val_loss: 0.6723 - val_accuracy: 0.5756\n",
      "Epoch 2/1000\n",
      "1718/1718 [==============================] - 31s 18ms/step - loss: 0.6671 - accuracy: 0.5847 - val_loss: 0.6717 - val_accuracy: 0.5712\n",
      "Epoch 3/1000\n",
      "1718/1718 [==============================] - 28s 16ms/step - loss: 0.6596 - accuracy: 0.5967 - val_loss: 0.6615 - val_accuracy: 0.5965\n",
      "Epoch 4/1000\n",
      "1718/1718 [==============================] - 30s 18ms/step - loss: 0.6537 - accuracy: 0.6067 - val_loss: 0.6516 - val_accuracy: 0.6107\n",
      "Epoch 5/1000\n",
      "1718/1718 [==============================] - 34s 20ms/step - loss: 0.6466 - accuracy: 0.6170 - val_loss: 0.6529 - val_accuracy: 0.6040\n",
      "Epoch 6/1000\n",
      "1718/1718 [==============================] - 43s 25ms/step - loss: 0.6396 - accuracy: 0.6284 - val_loss: 0.6655 - val_accuracy: 0.6091\n",
      "Epoch 7/1000\n",
      "1718/1718 [==============================] - 40s 23ms/step - loss: 0.6324 - accuracy: 0.6376 - val_loss: 0.6413 - val_accuracy: 0.6235\n",
      "Epoch 8/1000\n",
      "1718/1718 [==============================] - 41s 24ms/step - loss: 0.6234 - accuracy: 0.6475 - val_loss: 0.6444 - val_accuracy: 0.6156\n",
      "Epoch 9/1000\n",
      "1718/1718 [==============================] - 42s 24ms/step - loss: 0.6145 - accuracy: 0.6561 - val_loss: 0.6312 - val_accuracy: 0.6391\n",
      "Epoch 10/1000\n",
      "1718/1718 [==============================] - 43s 25ms/step - loss: 0.6053 - accuracy: 0.6656 - val_loss: 0.6655 - val_accuracy: 0.6216\n",
      "Epoch 11/1000\n",
      " 738/1718 [===========>..................] - ETA: 22s - loss: 0.5985 - accuracy: 0.6702"
     ]
    }
   ],
   "source": [
    "history = model.fit(X, y, validation_data=(Xv, yv), epochs=1000, batch_size=16, callbacks=[es])"
   ]
  },
  {
   "cell_type": "code",
   "execution_count": null,
   "id": "fcb145ad",
   "metadata": {},
   "outputs": [],
   "source": [
    "history_dict = history.history\n",
    "print(history_dict.keys())"
   ]
  },
  {
   "cell_type": "code",
   "execution_count": null,
   "id": "e89d1dad",
   "metadata": {},
   "outputs": [],
   "source": [
    "saved_model = model\n",
    "# evaluate the model\n",
    "#_, train_acc = saved_model.evaluate(X, y, verbose=0)\n",
    "#_, test_acc = saved_model.evaluate(Xt, yt, verbose=0)\n",
    "\n",
    "#print('Train: %.3f, Test: %.3f' % (train_acc, test_acc))"
   ]
  },
  {
   "cell_type": "code",
   "execution_count": null,
   "id": "ff7c0741",
   "metadata": {},
   "outputs": [],
   "source": [
    "lst = [train_acc, test_acc]\n",
    "df = pd.DataFrame(lst, index =['train_acc', 'test_acc'])\n",
    "df.to_csv(fn +'best_model_bb_att_results.csv')"
   ]
  },
  {
   "cell_type": "code",
   "execution_count": null,
   "id": "76e34f1e",
   "metadata": {},
   "outputs": [],
   "source": [
    "# plot history\n",
    "pyplot.plot(history.history['accuracy'], label='train')\n",
    "pyplot.plot(history.history['val_accuracy'], label='test')\n",
    "pyplot.legend()\n",
    "pyplot.savefig(fn + 'best_model_bb_att_acc.png', bbox_inches='tight')\n",
    "pyplot.show()\n"
   ]
  },
  {
   "cell_type": "code",
   "execution_count": null,
   "id": "c234578d",
   "metadata": {},
   "outputs": [],
   "source": [
    "plt.title('Loss')\n",
    "plt.plot(history.history['loss'], label='train')\n",
    "plt.plot(history.history['val_loss'], label='test')\n",
    "pyplot.savefig(fn + 'best_model_bb_att_loss.png', bbox_inches='tight')\n",
    "plt.legend()\n",
    "plt.show();"
   ]
  },
  {
   "cell_type": "code",
   "execution_count": null,
   "id": "7e19f4fe",
   "metadata": {},
   "outputs": [],
   "source": []
  }
 ],
 "metadata": {
  "kernelspec": {
   "display_name": "Python 3 (ipykernel)",
   "language": "python",
   "name": "python3"
  },
  "language_info": {
   "codemirror_mode": {
    "name": "ipython",
    "version": 3
   },
   "file_extension": ".py",
   "mimetype": "text/x-python",
   "name": "python",
   "nbconvert_exporter": "python",
   "pygments_lexer": "ipython3",
   "version": "3.7.9"
  }
 },
 "nbformat": 4,
 "nbformat_minor": 5
}
