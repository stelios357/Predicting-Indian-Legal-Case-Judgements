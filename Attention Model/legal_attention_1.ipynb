{
 "cells": [
  {
   "cell_type": "code",
   "execution_count": 2,
   "id": "236bad41",
   "metadata": {},
   "outputs": [],
   "source": [
    "import numpy as np\n",
    "from keras.preprocessing import sequence\n",
    "from keras.models import Sequential\n",
    "from keras.layers import Dense, Dropout, Embedding, LSTM, Bidirectional\n",
    "import pandas as pd\n",
    "from sklearn.model_selection import train_test_split\n",
    "from keras.layers import *\n",
    "from keras.models import *\n",
    "from keras import backend as K\n",
    "import pandas as pd\n",
    "import numpy as np\n",
    "from tensorflow import keras\n",
    "from keras import layers\n",
    "from sklearn.model_selection import train_test_split\n",
    "from keras.callbacks import EarlyStopping\n",
    "from keras.callbacks import ModelCheckpoint\n",
    "from matplotlib import pyplot\n",
    "from keras.models import load_model\n",
    "from keras.models import Sequential\n",
    "from keras.layers import Dense\n",
    "from keras.layers import Dropout\n",
    "from keras.layers import LSTM\n",
    "from keras.utils import np_utils\n",
    "import numpy as np\n",
    "from keras.preprocessing import sequence\n",
    "from keras.models import Sequential\n",
    "from keras.layers import Dense, Dropout, Embedding, LSTM, Bidirectional\n",
    "from keras.datasets import imdb \n",
    "from matplotlib import pyplot as plt"
   ]
  },
  {
   "cell_type": "code",
   "execution_count": 3,
   "id": "337cbc07",
   "metadata": {},
   "outputs": [],
   "source": [
    "class attention(Layer):\n",
    "    \n",
    "    def __init__(self, return_sequences=True):\n",
    "        self.return_sequences = return_sequences\n",
    "        super(attention,self).__init__()\n",
    "        \n",
    "    def build(self, input_shape):\n",
    "        \n",
    "        self.W=self.add_weight(name=\"att_weight\", shape=(input_shape[-1],1),\n",
    "                               initializer=\"normal\")\n",
    "        self.b=self.add_weight(name=\"att_bias\", shape=(input_shape[1],1),\n",
    "                               initializer=\"zeros\")\n",
    "        \n",
    "        super(attention,self).build(input_shape)\n",
    "        \n",
    "    def call(self, x):\n",
    "        \n",
    "        e = K.tanh(K.dot(x,self.W)+self.b)\n",
    "        a = K.softmax(e, axis=1)\n",
    "        output = x*a\n",
    "        \n",
    "        if self.return_sequences:\n",
    "            return output\n",
    "        \n",
    "        return K.sum(output, axis=1)"
   ]
  },
  {
   "cell_type": "code",
   "execution_count": 4,
   "id": "edb98628",
   "metadata": {},
   "outputs": [],
   "source": [
    "fn = 'reshape_legalbert_2560'"
   ]
  },
  {
   "cell_type": "code",
   "execution_count": 5,
   "id": "6fa01dbc",
   "metadata": {},
   "outputs": [],
   "source": [
    "df = pd.read_csv(r'../Data/BERT2560/Combined/'+ fn +'.csv')"
   ]
  },
  {
   "cell_type": "code",
   "execution_count": 6,
   "id": "1abe37f7",
   "metadata": {},
   "outputs": [
    {
     "data": {
      "text/html": [
       "<div>\n",
       "<style scoped>\n",
       "    .dataframe tbody tr th:only-of-type {\n",
       "        vertical-align: middle;\n",
       "    }\n",
       "\n",
       "    .dataframe tbody tr th {\n",
       "        vertical-align: top;\n",
       "    }\n",
       "\n",
       "    .dataframe thead th {\n",
       "        text-align: right;\n",
       "    }\n",
       "</style>\n",
       "<table border=\"1\" class=\"dataframe\">\n",
       "  <thead>\n",
       "    <tr style=\"text-align: right;\">\n",
       "      <th></th>\n",
       "      <th>0</th>\n",
       "      <th>1</th>\n",
       "      <th>2</th>\n",
       "      <th>3</th>\n",
       "      <th>4</th>\n",
       "      <th>5</th>\n",
       "      <th>6</th>\n",
       "      <th>7</th>\n",
       "      <th>8</th>\n",
       "      <th>9</th>\n",
       "      <th>...</th>\n",
       "      <th>3832</th>\n",
       "      <th>3833</th>\n",
       "      <th>3834</th>\n",
       "      <th>3835</th>\n",
       "      <th>3836</th>\n",
       "      <th>3837</th>\n",
       "      <th>3838</th>\n",
       "      <th>3839</th>\n",
       "      <th>label</th>\n",
       "      <th>uid</th>\n",
       "    </tr>\n",
       "  </thead>\n",
       "  <tbody>\n",
       "    <tr>\n",
       "      <th>0</th>\n",
       "      <td>0.694659</td>\n",
       "      <td>0.221663</td>\n",
       "      <td>-0.120176</td>\n",
       "      <td>-0.507601</td>\n",
       "      <td>-0.375668</td>\n",
       "      <td>-0.063067</td>\n",
       "      <td>0.446123</td>\n",
       "      <td>0.403159</td>\n",
       "      <td>0.444961</td>\n",
       "      <td>-0.286873</td>\n",
       "      <td>...</td>\n",
       "      <td>-0.030328</td>\n",
       "      <td>-0.088512</td>\n",
       "      <td>-0.196515</td>\n",
       "      <td>-0.206127</td>\n",
       "      <td>-0.403472</td>\n",
       "      <td>0.285773</td>\n",
       "      <td>0.207637</td>\n",
       "      <td>0.008742</td>\n",
       "      <td>1.0</td>\n",
       "      <td>0</td>\n",
       "    </tr>\n",
       "    <tr>\n",
       "      <th>1</th>\n",
       "      <td>0.474627</td>\n",
       "      <td>0.033612</td>\n",
       "      <td>-0.224607</td>\n",
       "      <td>-0.129596</td>\n",
       "      <td>0.190784</td>\n",
       "      <td>-0.067255</td>\n",
       "      <td>0.099426</td>\n",
       "      <td>0.185787</td>\n",
       "      <td>0.066976</td>\n",
       "      <td>-0.304500</td>\n",
       "      <td>...</td>\n",
       "      <td>-0.266607</td>\n",
       "      <td>0.030819</td>\n",
       "      <td>-0.283876</td>\n",
       "      <td>-0.228557</td>\n",
       "      <td>-0.451705</td>\n",
       "      <td>0.222950</td>\n",
       "      <td>0.290525</td>\n",
       "      <td>-0.277717</td>\n",
       "      <td>0.0</td>\n",
       "      <td>1</td>\n",
       "    </tr>\n",
       "    <tr>\n",
       "      <th>2</th>\n",
       "      <td>0.718219</td>\n",
       "      <td>0.231723</td>\n",
       "      <td>-0.229592</td>\n",
       "      <td>-0.399477</td>\n",
       "      <td>0.004204</td>\n",
       "      <td>0.044448</td>\n",
       "      <td>0.488153</td>\n",
       "      <td>0.180377</td>\n",
       "      <td>0.006841</td>\n",
       "      <td>-0.205156</td>\n",
       "      <td>...</td>\n",
       "      <td>-0.212385</td>\n",
       "      <td>0.024296</td>\n",
       "      <td>-0.006466</td>\n",
       "      <td>0.217261</td>\n",
       "      <td>-0.614147</td>\n",
       "      <td>0.215603</td>\n",
       "      <td>0.263279</td>\n",
       "      <td>0.059186</td>\n",
       "      <td>1.0</td>\n",
       "      <td>2</td>\n",
       "    </tr>\n",
       "    <tr>\n",
       "      <th>3</th>\n",
       "      <td>0.541950</td>\n",
       "      <td>0.024961</td>\n",
       "      <td>0.042744</td>\n",
       "      <td>-0.239540</td>\n",
       "      <td>0.074589</td>\n",
       "      <td>0.082739</td>\n",
       "      <td>0.071403</td>\n",
       "      <td>0.509075</td>\n",
       "      <td>0.116463</td>\n",
       "      <td>-0.350714</td>\n",
       "      <td>...</td>\n",
       "      <td>0.019233</td>\n",
       "      <td>0.172554</td>\n",
       "      <td>-0.125242</td>\n",
       "      <td>-0.011911</td>\n",
       "      <td>-0.594645</td>\n",
       "      <td>0.064373</td>\n",
       "      <td>0.439116</td>\n",
       "      <td>-0.035912</td>\n",
       "      <td>1.0</td>\n",
       "      <td>3</td>\n",
       "    </tr>\n",
       "    <tr>\n",
       "      <th>4</th>\n",
       "      <td>0.296363</td>\n",
       "      <td>0.339710</td>\n",
       "      <td>-0.282621</td>\n",
       "      <td>-0.219809</td>\n",
       "      <td>-0.252511</td>\n",
       "      <td>0.159772</td>\n",
       "      <td>0.323904</td>\n",
       "      <td>0.222704</td>\n",
       "      <td>-0.185598</td>\n",
       "      <td>-0.071593</td>\n",
       "      <td>...</td>\n",
       "      <td>-0.113264</td>\n",
       "      <td>0.028536</td>\n",
       "      <td>-0.195957</td>\n",
       "      <td>-0.326832</td>\n",
       "      <td>-0.274095</td>\n",
       "      <td>0.323985</td>\n",
       "      <td>0.272582</td>\n",
       "      <td>-0.084046</td>\n",
       "      <td>1.0</td>\n",
       "      <td>4</td>\n",
       "    </tr>\n",
       "  </tbody>\n",
       "</table>\n",
       "<p>5 rows × 3842 columns</p>\n",
       "</div>"
      ],
      "text/plain": [
       "          0         1         2         3         4         5         6  \\\n",
       "0  0.694659  0.221663 -0.120176 -0.507601 -0.375668 -0.063067  0.446123   \n",
       "1  0.474627  0.033612 -0.224607 -0.129596  0.190784 -0.067255  0.099426   \n",
       "2  0.718219  0.231723 -0.229592 -0.399477  0.004204  0.044448  0.488153   \n",
       "3  0.541950  0.024961  0.042744 -0.239540  0.074589  0.082739  0.071403   \n",
       "4  0.296363  0.339710 -0.282621 -0.219809 -0.252511  0.159772  0.323904   \n",
       "\n",
       "          7         8         9  ...      3832      3833      3834      3835  \\\n",
       "0  0.403159  0.444961 -0.286873  ... -0.030328 -0.088512 -0.196515 -0.206127   \n",
       "1  0.185787  0.066976 -0.304500  ... -0.266607  0.030819 -0.283876 -0.228557   \n",
       "2  0.180377  0.006841 -0.205156  ... -0.212385  0.024296 -0.006466  0.217261   \n",
       "3  0.509075  0.116463 -0.350714  ...  0.019233  0.172554 -0.125242 -0.011911   \n",
       "4  0.222704 -0.185598 -0.071593  ... -0.113264  0.028536 -0.195957 -0.326832   \n",
       "\n",
       "       3836      3837      3838      3839  label  uid  \n",
       "0 -0.403472  0.285773  0.207637  0.008742    1.0    0  \n",
       "1 -0.451705  0.222950  0.290525 -0.277717    0.0    1  \n",
       "2 -0.614147  0.215603  0.263279  0.059186    1.0    2  \n",
       "3 -0.594645  0.064373  0.439116 -0.035912    1.0    3  \n",
       "4 -0.274095  0.323985  0.272582 -0.084046    1.0    4  \n",
       "\n",
       "[5 rows x 3842 columns]"
      ]
     },
     "execution_count": 6,
     "metadata": {},
     "output_type": "execute_result"
    }
   ],
   "source": [
    "df.head()"
   ]
  },
  {
   "cell_type": "code",
   "execution_count": 7,
   "id": "d1e3ef3f",
   "metadata": {},
   "outputs": [],
   "source": [
    "label = df['label']\n",
    "df = df.drop(['uid', 'label'], axis = 1)"
   ]
  },
  {
   "cell_type": "code",
   "execution_count": 8,
   "id": "64352556",
   "metadata": {},
   "outputs": [],
   "source": [
    "features = df"
   ]
  },
  {
   "cell_type": "code",
   "execution_count": 9,
   "id": "958d55d5",
   "metadata": {},
   "outputs": [],
   "source": [
    "del df"
   ]
  },
  {
   "cell_type": "code",
   "execution_count": 10,
   "id": "044ae5b5",
   "metadata": {},
   "outputs": [],
   "source": [
    "features = features.to_numpy()\n",
    "features = features.reshape(39256, 5, 768)"
   ]
  },
  {
   "cell_type": "code",
   "execution_count": 11,
   "id": "b5ccad36",
   "metadata": {},
   "outputs": [
    {
     "name": "stdout",
     "output_type": "stream",
     "text": [
      "(27479, 5, 768) (27479,) (11777, 5, 768) (11777,)\n",
      "(7066, 5, 768) (4711, 5, 768) (7066,) (4711,)\n"
     ]
    }
   ],
   "source": [
    "X, a, y, b = train_test_split(features, label, random_state=42, stratify=label, test_size=0.3)\n",
    "print(X.shape, y.shape, a.shape, b.shape)\n",
    "\n",
    "Xv, Xt, yv, yt = train_test_split(a, b, random_state=42, stratify=b, test_size=0.4)\n",
    "print(Xv.shape, Xt.shape, yv.shape, yt.shape)"
   ]
  },
  {
   "cell_type": "code",
   "execution_count": 12,
   "id": "64152bca",
   "metadata": {},
   "outputs": [],
   "source": [
    "model = Sequential()\n",
    "model.add(Bidirectional(LSTM(100, input_shape=(features.shape[1], features.shape[2]), return_sequences=True))) #bidirectional lstm\n",
    "model.add(attention(return_sequences=True)) # receive 3D and output 2D\n",
    "model.add(Dropout(0.25))\n",
    "model.add(Bidirectional(LSTM(50, return_sequences=True)))\n",
    "model.add(Dropout(0.2))\n",
    "model.add(Bidirectional(LSTM(20)))\n",
    "model.add(Dropout(0.1))\n",
    "model.add(Dense(1, activation='sigmoid'))"
   ]
  },
  {
   "cell_type": "code",
   "execution_count": 13,
   "id": "a146e202",
   "metadata": {},
   "outputs": [],
   "source": [
    "model.compile(optimizer='adam', loss=keras.losses.BinaryCrossentropy(), metrics=['accuracy'])"
   ]
  },
  {
   "cell_type": "code",
   "execution_count": 14,
   "id": "93fc2158",
   "metadata": {},
   "outputs": [],
   "source": [
    "es = EarlyStopping(monitor='val_loss', mode='min', verbose=1000, patience=50)\n",
    "#mc = ModelCheckpoint('best_model_legal_att' + fn + '_.h5', monitor='val_accuracy', mode='max', verbose=1, save_best_only=True)"
   ]
  },
  {
   "cell_type": "code",
   "execution_count": 15,
   "id": "1234c2c2",
   "metadata": {},
   "outputs": [
    {
     "name": "stdout",
     "output_type": "stream",
     "text": [
      "Epoch 1/1000\n",
      "1718/1718 [==============================] - 30s 13ms/step - loss: 0.6583 - accuracy: 0.6015 - val_loss: 0.6418 - val_accuracy: 0.6223\n",
      "Epoch 2/1000\n",
      "1718/1718 [==============================] - 21s 12ms/step - loss: 0.6099 - accuracy: 0.6588 - val_loss: 0.6096 - val_accuracy: 0.6625\n",
      "Epoch 3/1000\n",
      "1718/1718 [==============================] - 28s 16ms/step - loss: 0.5771 - accuracy: 0.6879 - val_loss: 0.5764 - val_accuracy: 0.6912\n",
      "Epoch 4/1000\n",
      "1718/1718 [==============================] - 23s 13ms/step - loss: 0.5558 - accuracy: 0.7049 - val_loss: 0.5647 - val_accuracy: 0.6946\n",
      "Epoch 5/1000\n",
      "1718/1718 [==============================] - 21s 12ms/step - loss: 0.5368 - accuracy: 0.7198 - val_loss: 0.5641 - val_accuracy: 0.6939\n",
      "Epoch 6/1000\n",
      "1718/1718 [==============================] - 25s 15ms/step - loss: 0.5184 - accuracy: 0.7344 - val_loss: 0.5823 - val_accuracy: 0.7005\n",
      "Epoch 7/1000\n",
      "1718/1718 [==============================] - 35s 20ms/step - loss: 0.4990 - accuracy: 0.7482 - val_loss: 0.5640 - val_accuracy: 0.7053\n",
      "Epoch 8/1000\n",
      "1718/1718 [==============================] - 22s 13ms/step - loss: 0.4773 - accuracy: 0.7646 - val_loss: 0.6163 - val_accuracy: 0.6598\n",
      "Epoch 9/1000\n",
      "1718/1718 [==============================] - 29s 17ms/step - loss: 0.4532 - accuracy: 0.7821 - val_loss: 0.5754 - val_accuracy: 0.7126\n",
      "Epoch 10/1000\n",
      "1718/1718 [==============================] - 30s 17ms/step - loss: 0.4278 - accuracy: 0.7944 - val_loss: 0.5864 - val_accuracy: 0.7134\n",
      "Epoch 11/1000\n",
      "1718/1718 [==============================] - 29s 17ms/step - loss: 0.4068 - accuracy: 0.8056 - val_loss: 0.5739 - val_accuracy: 0.7178\n",
      "Epoch 12/1000\n",
      "1718/1718 [==============================] - 31s 18ms/step - loss: 0.3834 - accuracy: 0.8229 - val_loss: 0.5941 - val_accuracy: 0.7162\n",
      "Epoch 13/1000\n",
      "1718/1718 [==============================] - 30s 18ms/step - loss: 0.3574 - accuracy: 0.8349 - val_loss: 0.6294 - val_accuracy: 0.7226\n",
      "Epoch 14/1000\n",
      "1718/1718 [==============================] - 32s 19ms/step - loss: 0.3308 - accuracy: 0.8481 - val_loss: 0.6520 - val_accuracy: 0.7184\n",
      "Epoch 15/1000\n",
      "1718/1718 [==============================] - 30s 17ms/step - loss: 0.3062 - accuracy: 0.8634 - val_loss: 0.6908 - val_accuracy: 0.7223\n",
      "Epoch 16/1000\n",
      "1718/1718 [==============================] - 31s 18ms/step - loss: 0.2884 - accuracy: 0.8727 - val_loss: 0.6585 - val_accuracy: 0.7228\n",
      "Epoch 17/1000\n",
      "1718/1718 [==============================] - 34s 20ms/step - loss: 0.2672 - accuracy: 0.8849 - val_loss: 0.7156 - val_accuracy: 0.7181\n",
      "Epoch 18/1000\n",
      "1718/1718 [==============================] - 33s 19ms/step - loss: 0.2477 - accuracy: 0.8934 - val_loss: 0.7126 - val_accuracy: 0.7276\n",
      "Epoch 19/1000\n",
      "1718/1718 [==============================] - 35s 20ms/step - loss: 0.2327 - accuracy: 0.9020 - val_loss: 0.7968 - val_accuracy: 0.7308\n",
      "Epoch 20/1000\n",
      "1718/1718 [==============================] - 35s 20ms/step - loss: 0.2075 - accuracy: 0.9145 - val_loss: 0.7817 - val_accuracy: 0.7270\n",
      "Epoch 21/1000\n",
      "1718/1718 [==============================] - 35s 21ms/step - loss: 0.1965 - accuracy: 0.9193 - val_loss: 0.8726 - val_accuracy: 0.7320\n",
      "Epoch 22/1000\n",
      "1718/1718 [==============================] - 32s 19ms/step - loss: 0.1811 - accuracy: 0.9283 - val_loss: 0.8671 - val_accuracy: 0.7246\n",
      "Epoch 23/1000\n",
      "1718/1718 [==============================] - 30s 18ms/step - loss: 0.1708 - accuracy: 0.9286 - val_loss: 0.8788 - val_accuracy: 0.7280\n",
      "Epoch 24/1000\n",
      "1718/1718 [==============================] - 30s 18ms/step - loss: 0.1594 - accuracy: 0.9352 - val_loss: 0.8729 - val_accuracy: 0.7274\n",
      "Epoch 25/1000\n",
      "1718/1718 [==============================] - 32s 18ms/step - loss: 0.1413 - accuracy: 0.9440 - val_loss: 0.9431 - val_accuracy: 0.7368\n",
      "Epoch 26/1000\n",
      "1718/1718 [==============================] - 31s 18ms/step - loss: 0.1382 - accuracy: 0.9441 - val_loss: 0.8955 - val_accuracy: 0.7329\n",
      "Epoch 27/1000\n",
      "1718/1718 [==============================] - 32s 18ms/step - loss: 0.1232 - accuracy: 0.9516 - val_loss: 0.9709 - val_accuracy: 0.7300\n",
      "Epoch 28/1000\n",
      "1718/1718 [==============================] - 32s 19ms/step - loss: 0.1192 - accuracy: 0.9536 - val_loss: 1.0474 - val_accuracy: 0.7341\n",
      "Epoch 29/1000\n",
      "1718/1718 [==============================] - 32s 19ms/step - loss: 0.1129 - accuracy: 0.9566 - val_loss: 1.0336 - val_accuracy: 0.7318\n",
      "Epoch 30/1000\n",
      "1718/1718 [==============================] - 31s 18ms/step - loss: 0.0996 - accuracy: 0.9632 - val_loss: 1.1033 - val_accuracy: 0.7253\n",
      "Epoch 31/1000\n",
      "1718/1718 [==============================] - 41s 24ms/step - loss: 0.0991 - accuracy: 0.9640 - val_loss: 1.0922 - val_accuracy: 0.7239\n",
      "Epoch 32/1000\n",
      "1718/1718 [==============================] - 35s 20ms/step - loss: 0.0905 - accuracy: 0.9661 - val_loss: 1.0329 - val_accuracy: 0.7346\n",
      "Epoch 33/1000\n",
      "1718/1718 [==============================] - 35s 20ms/step - loss: 0.0904 - accuracy: 0.9656 - val_loss: 1.0098 - val_accuracy: 0.7293\n",
      "Epoch 34/1000\n",
      "1718/1718 [==============================] - 35s 20ms/step - loss: 0.0857 - accuracy: 0.9675 - val_loss: 1.2533 - val_accuracy: 0.7178\n",
      "Epoch 35/1000\n",
      "1718/1718 [==============================] - 35s 20ms/step - loss: 0.0756 - accuracy: 0.9725 - val_loss: 1.1634 - val_accuracy: 0.7145\n",
      "Epoch 36/1000\n",
      "1718/1718 [==============================] - 31s 18ms/step - loss: 0.0788 - accuracy: 0.9706 - val_loss: 1.2371 - val_accuracy: 0.7271\n",
      "Epoch 37/1000\n",
      "1718/1718 [==============================] - 32s 19ms/step - loss: 0.0725 - accuracy: 0.9729 - val_loss: 1.3389 - val_accuracy: 0.7270\n",
      "Epoch 38/1000\n",
      "1718/1718 [==============================] - 33s 19ms/step - loss: 0.0697 - accuracy: 0.9748 - val_loss: 1.1737 - val_accuracy: 0.7192\n",
      "Epoch 39/1000\n",
      "1718/1718 [==============================] - 33s 19ms/step - loss: 0.0688 - accuracy: 0.9740 - val_loss: 1.2389 - val_accuracy: 0.7337\n",
      "Epoch 40/1000\n",
      "1718/1718 [==============================] - 34s 20ms/step - loss: 0.0719 - accuracy: 0.9746 - val_loss: 1.1762 - val_accuracy: 0.7301\n",
      "Epoch 41/1000\n",
      "1718/1718 [==============================] - 33s 19ms/step - loss: 0.0646 - accuracy: 0.9771 - val_loss: 1.2506 - val_accuracy: 0.7337\n",
      "Epoch 42/1000\n",
      "1718/1718 [==============================] - 35s 20ms/step - loss: 0.0592 - accuracy: 0.9788 - val_loss: 1.2169 - val_accuracy: 0.7331\n",
      "Epoch 43/1000\n",
      "1718/1718 [==============================] - 37s 22ms/step - loss: 0.0663 - accuracy: 0.9750 - val_loss: 1.2918 - val_accuracy: 0.7344\n",
      "Epoch 44/1000\n",
      "1718/1718 [==============================] - 34s 20ms/step - loss: 0.0547 - accuracy: 0.9796 - val_loss: 1.3286 - val_accuracy: 0.7317\n",
      "Epoch 45/1000\n",
      "1718/1718 [==============================] - 33s 19ms/step - loss: 0.0532 - accuracy: 0.9811 - val_loss: 1.2908 - val_accuracy: 0.7328\n",
      "Epoch 46/1000\n",
      "1718/1718 [==============================] - 31s 18ms/step - loss: 0.0549 - accuracy: 0.9791 - val_loss: 1.1818 - val_accuracy: 0.7223\n",
      "Epoch 47/1000\n",
      "1718/1718 [==============================] - 31s 18ms/step - loss: 0.0530 - accuracy: 0.9811 - val_loss: 1.3176 - val_accuracy: 0.7362\n",
      "Epoch 48/1000\n",
      "1718/1718 [==============================] - 31s 18ms/step - loss: 0.0518 - accuracy: 0.9804 - val_loss: 1.3712 - val_accuracy: 0.7334\n",
      "Epoch 49/1000\n",
      "1718/1718 [==============================] - 30s 18ms/step - loss: 0.0499 - accuracy: 0.9817 - val_loss: 1.4419 - val_accuracy: 0.7300\n",
      "Epoch 50/1000\n",
      "1718/1718 [==============================] - 38s 22ms/step - loss: 0.0492 - accuracy: 0.9820 - val_loss: 1.2338 - val_accuracy: 0.7279\n",
      "Epoch 51/1000\n",
      "1718/1718 [==============================] - 35s 20ms/step - loss: 0.0459 - accuracy: 0.9833 - val_loss: 1.4062 - val_accuracy: 0.7304\n",
      "Epoch 52/1000\n",
      "1718/1718 [==============================] - 39s 23ms/step - loss: 0.0505 - accuracy: 0.9815 - val_loss: 1.2774 - val_accuracy: 0.7312\n",
      "Epoch 53/1000\n",
      "1718/1718 [==============================] - 35s 20ms/step - loss: 0.0438 - accuracy: 0.9840 - val_loss: 1.6625 - val_accuracy: 0.7339\n",
      "Epoch 54/1000\n",
      "1718/1718 [==============================] - 35s 20ms/step - loss: 0.0469 - accuracy: 0.9837 - val_loss: 1.3090 - val_accuracy: 0.7300\n",
      "Epoch 55/1000\n",
      "1718/1718 [==============================] - 34s 20ms/step - loss: 0.0438 - accuracy: 0.9843 - val_loss: 1.4212 - val_accuracy: 0.7362\n",
      "Epoch 56/1000\n"
     ]
    },
    {
     "name": "stdout",
     "output_type": "stream",
     "text": [
      "1718/1718 [==============================] - 35s 20ms/step - loss: 0.0470 - accuracy: 0.9830 - val_loss: 1.3122 - val_accuracy: 0.7354\n",
      "Epoch 57/1000\n",
      "1718/1718 [==============================] - 34s 20ms/step - loss: 0.0422 - accuracy: 0.9849 - val_loss: 1.6597 - val_accuracy: 0.7324\n",
      "Epoch 57: early stopping\n"
     ]
    }
   ],
   "source": [
    "history = model.fit(X, y, validation_data=(Xv, yv), epochs=1000, batch_size=16, callbacks=[es])"
   ]
  },
  {
   "cell_type": "code",
   "execution_count": 16,
   "id": "1e74d50e",
   "metadata": {},
   "outputs": [
    {
     "name": "stdout",
     "output_type": "stream",
     "text": [
      "dict_keys(['loss', 'accuracy', 'val_loss', 'val_accuracy'])\n"
     ]
    }
   ],
   "source": [
    "history_dict = history.history\n",
    "print(history_dict.keys())"
   ]
  },
  {
   "cell_type": "code",
   "execution_count": 17,
   "id": "163d6031",
   "metadata": {},
   "outputs": [
    {
     "name": "stdout",
     "output_type": "stream",
     "text": [
      "Train: 0.996, Test: 0.747\n"
     ]
    }
   ],
   "source": [
    "saved_model = model\n",
    "# evaluate the model\n",
    "_, train_acc = saved_model.evaluate(X, y, verbose=0)\n",
    "_, test_acc = saved_model.evaluate(Xt, yt, verbose=0)\n",
    "\n",
    "print('Train: %.3f, Test: %.3f' % (train_acc, test_acc))"
   ]
  },
  {
   "cell_type": "code",
   "execution_count": 19,
   "id": "6e6e59a5",
   "metadata": {},
   "outputs": [],
   "source": [
    "lst = [train_acc, test_acc]\n",
    "df = pd.DataFrame(lst, index =['train_acc', 'test_acc'])\n",
    "df.to_csv(fn +'best_model_legal_att_results.csv')"
   ]
  },
  {
   "cell_type": "code",
   "execution_count": 20,
   "id": "e60b70e8",
   "metadata": {},
   "outputs": [
    {
     "data": {
      "image/png": "[encoded data removed]",
      "text/plain": [
       "<Figure size 432x288 with 1 Axes>"
      ]
     },
     "metadata": {
      "needs_background": "light"
     },
     "output_type": "display_data"
    }
   ],
   "source": [
    "# plot history\n",
    "pyplot.plot(history.history['accuracy'], label='train')\n",
    "pyplot.plot(history.history['val_accuracy'], label='test')\n",
    "pyplot.legend()\n",
    "pyplot.savefig(fn + 'best_model_legal_att_acc.png', bbox_inches='tight')\n",
    "pyplot.show()\n"
   ]
  },
  {
   "cell_type": "code",
   "execution_count": 21,
   "id": "9192afc2",
   "metadata": {},
   "outputs": [
    {
     "data": {
      "image/png": "[encoded data removed]",
      "text/plain": [
       "<Figure size 432x288 with 1 Axes>"
      ]
     },
     "metadata": {
      "needs_background": "light"
     },
     "output_type": "display_data"
    }
   ],
   "source": [
    "plt.title('Loss')\n",
    "plt.plot(history.history['loss'], label='train')\n",
    "plt.plot(history.history['val_loss'], label='test')\n",
    "pyplot.savefig(fn + 'best_model_legal_att_loss.png', bbox_inches='tight')\n",
    "plt.legend()\n",
    "plt.show();"
   ]
  },
  {
   "cell_type": "code",
   "execution_count": 18,
   "id": "d31418f5",
   "metadata": {},
   "outputs": [
    {
     "name": "stderr",
     "output_type": "stream",
     "text": [
      "c:\\users\\amanj\\appdata\\local\\programs\\python\\python37\\lib\\site-packages\\sklearn\\metrics\\_classification.py:1318: UndefinedMetricWarning: Precision and F-score are ill-defined and being set to 0.0 in labels with no predicted samples. Use `zero_division` parameter to control this behavior.\n",
      "  _warn_prf(average, modifier, msg_start, len(result))\n",
      "c:\\users\\amanj\\appdata\\local\\programs\\python\\python37\\lib\\site-packages\\sklearn\\metrics\\_classification.py:1318: UndefinedMetricWarning: Precision and F-score are ill-defined and being set to 0.0 in labels with no predicted samples. Use `zero_division` parameter to control this behavior.\n",
      "  _warn_prf(average, modifier, msg_start, len(result))\n",
      "c:\\users\\amanj\\appdata\\local\\programs\\python\\python37\\lib\\site-packages\\sklearn\\metrics\\_classification.py:1318: UndefinedMetricWarning: Precision and F-score are ill-defined and being set to 0.0 in labels with no predicted samples. Use `zero_division` parameter to control this behavior.\n",
      "  _warn_prf(average, modifier, msg_start, len(result))\n"
     ]
    },
    {
     "ename": "NameError",
     "evalue": "name 'filename' is not defined",
     "output_type": "error",
     "traceback": [
      "\u001b[1;31m---------------------------------------------------------------------------\u001b[0m",
      "\u001b[1;31mNameError\u001b[0m                                 Traceback (most recent call last)",
      "\u001b[1;32m~\\AppData\\Local\\Temp\\ipykernel_6636\\2604630131.py\u001b[0m in \u001b[0;36m<module>\u001b[1;34m\u001b[0m\n\u001b[0;32m      6\u001b[0m \u001b[0mlst\u001b[0m \u001b[1;33m=\u001b[0m \u001b[1;33m[\u001b[0m\u001b[0mformat\u001b[0m\u001b[1;33m(\u001b[0m\u001b[0mtrainReport\u001b[0m\u001b[1;33m[\u001b[0m\u001b[1;34m'macro avg'\u001b[0m\u001b[1;33m]\u001b[0m\u001b[1;33m[\u001b[0m\u001b[1;34m'precision'\u001b[0m\u001b[1;33m]\u001b[0m\u001b[1;33m,\u001b[0m \u001b[1;34m'.2f'\u001b[0m\u001b[1;33m)\u001b[0m\u001b[1;33m,\u001b[0m \u001b[0mformat\u001b[0m\u001b[1;33m(\u001b[0m\u001b[0mtrainReport\u001b[0m\u001b[1;33m[\u001b[0m\u001b[1;34m'macro avg'\u001b[0m\u001b[1;33m]\u001b[0m\u001b[1;33m[\u001b[0m\u001b[1;34m'recall'\u001b[0m\u001b[1;33m]\u001b[0m\u001b[1;33m,\u001b[0m \u001b[1;34m'.2f'\u001b[0m\u001b[1;33m)\u001b[0m\u001b[1;33m,\u001b[0m \u001b[0mformat\u001b[0m\u001b[1;33m(\u001b[0m\u001b[0mtrainReport\u001b[0m\u001b[1;33m[\u001b[0m\u001b[1;34m'macro avg'\u001b[0m\u001b[1;33m]\u001b[0m\u001b[1;33m[\u001b[0m\u001b[1;34m'f1-score'\u001b[0m\u001b[1;33m]\u001b[0m\u001b[1;33m,\u001b[0m \u001b[1;34m'.2f'\u001b[0m\u001b[1;33m)\u001b[0m\u001b[1;33m]\u001b[0m\u001b[1;33m\u001b[0m\u001b[1;33m\u001b[0m\u001b[0m\n\u001b[0;32m      7\u001b[0m \u001b[0mdf\u001b[0m \u001b[1;33m=\u001b[0m \u001b[0mpd\u001b[0m\u001b[1;33m.\u001b[0m\u001b[0mDataFrame\u001b[0m\u001b[1;33m(\u001b[0m\u001b[0mlst\u001b[0m\u001b[1;33m,\u001b[0m \u001b[0mindex\u001b[0m \u001b[1;33m=\u001b[0m\u001b[1;33m[\u001b[0m\u001b[1;34m'precision'\u001b[0m\u001b[1;33m,\u001b[0m \u001b[1;34m'recall'\u001b[0m\u001b[1;33m,\u001b[0m \u001b[1;34m'f1Score'\u001b[0m\u001b[1;33m]\u001b[0m\u001b[1;33m)\u001b[0m\u001b[1;33m\u001b[0m\u001b[1;33m\u001b[0m\u001b[0m\n\u001b[1;32m----> 8\u001b[1;33m \u001b[0mdf\u001b[0m\u001b[1;33m.\u001b[0m\u001b[0mto_csv\u001b[0m\u001b[1;33m(\u001b[0m\u001b[0mfilename\u001b[0m \u001b[1;33m+\u001b[0m\u001b[1;34m'_att_legal_prec_recal_flsc_results.csv'\u001b[0m\u001b[1;33m)\u001b[0m\u001b[1;33m\u001b[0m\u001b[1;33m\u001b[0m\u001b[0m\n\u001b[0m\u001b[0;32m      9\u001b[0m \u001b[0mprint\u001b[0m\u001b[1;33m(\u001b[0m\u001b[0mlst\u001b[0m\u001b[1;33m)\u001b[0m\u001b[1;33m\u001b[0m\u001b[1;33m\u001b[0m\u001b[0m\n",
      "\u001b[1;31mNameError\u001b[0m: name 'filename' is not defined"
     ]
    }
   ],
   "source": [
    "from sklearn.metrics import classification_report\n",
    "predictions = saved_model.predict(Xt)\n",
    "y_pred = np.argmax(predictions,axis=1)\n",
    "trainReport = classification_report(yt, y_pred, output_dict=True)\n",
    "\n",
    "lst = [format(trainReport['macro avg']['precision'], '.2f'), format(trainReport['macro avg']['recall'], '.2f'), format(trainReport['macro avg']['f1-score'], '.2f')]\n",
    "df = pd.DataFrame(lst, index =['precision', 'recall', 'f1Score'])\n",
    "df.to_csv(filename +'_att_legal_prec_recal_flsc_results.csv')\n",
    "print(lst)"
   ]
  },
  {
   "cell_type": "code",
   "execution_count": null,
   "id": "9d79dfce",
   "metadata": {},
   "outputs": [],
   "source": [
    "yt"
   ]
  },
  {
   "cell_type": "code",
   "execution_count": 19,
   "id": "cd6955bd",
   "metadata": {},
   "outputs": [
    {
     "name": "stdout",
     "output_type": "stream",
     "text": [
      "['0.28', '0.50', '0.36']\n"
     ]
    }
   ],
   "source": [
    "print(lst)"
   ]
  },
  {
   "cell_type": "code",
   "execution_count": 20,
   "id": "4b3f4d25",
   "metadata": {},
   "outputs": [
    {
     "name": "stdout",
     "output_type": "stream",
     "text": [
      "[[0]\n",
      " [0]\n",
      " [1]\n",
      " ...\n",
      " [1]\n",
      " [0]\n",
      " [0]]\n"
     ]
    }
   ],
   "source": [
    "yp = (saved_model.predict(Xt) > 0.5).astype('int32') \n",
    "\n",
    "print(yp)"
   ]
  },
  {
   "cell_type": "code",
   "execution_count": 21,
   "id": "32110448",
   "metadata": {},
   "outputs": [],
   "source": [
    "from sklearn.metrics import confusion_matrix"
   ]
  },
  {
   "cell_type": "code",
   "execution_count": 22,
   "id": "e06207a7",
   "metadata": {},
   "outputs": [
    {
     "name": "stdout",
     "output_type": "stream",
     "text": [
      "      1     0\n",
      "1  1455   576\n",
      "0   614  2066\n"
     ]
    }
   ],
   "source": [
    "matrix = confusion_matrix(yt,yp, labels=[1,0])\n",
    "cm = pd.DataFrame(matrix, index=['1','0'],columns=['1','0'])\n",
    "print(cm)"
   ]
  },
  {
   "cell_type": "code",
   "execution_count": 23,
   "id": "a28884ff",
   "metadata": {},
   "outputs": [
    {
     "name": "stdout",
     "output_type": "stream",
     "text": [
      "Test Accuracy Score: 0.747\n",
      "Test Recall Score: 0.716\n",
      "Test Precision Score: 0.703\n",
      "Test F1 Score: 0.710\n"
     ]
    }
   ],
   "source": [
    "from sklearn.metrics import accuracy_score\n",
    "print(\"Test Accuracy Score: %.3f\" %(accuracy_score(yt,yp)))\n",
    "\n",
    "from sklearn.metrics import recall_score\n",
    "print(\"Test Recall Score: %.3f\" %(recall_score(yt,yp)))\n",
    "\n",
    "from sklearn.metrics import precision_score\n",
    "print(\"Test Precision Score: %.3f\" %(precision_score(yt,yp)))\n",
    "\n",
    "from sklearn.metrics import f1_score\n",
    "print(\"Test F1 Score: %.3f\" %(f1_score(yt,yp)))\n",
    "\n",
    "\n",
    "# In[58]:\n",
    "\n",
    "\n",
    "#lst = [train_acc, valid_acc]\n",
    "#df = pd.DataFrame(lst, index =['train_acc', 'valid_acc'])\n",
    "#df.to_csv(filename +'_results.csv')"
   ]
  },
  {
   "cell_type": "code",
   "execution_count": null,
   "id": "8d921c75",
   "metadata": {},
   "outputs": [],
   "source": []
  }
 ],
 "metadata": {
  "kernelspec": {
   "display_name": "Python 3 (ipykernel)",
   "language": "python",
   "name": "python3"
  },
  "language_info": {
   "codemirror_mode": {
    "name": "ipython",
    "version": 3
   },
   "file_extension": ".py",
   "mimetype": "text/x-python",
   "name": "python",
   "nbconvert_exporter": "python",
   "pygments_lexer": "ipython3",
   "version": "3.7.9"
  }
 },
 "nbformat": 4,
 "nbformat_minor": 5
}
