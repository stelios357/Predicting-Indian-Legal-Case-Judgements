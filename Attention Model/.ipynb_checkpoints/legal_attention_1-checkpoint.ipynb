{
 "cells": [
  {
   "cell_type": "code",
   "execution_count": 40,
   "id": "236bad41",
   "metadata": {},
   "outputs": [],
   "source": [
    "import numpy as np\n",
    "from keras.preprocessing import sequence\n",
    "from keras.models import Sequential\n",
    "from keras.layers import Dense, Dropout, Embedding, LSTM, Bidirectional\n",
    "import pandas as pd\n",
    "from sklearn.model_selection import train_test_split\n",
    "from keras.layers import *\n",
    "from keras.models import *\n",
    "from keras import backend as K\n",
    "import pandas as pd\n",
    "import numpy as np\n",
    "from tensorflow import keras\n",
    "from keras import layers\n",
    "from sklearn.model_selection import train_test_split\n",
    "from keras.callbacks import EarlyStopping\n",
    "from keras.callbacks import ModelCheckpoint\n",
    "from matplotlib import pyplot\n",
    "from keras.models import load_model\n",
    "from keras.models import Sequential\n",
    "from keras.layers import Dense\n",
    "from keras.layers import Dropout\n",
    "from keras.layers import LSTM\n",
    "from keras.utils import np_utils\n",
    "import numpy as np\n",
    "from keras.preprocessing import sequence\n",
    "from keras.models import Sequential\n",
    "from keras.layers import Dense, Dropout, Embedding, LSTM, Bidirectional\n",
    "from keras.datasets import imdb \n",
    "from matplotlib import pyplot as plt"
   ]
  },
  {
   "cell_type": "code",
   "execution_count": 15,
   "id": "337cbc07",
   "metadata": {},
   "outputs": [],
   "source": [
    "class attention(Layer):\n",
    "    \n",
    "    def __init__(self, return_sequences=True):\n",
    "        self.return_sequences = return_sequences\n",
    "        super(attention,self).__init__()\n",
    "        \n",
    "    def build(self, input_shape):\n",
    "        \n",
    "        self.W=self.add_weight(name=\"att_weight\", shape=(input_shape[-1],1),\n",
    "                               initializer=\"normal\")\n",
    "        self.b=self.add_weight(name=\"att_bias\", shape=(input_shape[1],1),\n",
    "                               initializer=\"zeros\")\n",
    "        \n",
    "        super(attention,self).build(input_shape)\n",
    "        \n",
    "    def call(self, x):\n",
    "        \n",
    "        e = K.tanh(K.dot(x,self.W)+self.b)\n",
    "        a = K.softmax(e, axis=1)\n",
    "        output = x*a\n",
    "        \n",
    "        if self.return_sequences:\n",
    "            return output\n",
    "        \n",
    "        return K.sum(output, axis=1)"
   ]
  },
  {
   "cell_type": "code",
   "execution_count": 3,
   "id": "edb98628",
   "metadata": {},
   "outputs": [],
   "source": [
    "fn = 'reshape_legalbert_2560'"
   ]
  },
  {
   "cell_type": "code",
   "execution_count": 5,
   "id": "6fa01dbc",
   "metadata": {},
   "outputs": [],
   "source": [
    "df = pd.read_csv(r'../Data/BERT2560/Combined/'+ fn +'.csv')"
   ]
  },
  {
   "cell_type": "code",
   "execution_count": 6,
   "id": "1abe37f7",
   "metadata": {},
   "outputs": [
    {
     "data": {
      "text/html": [
       "<div>\n",
       "<style scoped>\n",
       "    .dataframe tbody tr th:only-of-type {\n",
       "        vertical-align: middle;\n",
       "    }\n",
       "\n",
       "    .dataframe tbody tr th {\n",
       "        vertical-align: top;\n",
       "    }\n",
       "\n",
       "    .dataframe thead th {\n",
       "        text-align: right;\n",
       "    }\n",
       "</style>\n",
       "<table border=\"1\" class=\"dataframe\">\n",
       "  <thead>\n",
       "    <tr style=\"text-align: right;\">\n",
       "      <th></th>\n",
       "      <th>0</th>\n",
       "      <th>1</th>\n",
       "      <th>2</th>\n",
       "      <th>3</th>\n",
       "      <th>4</th>\n",
       "      <th>5</th>\n",
       "      <th>6</th>\n",
       "      <th>7</th>\n",
       "      <th>8</th>\n",
       "      <th>9</th>\n",
       "      <th>...</th>\n",
       "      <th>3832</th>\n",
       "      <th>3833</th>\n",
       "      <th>3834</th>\n",
       "      <th>3835</th>\n",
       "      <th>3836</th>\n",
       "      <th>3837</th>\n",
       "      <th>3838</th>\n",
       "      <th>3839</th>\n",
       "      <th>label</th>\n",
       "      <th>uid</th>\n",
       "    </tr>\n",
       "  </thead>\n",
       "  <tbody>\n",
       "    <tr>\n",
       "      <th>0</th>\n",
       "      <td>0.694659</td>\n",
       "      <td>0.221663</td>\n",
       "      <td>-0.120176</td>\n",
       "      <td>-0.507601</td>\n",
       "      <td>-0.375668</td>\n",
       "      <td>-0.063067</td>\n",
       "      <td>0.446123</td>\n",
       "      <td>0.403159</td>\n",
       "      <td>0.444961</td>\n",
       "      <td>-0.286873</td>\n",
       "      <td>...</td>\n",
       "      <td>-0.030328</td>\n",
       "      <td>-0.088512</td>\n",
       "      <td>-0.196515</td>\n",
       "      <td>-0.206127</td>\n",
       "      <td>-0.403472</td>\n",
       "      <td>0.285773</td>\n",
       "      <td>0.207637</td>\n",
       "      <td>0.008742</td>\n",
       "      <td>1.0</td>\n",
       "      <td>0</td>\n",
       "    </tr>\n",
       "    <tr>\n",
       "      <th>1</th>\n",
       "      <td>0.474627</td>\n",
       "      <td>0.033612</td>\n",
       "      <td>-0.224607</td>\n",
       "      <td>-0.129596</td>\n",
       "      <td>0.190784</td>\n",
       "      <td>-0.067255</td>\n",
       "      <td>0.099426</td>\n",
       "      <td>0.185787</td>\n",
       "      <td>0.066976</td>\n",
       "      <td>-0.304500</td>\n",
       "      <td>...</td>\n",
       "      <td>-0.266607</td>\n",
       "      <td>0.030819</td>\n",
       "      <td>-0.283876</td>\n",
       "      <td>-0.228557</td>\n",
       "      <td>-0.451705</td>\n",
       "      <td>0.222950</td>\n",
       "      <td>0.290525</td>\n",
       "      <td>-0.277717</td>\n",
       "      <td>0.0</td>\n",
       "      <td>1</td>\n",
       "    </tr>\n",
       "    <tr>\n",
       "      <th>2</th>\n",
       "      <td>0.718219</td>\n",
       "      <td>0.231723</td>\n",
       "      <td>-0.229592</td>\n",
       "      <td>-0.399477</td>\n",
       "      <td>0.004204</td>\n",
       "      <td>0.044448</td>\n",
       "      <td>0.488153</td>\n",
       "      <td>0.180377</td>\n",
       "      <td>0.006841</td>\n",
       "      <td>-0.205156</td>\n",
       "      <td>...</td>\n",
       "      <td>-0.212385</td>\n",
       "      <td>0.024296</td>\n",
       "      <td>-0.006466</td>\n",
       "      <td>0.217261</td>\n",
       "      <td>-0.614147</td>\n",
       "      <td>0.215603</td>\n",
       "      <td>0.263279</td>\n",
       "      <td>0.059186</td>\n",
       "      <td>1.0</td>\n",
       "      <td>2</td>\n",
       "    </tr>\n",
       "    <tr>\n",
       "      <th>3</th>\n",
       "      <td>0.541950</td>\n",
       "      <td>0.024961</td>\n",
       "      <td>0.042744</td>\n",
       "      <td>-0.239540</td>\n",
       "      <td>0.074589</td>\n",
       "      <td>0.082739</td>\n",
       "      <td>0.071403</td>\n",
       "      <td>0.509075</td>\n",
       "      <td>0.116463</td>\n",
       "      <td>-0.350714</td>\n",
       "      <td>...</td>\n",
       "      <td>0.019233</td>\n",
       "      <td>0.172554</td>\n",
       "      <td>-0.125242</td>\n",
       "      <td>-0.011911</td>\n",
       "      <td>-0.594645</td>\n",
       "      <td>0.064373</td>\n",
       "      <td>0.439116</td>\n",
       "      <td>-0.035912</td>\n",
       "      <td>1.0</td>\n",
       "      <td>3</td>\n",
       "    </tr>\n",
       "    <tr>\n",
       "      <th>4</th>\n",
       "      <td>0.296363</td>\n",
       "      <td>0.339710</td>\n",
       "      <td>-0.282621</td>\n",
       "      <td>-0.219809</td>\n",
       "      <td>-0.252511</td>\n",
       "      <td>0.159772</td>\n",
       "      <td>0.323904</td>\n",
       "      <td>0.222704</td>\n",
       "      <td>-0.185598</td>\n",
       "      <td>-0.071593</td>\n",
       "      <td>...</td>\n",
       "      <td>-0.113264</td>\n",
       "      <td>0.028536</td>\n",
       "      <td>-0.195957</td>\n",
       "      <td>-0.326832</td>\n",
       "      <td>-0.274095</td>\n",
       "      <td>0.323985</td>\n",
       "      <td>0.272582</td>\n",
       "      <td>-0.084046</td>\n",
       "      <td>1.0</td>\n",
       "      <td>4</td>\n",
       "    </tr>\n",
       "  </tbody>\n",
       "</table>\n",
       "<p>5 rows × 3842 columns</p>\n",
       "</div>"
      ],
      "text/plain": [
       "          0         1         2         3         4         5         6  \\\n",
       "0  0.694659  0.221663 -0.120176 -0.507601 -0.375668 -0.063067  0.446123   \n",
       "1  0.474627  0.033612 -0.224607 -0.129596  0.190784 -0.067255  0.099426   \n",
       "2  0.718219  0.231723 -0.229592 -0.399477  0.004204  0.044448  0.488153   \n",
       "3  0.541950  0.024961  0.042744 -0.239540  0.074589  0.082739  0.071403   \n",
       "4  0.296363  0.339710 -0.282621 -0.219809 -0.252511  0.159772  0.323904   \n",
       "\n",
       "          7         8         9  ...      3832      3833      3834      3835  \\\n",
       "0  0.403159  0.444961 -0.286873  ... -0.030328 -0.088512 -0.196515 -0.206127   \n",
       "1  0.185787  0.066976 -0.304500  ... -0.266607  0.030819 -0.283876 -0.228557   \n",
       "2  0.180377  0.006841 -0.205156  ... -0.212385  0.024296 -0.006466  0.217261   \n",
       "3  0.509075  0.116463 -0.350714  ...  0.019233  0.172554 -0.125242 -0.011911   \n",
       "4  0.222704 -0.185598 -0.071593  ... -0.113264  0.028536 -0.195957 -0.326832   \n",
       "\n",
       "       3836      3837      3838      3839  label  uid  \n",
       "0 -0.403472  0.285773  0.207637  0.008742    1.0    0  \n",
       "1 -0.451705  0.222950  0.290525 -0.277717    0.0    1  \n",
       "2 -0.614147  0.215603  0.263279  0.059186    1.0    2  \n",
       "3 -0.594645  0.064373  0.439116 -0.035912    1.0    3  \n",
       "4 -0.274095  0.323985  0.272582 -0.084046    1.0    4  \n",
       "\n",
       "[5 rows x 3842 columns]"
      ]
     },
     "execution_count": 6,
     "metadata": {},
     "output_type": "execute_result"
    }
   ],
   "source": [
    "df.head()"
   ]
  },
  {
   "cell_type": "code",
   "execution_count": 7,
   "id": "d1e3ef3f",
   "metadata": {},
   "outputs": [],
   "source": [
    "label = df['label']\n",
    "df = df.drop(['uid', 'label'], axis = 1)"
   ]
  },
  {
   "cell_type": "code",
   "execution_count": 18,
   "id": "64352556",
   "metadata": {},
   "outputs": [],
   "source": [
    "features = df"
   ]
  },
  {
   "cell_type": "code",
   "execution_count": 20,
   "id": "958d55d5",
   "metadata": {},
   "outputs": [],
   "source": [
    "del df"
   ]
  },
  {
   "cell_type": "code",
   "execution_count": 21,
   "id": "044ae5b5",
   "metadata": {},
   "outputs": [],
   "source": [
    "features = features.to_numpy()\n",
    "features = features.reshape(39256, 5, 768)"
   ]
  },
  {
   "cell_type": "code",
   "execution_count": 22,
   "id": "b5ccad36",
   "metadata": {},
   "outputs": [
    {
     "name": "stdout",
     "output_type": "stream",
     "text": [
      "(27479, 5, 768) (27479,) (11777, 5, 768) (11777,)\n",
      "(7066, 5, 768) (4711, 5, 768) (7066,) (4711,)\n"
     ]
    }
   ],
   "source": [
    "X, a, y, b = train_test_split(features, label, random_state=42, stratify=label, test_size=0.3)\n",
    "print(X.shape, y.shape, a.shape, b.shape)\n",
    "\n",
    "Xv, Xt, yv, yt = train_test_split(a, b, random_state=42, stratify=b, test_size=0.4)\n",
    "print(Xv.shape, Xt.shape, yv.shape, yt.shape)"
   ]
  },
  {
   "cell_type": "code",
   "execution_count": 32,
   "id": "64152bca",
   "metadata": {},
   "outputs": [],
   "source": [
    "model = Sequential()\n",
    "model.add(Bidirectional(LSTM(100, input_shape=(features.shape[1], features.shape[2]), return_sequences=True))) #bidirectional lstm\n",
    "model.add(attention(return_sequences=True)) # receive 3D and output 2D\n",
    "model.add(Dropout(0.25))\n",
    "model.add(Bidirectional(LSTM(50, return_sequences=True)))\n",
    "model.add(Dropout(0.2))\n",
    "model.add(Bidirectional(LSTM(20)))\n",
    "model.add(Dropout(0.1))\n",
    "model.add(Dense(1, activation='sigmoid'))"
   ]
  },
  {
   "cell_type": "code",
   "execution_count": 33,
   "id": "a146e202",
   "metadata": {},
   "outputs": [],
   "source": [
    "model.compile(optimizer='adam', loss=keras.losses.BinaryCrossentropy(), metrics=['accuracy'])"
   ]
  },
  {
   "cell_type": "code",
   "execution_count": 34,
   "id": "93fc2158",
   "metadata": {},
   "outputs": [],
   "source": [
    "es = EarlyStopping(monitor='val_loss', mode='min', verbose=1000, patience=50)\n",
    "#mc = ModelCheckpoint('best_model_legal_att' + fn + '_.h5', monitor='val_accuracy', mode='max', verbose=1, save_best_only=True)"
   ]
  },
  {
   "cell_type": "code",
   "execution_count": 37,
   "id": "1234c2c2",
   "metadata": {},
   "outputs": [
    {
     "name": "stdout",
     "output_type": "stream",
     "text": [
      "1718/1718 [==============================] - 20s 11ms/step - loss: 0.5428 - accuracy: 0.7178 - val_loss: 0.5748 - val_accuracy: 0.7035\n"
     ]
    }
   ],
   "source": [
    "history = model.fit(X, y, validation_data=(Xv, yv), epochs=1, batch_size=16, callbacks=[es])"
   ]
  },
  {
   "cell_type": "code",
   "execution_count": 38,
   "id": "1e74d50e",
   "metadata": {},
   "outputs": [
    {
     "name": "stdout",
     "output_type": "stream",
     "text": [
      "dict_keys(['loss', 'accuracy', 'val_loss', 'val_accuracy'])\n"
     ]
    }
   ],
   "source": [
    "history_dict = history.history\n",
    "print(history_dict.keys())"
   ]
  },
  {
   "cell_type": "code",
   "execution_count": 39,
   "id": "163d6031",
   "metadata": {},
   "outputs": [
    {
     "name": "stdout",
     "output_type": "stream",
     "text": [
      "Train: 0.734, Test: 0.712\n"
     ]
    }
   ],
   "source": [
    "saved_model = model\n",
    "# evaluate the model\n",
    "_, train_acc = saved_model.evaluate(X, y, verbose=0)\n",
    "_, test_acc = saved_model.evaluate(Xt, yt, verbose=0)\n",
    "\n",
    "print('Train: %.3f, Test: %.3f' % (train_acc, test_acc))"
   ]
  },
  {
   "cell_type": "code",
   "execution_count": 42,
   "id": "6e6e59a5",
   "metadata": {},
   "outputs": [],
   "source": [
    "lst = [train_acc, test_acc]\n",
    "df = pd.DataFrame(lst, index =['train_acc', 'test_acc'])\n",
    "df.to_csv(fn +'best_model_legal_att_results.csv')"
   ]
  },
  {
   "cell_type": "code",
   "execution_count": 44,
   "id": "e60b70e8",
   "metadata": {},
   "outputs": [
    {
     "data": {
      "image/png": "[encoded data removed]",
      "text/plain": [
       "<Figure size 432x288 with 1 Axes>"
      ]
     },
     "metadata": {
      "needs_background": "light"
     },
     "output_type": "display_data"
    }
   ],
   "source": [
    "# plot history\n",
    "pyplot.plot(history.history['accuracy'], label='train')\n",
    "pyplot.plot(history.history['val_accuracy'], label='test')\n",
    "pyplot.legend()\n",
    "pyplot.savefig(fn + 'best_model_legal_att_acc.png', bbox_inches='tight')\n",
    "pyplot.show()\n"
   ]
  },
  {
   "cell_type": "code",
   "execution_count": 46,
   "id": "9192afc2",
   "metadata": {},
   "outputs": [
    {
     "data": {
      "image/png": "[encoded data removed]",
      "text/plain": [
       "<Figure size 432x288 with 1 Axes>"
      ]
     },
     "metadata": {
      "needs_background": "light"
     },
     "output_type": "display_data"
    }
   ],
   "source": [
    "plt.title('Loss')\n",
    "plt.plot(history.history['loss'], label='train')\n",
    "plt.plot(history.history['val_loss'], label='test')\n",
    "pyplot.savefig(fn + 'best_model_legal_att_loss.png', bbox_inches='tight')\n",
    "plt.legend()\n",
    "plt.show();"
   ]
  },
  {
   "cell_type": "code",
   "execution_count": null,
   "id": "d31418f5",
   "metadata": {},
   "outputs": [],
   "source": []
  }
 ],
 "metadata": {
  "kernelspec": {
   "display_name": "Python 3 (ipykernel)",
   "language": "python",
   "name": "python3"
  },
  "language_info": {
   "codemirror_mode": {
    "name": "ipython",
    "version": 3
   },
   "file_extension": ".py",
   "mimetype": "text/x-python",
   "name": "python",
   "nbconvert_exporter": "python",
   "pygments_lexer": "ipython3",
   "version": "3.7.9"
  }
 },
 "nbformat": 4,
 "nbformat_minor": 5
}
