{
 "cells": [
  {
   "cell_type": "markdown",
   "id": "fwojLHeUGpS3",
   "metadata": {
    "id": "fwojLHeUGpS3"
   },
   "source": [
    "# Code"
   ]
  },
  {
   "cell_type": "code",
   "execution_count": 1,
   "id": "da85070b",
   "metadata": {
    "ExecuteTime": {
     "end_time": "2021-12-03T19:48:49.374640Z",
     "start_time": "2021-12-03T19:48:45.785160Z"
    },
    "id": "da85070b"
   },
   "outputs": [],
   "source": [
    "import pandas as pd\n",
    "import numpy as np\n",
    "from tensorflow import keras\n",
    "from keras import layers\n",
    "from sklearn.model_selection import train_test_split\n",
    "from keras.callbacks import EarlyStopping\n",
    "from keras.callbacks import ModelCheckpoint\n",
    "from matplotlib import pyplot\n",
    "from keras.models import load_model\n",
    "from keras.models import Sequential\n",
    "from keras.layers import Dense\n",
    "from keras.layers import Dropout\n",
    "from keras.layers import LSTM\n",
    "from keras.utils import np_utils\n",
    "import numpy as np\n",
    "from keras.preprocessing import sequence\n",
    "from keras.models import Sequential\n",
    "from keras.layers import Dense, Dropout, Embedding, LSTM, Bidirectional\n",
    "from keras.datasets import imdb "
   ]
  },
  {
   "cell_type": "code",
   "execution_count": 2,
   "id": "72773790",
   "metadata": {
    "id": "72773790"
   },
   "outputs": [],
   "source": [
    "filename = '../Data/BERT2560/Combined/reshape_legalbert_2560.csv'"
   ]
  },
  {
   "cell_type": "code",
   "execution_count": 3,
   "id": "a94793ad",
   "metadata": {
    "ExecuteTime": {
     "end_time": "2021-12-03T19:51:23.396609Z",
     "start_time": "2021-12-03T19:51:19.205230Z"
    },
    "id": "a94793ad"
   },
   "outputs": [],
   "source": [
    "data = pd.read_csv(filename)"
   ]
  },
  {
   "cell_type": "code",
   "execution_count": 4,
   "id": "91911a5e",
   "metadata": {
    "id": "91911a5e"
   },
   "outputs": [],
   "source": [
    "filename = filename[:filename.index('.')]"
   ]
  },
  {
   "cell_type": "code",
   "execution_count": 5,
   "id": "fybg0x1waaz8",
   "metadata": {
    "id": "fybg0x1waaz8"
   },
   "outputs": [],
   "source": [
    "# data = data[:2000]\n",
    "label = data['label']\n",
    "features = data.drop(['uid', 'label'], axis=1)"
   ]
  },
  {
   "cell_type": "code",
   "execution_count": 6,
   "id": "57c1b664",
   "metadata": {},
   "outputs": [],
   "source": [
    "del data"
   ]
  },
  {
   "cell_type": "code",
   "execution_count": 7,
   "id": "62e91c71",
   "metadata": {},
   "outputs": [],
   "source": [
    "features = features.to_numpy()\n",
    "features = features.reshape(39256, 5, 768)"
   ]
  },
  {
   "cell_type": "code",
   "execution_count": 8,
   "id": "2a6b8577",
   "metadata": {
    "colab": {
     "base_uri": "https://localhost:8080/"
    },
    "id": "2a6b8577",
    "outputId": "37eaa80f-6f1c-44e8-f753-c30b1e0fc6a3"
   },
   "outputs": [
    {
     "name": "stdout",
     "output_type": "stream",
     "text": [
      "(27479, 5, 768) (27479,) (11777, 5, 768) (11777,)\n",
      "(7066, 5, 768) (4711, 5, 768) (7066,) (4711,)\n"
     ]
    }
   ],
   "source": [
    "X, a, y, b = train_test_split(features, label, random_state=42, stratify=label, test_size=0.3)\n",
    "print(X.shape, y.shape, a.shape, b.shape)\n",
    "\n",
    "Xv, Xt, yv, yt = train_test_split(a, b, random_state=42, stratify=b, test_size=0.4)\n",
    "print(Xv.shape, Xt.shape, yv.shape, yt.shape)\n",
    "\n",
    "# Xv = X[-6000:]\n",
    "# X = X[:-6000]"
   ]
  },
  {
   "cell_type": "code",
   "execution_count": 15,
   "id": "20e46ce2",
   "metadata": {},
   "outputs": [],
   "source": [
    "# defining the LSTM model\n",
    "model = Sequential()\n",
    "model.add(Bidirectional(LSTM(100, input_shape=(features.shape[1], features.shape[2]), return_sequences=True, activation='relu'))) #bidirectional lstm\n",
    "model.add(Dropout(0.25)) #do for both bid and normal lstm \n",
    "model.add(Bidirectional(LSTM(50, return_sequences=True)))\n",
    "model.add(Dropout(0.2))\n",
    "model.add(Bidirectional(LSTM(20)))\n",
    "model.add(Dropout(0.1))\n",
    "model.add(Dense(1, activation='sigmoid'))"
   ]
  },
  {
   "cell_type": "code",
   "execution_count": 16,
   "id": "a0c6d7cf",
   "metadata": {
    "id": "a0c6d7cf"
   },
   "outputs": [],
   "source": [
    "model.compile(optimizer='adam', loss=keras.losses.BinaryCrossentropy(), metrics=['accuracy'])"
   ]
  },
  {
   "cell_type": "code",
   "execution_count": 17,
   "id": "04c62895",
   "metadata": {
    "id": "04c62895"
   },
   "outputs": [],
   "source": [
    "es = EarlyStopping(monitor='val_loss', mode='min', verbose=1, patience=20)\n",
    "mc = ModelCheckpoint('best_model_bilstm' + filename + '_.h5', monitor='val_accuracy', mode='max', verbose=1, save_best_only=True)"
   ]
  },
  {
   "cell_type": "code",
   "execution_count": 19,
   "id": "c3ceab43",
   "metadata": {
    "colab": {
     "base_uri": "https://localhost:8080/"
    },
    "id": "c3ceab43",
    "outputId": "c6dcd598-3c37-4245-e7cc-eb9bdcb00c6b"
   },
   "outputs": [
    {
     "name": "stdout",
     "output_type": "stream",
     "text": [
      "1717/1718 [============================>.] - ETA: 0s - loss: 0.5629 - accuracy: 0.7021\n",
      "Epoch 1: val_accuracy did not improve from 0.68568\n",
      "1718/1718 [==============================] - 23s 13ms/step - loss: 0.5629 - accuracy: 0.7021 - val_loss: 0.5926 - val_accuracy: 0.6752\n"
     ]
    }
   ],
   "source": [
    "history = model.fit(X, y, validation_data=(Xv, yv), epochs=1000, batch_size=16, callbacks=[es, mc])"
   ]
  },
  {
   "cell_type": "code",
   "execution_count": 20,
   "id": "47422035",
   "metadata": {
    "id": "47422035"
   },
   "outputs": [
    {
     "name": "stdout",
     "output_type": "stream",
     "text": [
      "dict_keys(['loss', 'accuracy', 'val_loss', 'val_accuracy'])\n"
     ]
    }
   ],
   "source": [
    "history_dict = history.history\n",
    "print(history_dict.keys())"
   ]
  },
  {
   "cell_type": "code",
   "execution_count": 21,
   "id": "bea375f7",
   "metadata": {
    "id": "bea375f7"
   },
   "outputs": [
    {
     "name": "stdout",
     "output_type": "stream",
     "text": [
      "Train: 0.706, Test: 0.699\n"
     ]
    }
   ],
   "source": [
    "saved_model = load_model('best_model_bilstm' + filename + '_.h5')\n",
    "# evaluate the model\n",
    "_, train_acc = saved_model.evaluate(X, y, verbose=0)\n",
    "_, test_acc = saved_model.evaluate(Xt, yt, verbose=0)\n",
    "\n",
    "print('Train: %.3f, Test: %.3f' % (train_acc, test_acc))"
   ]
  },
  {
   "cell_type": "code",
   "execution_count": 22,
   "id": "9891db7e",
   "metadata": {
    "id": "9891db7e"
   },
   "outputs": [],
   "source": [
    "lst = [train_acc, test_acc]\n",
    "df = pd.DataFrame(lst, index =['train_acc', 'test_acc'])\n",
    "df.to_csv(filename +'_bilstm_results.csv')"
   ]
  },
  {
   "cell_type": "code",
   "execution_count": 23,
   "id": "5fd23f7b",
   "metadata": {
    "id": "5fd23f7b"
   },
   "outputs": [
    {
     "data": {
      "image/png": "[encoded data removed]",
      "text/plain": [
       "<Figure size 432x288 with 1 Axes>"
      ]
     },
     "metadata": {
      "needs_background": "light"
     },
     "output_type": "display_data"
    }
   ],
   "source": [
    "# plot history\n",
    "pyplot.plot(history.history['accuracy'], label='train')\n",
    "pyplot.plot(history.history['val_accuracy'], label='test')\n",
    "pyplot.legend()\n",
    "pyplot.savefig(filename + '_bilstm_acc.png', bbox_inches='tight')\n",
    "pyplot.show()\n"
   ]
  },
  {
   "cell_type": "code",
   "execution_count": 24,
   "id": "c7643df0",
   "metadata": {},
   "outputs": [],
   "source": [
    "from matplotlib import pyplot as plt"
   ]
  },
  {
   "cell_type": "code",
   "execution_count": 26,
   "id": "830c0ff8",
   "metadata": {},
   "outputs": [
    {
     "data": {
      "image/png": "[encoded data removed]",
      "text/plain": [
       "<Figure size 432x288 with 1 Axes>"
      ]
     },
     "metadata": {
      "needs_background": "light"
     },
     "output_type": "display_data"
    }
   ],
   "source": [
    "plt.title('Loss')\n",
    "plt.plot(history.history['loss'], label='train')\n",
    "plt.plot(history.history['val_loss'], label='test')\n",
    "pyplot.savefig(filename + '_bilstm_loss.png', bbox_inches='tight')\n",
    "plt.legend()\n",
    "plt.show();"
   ]
  },
  {
   "cell_type": "code",
   "execution_count": null,
   "id": "71fff602",
   "metadata": {},
   "outputs": [],
   "source": []
  }
 ],
 "metadata": {
  "accelerator": "GPU",
  "colab": {
   "collapsed_sections": [],
   "name": "LSTM_NN 786.ipynb",
   "provenance": []
  },
  "kernelspec": {
   "display_name": "Python 3 (ipykernel)",
   "language": "python",
   "name": "python3"
  },
  "language_info": {
   "codemirror_mode": {
    "name": "ipython",
    "version": 3
   },
   "file_extension": ".py",
   "mimetype": "text/x-python",
   "name": "python",
   "nbconvert_exporter": "python",
   "pygments_lexer": "ipython3",
   "version": "3.7.9"
  }
 },
 "nbformat": 4,
 "nbformat_minor": 5
}
